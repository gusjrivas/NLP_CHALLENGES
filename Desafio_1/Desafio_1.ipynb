{
  "cells": [
    {
      "cell_type": "markdown",
      "metadata": {
        "id": "McArD4rSDR2K"
      },
      "source": [
        "# Consigna del desafío 1"
      ]
    },
    {
      "cell_type": "markdown",
      "metadata": {
        "id": "lJgf6GQIIEH1"
      },
      "source": [
        "**1**. Vectorizar documentos. Tomar 5 documentos al azar y medir similaridad con el resto de los documentos.\n",
        "Estudiar los 5 documentos más similares de cada uno analizar si tiene sentido\n",
        "la similaridad según el contenido del texto y la etiqueta de clasificación.\n",
        "\n",
        "**2**. Entrenar modelos de clasificación Naïve Bayes para maximizar el desempeño de clasificación\n",
        "(f1-score macro) en el conjunto de datos de test. Considerar cambiar parámteros\n",
        "de instanciación del vectorizador y los modelos y probar modelos de Naïve Bayes Multinomial\n",
        "y ComplementNB.\n",
        "\n",
        "**3**. Transponer la matriz documento-término. De esa manera se obtiene una matriz\n",
        "término-documento que puede ser interpretada como una colección de vectorización de palabras.\n",
        "Estudiar ahora similaridad entre palabras tomando 5 palabras y estudiando sus 5 más similares. **La elección de palabras no debe ser al azar para evitar la aparición de términos poco interpretables, elegirlas \"manualmente\"**.\n"
      ]
    },
    {
      "cell_type": "markdown",
      "metadata": {},
      "source": []
    },
    {
      "cell_type": "markdown",
      "metadata": {},
      "source": [
        "# Desarrollo desafío 1\n",
        "\n",
        "\n"
      ]
    },
    {
      "cell_type": "markdown",
      "metadata": {},
      "source": [
        "### Se cargan librerías"
      ]
    },
    {
      "cell_type": "code",
      "execution_count": 25,
      "metadata": {},
      "outputs": [],
      "source": [
        "from sklearn.feature_extraction.text import CountVectorizer, TfidfVectorizer\n",
        "from sklearn.metrics.pairwise import cosine_similarity\n",
        "from sklearn.naive_bayes import MultinomialNB, ComplementNB\n",
        "from sklearn.metrics import f1_score\n",
        "from sklearn.datasets import fetch_20newsgroups\n",
        "from sklearn.model_selection import RandomizedSearchCV\n",
        "from sklearn.pipeline import Pipeline\n",
        "from utils import analyze_document_similarity, find_top_similar_terms\n",
        "\n",
        "import numpy as np\n"
      ]
    },
    {
      "cell_type": "markdown",
      "metadata": {},
      "source": [
        "### Carga de los datos"
      ]
    },
    {
      "cell_type": "code",
      "execution_count": 26,
      "metadata": {},
      "outputs": [],
      "source": [
        "newsgroups_train = fetch_20newsgroups(subset='train', remove=('headers', 'footers', 'quotes'))\n",
        "newsgroups_test = fetch_20newsgroups(subset='test', remove=('headers', 'footers', 'quotes'))"
      ]
    },
    {
      "cell_type": "markdown",
      "metadata": {},
      "source": [
        "### 1. Vectorización de documentos\n",
        "Vectorizar documentos. Tomar 5 documentos al azar y medir similaridad con el resto de los documentos. Estudiar los 5 documentos más similares de cada uno analizar si tiene sentido la similaridad según el contenido del texto y la etiqueta de clasificación.\n",
        "\n",
        "Se inicializa el vectorizador TF-IDF y se entrena"
      ]
    },
    {
      "cell_type": "code",
      "execution_count": 27,
      "metadata": {},
      "outputs": [],
      "source": [
        "tfidfvect = TfidfVectorizer()\n",
        "\n",
        "X_train = tfidfvect.fit_transform(newsgroups_train.data)\n",
        "y_train = newsgroups_train.target"
      ]
    },
    {
      "cell_type": "code",
      "execution_count": 28,
      "metadata": {},
      "outputs": [
        {
          "name": "stdout",
          "output_type": "stream",
          "text": [
            "<class 'scipy.sparse._csr.csr_matrix'>\n",
            "Shape: (11314, 101631)\n",
            "Number of documents: 11314\n",
            "Vocabulary size: 101631\n"
          ]
        }
      ],
      "source": [
        "print(type(X_train))\n",
        "print(f'Shape: {X_train.shape}')\n",
        "print(f'Number of documents: {X_train.shape[0]}')\n",
        "print(f'Vocabulary size: {X_train.shape[1]}')"
      ]
    },
    {
      "cell_type": "markdown",
      "metadata": {},
      "source": [
        "Se obtienen los identificadores de cinco documentos al aza"
      ]
    },
    {
      "cell_type": "code",
      "execution_count": 46,
      "metadata": {},
      "outputs": [
        {
          "name": "stdout",
          "output_type": "stream",
          "text": [
            "Randomly selected documents indices: [5925 4517  500  919 4859]\n"
          ]
        }
      ],
      "source": [
        "np.random.seed(30)\n",
        "\n",
        "documents_idx = np.random.choice(X_train.shape[0], 5)\n",
        "print(f\"Randomly selected documents indices: {documents_idx}\")"
      ]
    },
    {
      "cell_type": "markdown",
      "metadata": {},
      "source": [
        "### Análisis del documento 5925"
      ]
    },
    {
      "cell_type": "code",
      "execution_count": 50,
      "metadata": {},
      "outputs": [
        {
          "name": "stdout",
          "output_type": "stream",
          "text": [
            "Most similar documents to document 5925: [8379 1205 1589 7206 1706]\n"
          ]
        }
      ],
      "source": [
        "main_idx = 5925\n",
        "\n",
        "# Calculate the cosine similarity between the main document and all the other documents\n",
        "cos_sim = cosine_similarity(X_train[main_idx], X_train)[0]\n",
        "\n",
        "# Get the indices of the most similar documents\n",
        "most_similar_idx = np.argsort(cos_sim)[::-1][1:6]\n",
        "\n",
        "print(f'Most similar documents to document {main_idx}: {most_similar_idx}')"
      ]
    },
    {
      "cell_type": "markdown",
      "metadata": {},
      "source": [
        "Se muestra el contenido del documento que hemos seleccionado"
      ]
    },
    {
      "cell_type": "code",
      "execution_count": 51,
      "metadata": {},
      "outputs": [
        {
          "name": "stdout",
          "output_type": "stream",
          "text": [
            "Class for document 5925: rec.sport.baseball\n",
            "Content:\n",
            "\n",
            "Why not?  Brooks Robinson is a defensive liability too, and Ted\n",
            "Williams is a weak hitter.  Even great players decline as they age.\n"
          ]
        }
      ],
      "source": [
        "print(f'Class for document {main_idx}: {newsgroups_train.target_names[y_train[main_idx]]}')\n",
        "print(f'Content:\\n{newsgroups_train.data[main_idx]}')"
      ]
    },
    {
      "cell_type": "markdown",
      "metadata": {},
      "source": [
        "El documento seleccionado parece estar relacionado con comentarios deportivos acerca de jugadores de basket."
      ]
    },
    {
      "cell_type": "markdown",
      "metadata": {},
      "source": [
        "Se analizan los documentos más similares"
      ]
    },
    {
      "cell_type": "code",
      "execution_count": 53,
      "metadata": {},
      "outputs": [
        {
          "name": "stdout",
          "output_type": "stream",
          "text": [
            "\n",
            "Top 5 Similar Documents:\n",
            "--------------------------------------------------\n",
            "\n",
            "==================================================\n",
            "Analyzing Document 8379\n",
            "==================================================\n",
            "Content:\n",
            "\n",
            "That's rich... Ozzie Smith a defensive liability...\n",
            "\n",
            "Document Class: rec.sport.baseball\n",
            "Reference Document Class: rec.sport.baseball\n",
            "==================================================\n",
            "\n",
            "==================================================\n",
            "Analyzing Document 1205\n",
            "==================================================\n",
            "Content:\n",
            "\n",
            "\n",
            "Gretzky, Lemieux, Gilmour etc do not play the role of checking centreman.\n",
            "They play an offensive role as opposed to a defensive one.  If they\n",
            "were used as defensive centres it would be a waste of th\n",
            "\n",
            "Document Class: rec.sport.hockey\n",
            "Reference Document Class: rec.sport.baseball\n",
            "==================================================\n",
            "\n",
            "==================================================\n",
            "Analyzing Document 1589\n",
            "==================================================\n",
            "Content:\n",
            "Don't knock Vaughn for being a spring training .400 hitter\n",
            "but a .250 regular season hitter.\n",
            "Around 30 games played isn't an indication of how good any\n",
            "hitter is, and the quality of pitching is way do\n",
            "\n",
            "Document Class: rec.sport.baseball\n",
            "Reference Document Class: rec.sport.baseball\n",
            "==================================================\n",
            "\n",
            "==================================================\n",
            "Analyzing Document 7206\n",
            "==================================================\n",
            "Content:\n",
            "\n",
            "Why?  Do you expect him to remain the best shortstop in the game until\n",
            "he reaches his seventy-third birthday, or something?  Why is it such a\n",
            "strange concept that a forty-one-year-old Ozzie Smith mig\n",
            "\n",
            "Document Class: rec.sport.baseball\n",
            "Reference Document Class: rec.sport.baseball\n",
            "==================================================\n",
            "\n",
            "==================================================\n",
            "Analyzing Document 1706\n",
            "==================================================\n",
            "Content:\n",
            "\n",
            "i have no idea, nor do i care.  however, i'd like to point out that\n",
            "blomberg got the first plate appearance by a designated hitter, and\n",
            "the first walk by a designated hitter.  i am not sure, but i do\n",
            "\n",
            "Document Class: rec.sport.baseball\n",
            "Reference Document Class: rec.sport.baseball\n",
            "==================================================\n"
          ]
        }
      ],
      "source": [
        "analyze_document_similarity(most_similar_idx,\n",
        "                            newsgroups_train.data,\n",
        "                            newsgroups_train.target,\n",
        "                            newsgroups_train.target_names,\n",
        "                            cos_sim, main_idx)\n",
        " "
      ]
    },
    {
      "cell_type": "markdown",
      "metadata": {},
      "source": [
        "Relación entre los textos:\n",
        "\n",
        "Documentos de béisbol: La mayoría de los documentos analizados están clasificados bajo la categoría rec.sport.baseball, que corresponde a discusiones sobre béisbol. Algunos mencionan jugadores y temas específicos del deporte, como Ozzie Smith o Vaughn.\n",
        "\n",
        "Documento de hockey: Uno de los documentos está clasificado como rec.sport.hockey, y su contenido trata sobre jugadores de hockey, como Gretzky y Lemieux, en roles ofensivos y defensivos.\n",
        "\n",
        "Similitud temática: Aunque uno de los documentos pertenece a la categoría de hockey, los demás están enfocados en béisbol. Todos comparten el contexto deportivo, pero con énfasis en diferentes deportes.\n",
        "\n",
        "La similitud entre estos documentos radica en el contexto deportivo general, aunque algunos se centran en diferentes deportes. La mayoría están alineados en la temática del béisbol."
      ]
    },
    {
      "cell_type": "markdown",
      "metadata": {},
      "source": [
        "### Análisis del documento 4517"
      ]
    },
    {
      "cell_type": "markdown",
      "metadata": {},
      "source": [
        "Se obtienen los índices de los documentos mas similares al doumento 4517"
      ]
    },
    {
      "cell_type": "code",
      "execution_count": 54,
      "metadata": {},
      "outputs": [
        {
          "name": "stdout",
          "output_type": "stream",
          "text": [
            "Most similar documents to document 4517: [ 2757 10703  4710  5509  4637]\n"
          ]
        }
      ],
      "source": [
        "main_idx = 4517\n",
        "\n",
        "# Calculate the cosine similarity between the main document and all the other documents\n",
        "cos_sim = cosine_similarity(X_train[main_idx], X_train)[0]\n",
        "\n",
        "# Get the indices of the most similar documents\n",
        "most_similar_idx = np.argsort(cos_sim)[::-1][1:6]\n",
        "\n",
        "print(f'Most similar documents to document {main_idx}: {most_similar_idx}')"
      ]
    },
    {
      "cell_type": "markdown",
      "metadata": {},
      "source": [
        "Se muestra el contenido del documento seleccionado"
      ]
    },
    {
      "cell_type": "code",
      "execution_count": 55,
      "metadata": {},
      "outputs": [
        {
          "name": "stdout",
          "output_type": "stream",
          "text": [
            "Class for document 4517: comp.os.ms-windows.misc\n",
            "Content:\n",
            "\n",
            "\n",
            "\n",
            "\n",
            "\n",
            "\n",
            "\n",
            "1) make sure your hard drive is defragmented. This will speed up more than \n",
            "   just windows BTW.  Use something like Norton's or PC Tools.\n",
            "2) I _think_ that leaving the wall paper out will use less RAM and therefore\n",
            "   will speed up your machine but I could very will be wrong on this.\n",
            "There's a good chance you've already done this but if not it may speed things\n",
            "up.  good luck\n",
            "\t\t\t\tMorgan Bullard mb4008@coewl.cen.uiuc.edu\n",
            "\t\t\t\t\t  or   mjbb@uxa.cso.uiuc.edu\n"
          ]
        }
      ],
      "source": [
        "print(f'Class for document {main_idx}: {newsgroups_train.target_names[y_train[main_idx]]}')\n",
        "print(f'Content:\\n{newsgroups_train.data[main_idx]}')"
      ]
    },
    {
      "cell_type": "markdown",
      "metadata": {},
      "source": [
        "El contenido del documento aborda temas relacionados con la optimización del rendimiento en computadoras que usan Windows. Los puntos clave que se tocan incluyen:\n",
        "\n",
        "- Desfragmentación del disco duro\n",
        "- Uso de recursos del sistema\n",
        "- Consejos generales de optimización"
      ]
    },
    {
      "cell_type": "markdown",
      "metadata": {},
      "source": [
        "Se analizan documentos similares"
      ]
    },
    {
      "cell_type": "code",
      "execution_count": 56,
      "metadata": {},
      "outputs": [
        {
          "name": "stdout",
          "output_type": "stream",
          "text": [
            "\n",
            "Top 5 Similar Documents:\n",
            "--------------------------------------------------\n",
            "\n",
            "==================================================\n",
            "Analyzing Document 2757\n",
            "==================================================\n",
            "Content:\n",
            "\n",
            "I was wondering if any one knew how the various hard drive compression utilities work.  My hard\n",
            "drive is getting full and I don't want to have to buy a new one.  What I'm intrested in is speed\n",
            ",ease \n",
            "\n",
            "Document Class: comp.os.ms-windows.misc\n",
            "Reference Document Class: comp.os.ms-windows.misc\n",
            "==================================================\n",
            "\n",
            "==================================================\n",
            "Analyzing Document 10703\n",
            "==================================================\n",
            "Content:\n",
            "\n",
            "\n",
            "\n",
            "That's a standby unit not a UPS, otherwise there would be no interuption.\n",
            "Many standby units are labled as UPS's though.  \n",
            " \t\t\tMorgan Bullard mb4008@coewl.cen.uiuc.edu\n",
            "\t\t\t\t   or  mjbb@uxa.cso.uiuc.\n",
            "\n",
            "Document Class: sci.electronics\n",
            "Reference Document Class: comp.os.ms-windows.misc\n",
            "==================================================\n",
            "\n",
            "==================================================\n",
            "Analyzing Document 4710\n",
            "==================================================\n",
            "Content:\n",
            "\n",
            "\n",
            "Your machine will run at whatever the bus is jumpered to/CMOS is set to\n",
            "(usually wait states) regardless of what speed RAM is installed.  No\n",
            "motherboard can sense the speed of the RAM installed, unl\n",
            "\n",
            "Document Class: comp.sys.ibm.pc.hardware\n",
            "Reference Document Class: comp.os.ms-windows.misc\n",
            "==================================================\n",
            "\n",
            "==================================================\n",
            "Analyzing Document 5509\n",
            "==================================================\n",
            "Content:\n",
            "rvenkate@ux4.cso.uiuc.edu (Ravikuma Venkateswar) writes ...\n",
            "\n",
            "Benchmarks are for marketing dweebs and CPU envy.  OK, if it will make\n",
            "you happy, the 486 is faster than the 040.  BFD.  Both architectures\n",
            "\n",
            "Document Class: comp.sys.mac.hardware\n",
            "Reference Document Class: comp.os.ms-windows.misc\n",
            "==================================================\n",
            "\n",
            "==================================================\n",
            "Analyzing Document 4637\n",
            "==================================================\n",
            "Content:\n",
            "From article <C5quw0.Btq@ux1.cso.uiuc.edu>, by mikeh@ux1.cso.uiuc.edu (Mike Hollyman):\n",
            "\tI dont think its the carbs that are out, I would suspect that\n",
            "the cam timing is out, & as you say that you had t\n",
            "\n",
            "Document Class: rec.motorcycles\n",
            "Reference Document Class: comp.os.ms-windows.misc\n",
            "==================================================\n"
          ]
        }
      ],
      "source": [
        "analyze_document_similarity(most_similar_idx,\n",
        "                            newsgroups_train.data,\n",
        "                            newsgroups_train.target,\n",
        "                            newsgroups_train.target_names,\n",
        "                            cos_sim, main_idx)"
      ]
    },
    {
      "cell_type": "markdown",
      "metadata": {},
      "source": [
        "El análisis de similitud entre los documentos revela que, aunque todos los textos pertenecen a distintas categorías temáticas, comparten elementos relacionados con tecnología y hardware, pero desde diferentes enfoques. Se observan las siguientes similitudes y diferencias:\n",
        "\n",
        "Similitudes:\n",
        "\n",
        "Temática tecnológica: Todos los documentos tocan temas relacionados con la tecnología, el hardware o el funcionamiento técnico de sistemas. Esto incluye preguntas sobre hardware de computadoras, compresión de discos o configuraciones de hardware.\n",
        "Consejos técnicos: Varios textos ofrecen o solicitan soluciones o explicaciones técnicas, como en el caso de las utilidades de compresión de disco, la velocidad de la RAM, o la discusión sobre unidades de energía UPS.\n",
        "\n",
        "Referencias a configuraciones o componentes: Los documentos se refieren a configuraciones de hardware, como la velocidad del bus o la comparación entre arquitecturas de procesadores, lo cual es consistente con la categoría \"comp.os.ms-windows.misc\".\n",
        "\n",
        "Diferencias:\n",
        "\n",
        "Categoría de los documentos: Aunque el documento de referencia pertenece a \"comp.os.ms-windows.misc\", varios documentos analizados pertenecen a diferentes categorías, como sci.electronics, comp.sys.ibm.pc.hardware, comp.sys.mac.hardware y rec.motorcycles. Esto sugiere que aunque hay similitud temática, los tópicos específicos varían desde sistemas operativos de Windows hasta discusiones sobre motocicletas.\n",
        "\n",
        "Enfoque del contenido: Algunos documentos están más centrados en el hardware (por ejemplo, velocidad de RAM o benchmarks de procesadores), mientras que otros tocan temas más amplios, como la energía ininterrumpida o incluso la mecánica de motocicletas.\n",
        "Relación general:\n",
        "\n",
        "Todos los documentos están conectados a la tecnología o la optimización del rendimiento de sistemas, pero cubren un rango amplio de subtemas, desde software hasta hardware, y en un caso incluso fuera del ámbito computacional (motocicletas). Aunque hay una base común en tecnología, los detalles y las categorías varían bastante."
      ]
    },
    {
      "cell_type": "markdown",
      "metadata": {},
      "source": [
        "### Análisis del documento 500  \n",
        "\n",
        "Se obtienen los índices de los documentos mas similares al doumento 500\n",
        " "
      ]
    },
    {
      "cell_type": "code",
      "execution_count": 57,
      "metadata": {},
      "outputs": [
        {
          "name": "stdout",
          "output_type": "stream",
          "text": [
            "Most similar documents to document 500: [3174 5786 9867  576 6676]\n"
          ]
        }
      ],
      "source": [
        "main_idx = 500\n",
        "\n",
        "# Calculate the cosine similarity between the main document and all the other documents\n",
        "cos_sim = cosine_similarity(X_train[main_idx], X_train)[0]\n",
        "\n",
        "# Get the indices of the most similar documents\n",
        "most_similar_idx = np.argsort(cos_sim)[::-1][1:6]\n",
        "\n",
        "print(f'Most similar documents to document {main_idx}: {most_similar_idx}')"
      ]
    },
    {
      "cell_type": "markdown",
      "metadata": {},
      "source": [
        "Se muestra el contenido del documento seleccionado"
      ]
    },
    {
      "cell_type": "code",
      "execution_count": 58,
      "metadata": {},
      "outputs": [
        {
          "name": "stdout",
          "output_type": "stream",
          "text": [
            "Class for document 500: comp.os.ms-windows.misc\n",
            "Content:\n",
            "\n",
            "I got one from Microsoft tech support.\n",
            "\n"
          ]
        }
      ],
      "source": [
        "print(f'Class for document {main_idx}: {newsgroups_train.target_names[y_train[main_idx]]}')\n",
        "print(f'Content:\\n{newsgroups_train.data[main_idx]}')"
      ]
    },
    {
      "cell_type": "markdown",
      "metadata": {},
      "source": [
        "El documento está clasificado en la categoría comp.os.ms-windows.misc, lo que indica que está relacionado con discusiones generales sobre Windows o problemas técnicos asociados con el sistema operativo."
      ]
    },
    {
      "cell_type": "markdown",
      "metadata": {},
      "source": [
        "Se analizan documentos similares"
      ]
    },
    {
      "cell_type": "code",
      "execution_count": 59,
      "metadata": {},
      "outputs": [
        {
          "name": "stdout",
          "output_type": "stream",
          "text": [
            "\n",
            "Top 5 Similar Documents:\n",
            "--------------------------------------------------\n",
            "\n",
            "==================================================\n",
            "Analyzing Document 3174\n",
            "==================================================\n",
            "Content:\n",
            "This probably is in a FAQ somewhere, but....\n",
            "\n",
            "I'm looking for Microsoft's internal speaker sound driver for Windows.\n",
            "\n",
            "Should be at Microsoft's FTP site, but I can't remember the name of the site...\n",
            "\n",
            "Document Class: comp.os.ms-windows.misc\n",
            "Reference Document Class: comp.os.ms-windows.misc\n",
            "==================================================\n",
            "\n",
            "==================================================\n",
            "Analyzing Document 5786\n",
            "==================================================\n",
            "Content:\n",
            "FOR SALE !!!\n",
            "\n",
            "      DECpc 325sxLP\n",
            "\n",
            "   It's in very good condition, used for one year. It has\n",
            "\n",
            "      - 25 Mhz Intel 386\n",
            "      - 52 MB Hard Disk\n",
            "      - Super Color VGA Monitor\n",
            "      - 2-button mouse\n",
            "  \n",
            "\n",
            "Document Class: comp.sys.ibm.pc.hardware\n",
            "Reference Document Class: comp.os.ms-windows.misc\n",
            "==================================================\n",
            "\n",
            "==================================================\n",
            "Analyzing Document 9867\n",
            "==================================================\n",
            "Content:\n",
            "As quoted from <1993Apr17.025258.7013@microsoft.com> by anthonyf@microsoft.com (Anthony Francisco):\n",
            "\n",
            "\n",
            "That's life.  First you marry Imelda Marcos, then you die! :)\n",
            "\n",
            "\n",
            "And that's the HARD stuff to copy!\n",
            "\n",
            "Document Class: talk.politics.guns\n",
            "Reference Document Class: comp.os.ms-windows.misc\n",
            "==================================================\n",
            "\n",
            "==================================================\n",
            "Analyzing Document 576\n",
            "==================================================\n",
            "Content:\n",
            "\n",
            "I tried the right set and it didn't work.  I'm on the phone to their\n",
            "tech support right now and the guys doesn't know what a desktop\n",
            "rebuild is!!!  He's got me holding for someone else...............\n",
            "\n",
            "Document Class: comp.sys.mac.hardware\n",
            "Reference Document Class: comp.os.ms-windows.misc\n",
            "==================================================\n",
            "\n",
            "==================================================\n",
            "Analyzing Document 6676\n",
            "==================================================\n",
            "Content:\n",
            "OK..... thanks to all of you who responded to my post.\n",
            "here's the \"official\" response from orchid..\n",
            "Orchid is aware of the problem, the new rev of the board (rev d) SHOULD         (not would) take car\n",
            "\n",
            "Document Class: comp.sys.ibm.pc.hardware\n",
            "Reference Document Class: comp.os.ms-windows.misc\n",
            "==================================================\n"
          ]
        }
      ],
      "source": [
        "analyze_document_similarity(most_similar_idx,\n",
        "                            newsgroups_train.data,\n",
        "                            newsgroups_train.target,\n",
        "                            newsgroups_train.target_names,\n",
        "                            cos_sim, main_idx)"
      ]
    },
    {
      "cell_type": "markdown",
      "metadata": {},
      "source": [
        "Análisis de Similitudes:\n",
        "\n",
        "Los textos comparten un enfoque común en temas relacionados con la tecnología y el soporte técnico. Hay un énfasis en la búsqueda de soluciones a problemas de hardware y software, así como en la necesidad de asistencia técnica. Algunos textos discuten la adquisición o venta de hardware, mientras que otros abordan problemas específicos y la comunicación con el soporte técnico.\n",
        "\n",
        "Conclusión:\n",
        "\n",
        "La discusión refleja un interés general en la resolución de problemas tecnológicos, con un enfoque en la interacción con el soporte técnico y el manejo de equipos informáticos. Esta variedad de temas resalta la importancia de la comunidad en la búsqueda de soluciones y el intercambio de información técnica."
      ]
    },
    {
      "cell_type": "markdown",
      "metadata": {},
      "source": [
        "### Analisis del documento 919\n",
        "\n",
        "Se obtienen los índices mas similares al documento 919"
      ]
    },
    {
      "cell_type": "code",
      "execution_count": 60,
      "metadata": {},
      "outputs": [
        {
          "name": "stdout",
          "output_type": "stream",
          "text": [
            "Most similar documents to document 919: [9623 6437 1292 3282 7286]\n"
          ]
        }
      ],
      "source": [
        "main_idx = 919\n",
        "\n",
        "# Calculate the cosine similarity between the main document and all the other documents\n",
        "cos_sim = cosine_similarity(X_train[main_idx], X_train)[0]\n",
        "\n",
        "# Get the indices of the most similar documents\n",
        "most_similar_idx = np.argsort(cos_sim)[::-1][1:6]\n",
        "\n",
        "print(f'Most similar documents to document {main_idx}: {most_similar_idx}')"
      ]
    },
    {
      "cell_type": "markdown",
      "metadata": {},
      "source": [
        "Se muestra el contenido del documento seleccionado"
      ]
    },
    {
      "cell_type": "code",
      "execution_count": 61,
      "metadata": {},
      "outputs": [
        {
          "name": "stdout",
          "output_type": "stream",
          "text": [
            "Class for document 919: talk.politics.mideast\n",
            "Content:\n",
            "Accounts of Anti-Armenian Human Right Violatins in Azerbaijan #009\n",
            "                 Prelude to Current Events in Nagorno-Karabakh\n",
            "\n",
            "      +-----------------------------------------------------------------+\n",
            "      |                                                                 |\n",
            "      | There were about six burned people in there, and the small      |\n",
            "      | corpse of a burned child. It was gruesome. I suffered a         |\n",
            "      | tremendous shock. There were about ten people there, but the    |\n",
            "      | doctor on duty said that because of the numbers they were being |\n",
            "      | taken to Baku. There was a woman's corpse there too, she had    |\n",
            "      | been . . . well, there was part of a body there . . . a         |\n",
            "      | hacked-off part of a woman's body. It was something terrible.   |\n",
            "      |                                                                 |\n",
            "      +-----------------------------------------------------------------+\n",
            "\n",
            "DEPOSITION OF ROMAN ALEKSANDROVICH GAMBARIAN\n",
            "\n",
            "   Born 1954\n",
            "   Senior Engineer\n",
            "   Sumgait Automotive Transport Production Association\n",
            "\n",
            "   Resident at Building 17/33B, Apartment 40\n",
            "   Microdistrict No. 3\n",
            "   Sumgait [Azerbaijan]\n",
            "\n",
            "\n",
            "What happened in Sumgait was a great tragedy, an awful tragedy for us, the \n",
            "Armenian people, and for all of mankind. A genocide of Armenians took place\n",
            "during peacetime.\n",
            "\n",
            "And it was a great tragedy for me personally, because I lost my father in\n",
            "those days. He was still young. Born in 1926.\n",
            "\n",
            "On that day, February 28, we were at home. Of course we had heard that there \n",
            "was unrest in town, my younger brother Aleksandr had told us about it. But we \n",
            "didn't think . . . we thought that everything would happen outdoors, that they\n",
            "wouldn't go into people's apartments. About five o'clock we saw a large crowd \n",
            "near the Kosmos movie theater in our microdistrict. We were sitting at home \n",
            "watching television. We go out on the balcony and see the crowd pour into Mir \n",
            "Street. This is right near downtown, next to the airline ticket office, our \n",
            "house is right nearby. That day there was a group of policeman with shields\n",
            "there. They threw rocks at those policemen. Then they moved off in the \n",
            "direction of our building. They burned a motorcycle in our courtyard and \n",
            "started shouting for Armenians to come out of the building. We switched off \n",
            "the light. As it turns out, their signal was just the opposite: to turn on the\n",
            "light. That meant that it was an Azerbaijani home. We, of course, didn't know \n",
            "and thought that if they saw lights on they would come to our apartment.\n",
            "\n",
            "Suddenly there's pounding on the door. We go to the door, all four of us:\n",
            "there were four of us in the apartment. Father, Mother, my younger brother\n",
            "Aleksandr, and I. He was born in 1959. My father was a veteran of World War \n",
            "II and had fought in China and in the Soviet Far East; he was a pilot.\n",
            "\n",
            "We went to the door and they started pounding on it harder, breaking it down \n",
            "with axes. We start to talk to them in Azerbaijani, \"What's going on? What's \n",
            "happened?\" They say, \"Armenians, get out of here!\" We don't open the door, we \n",
            "say, \"If we have to leave, we'll leave, we'll leave tomorrow.\" They say, \"No, \n",
            "leave now, get out of here, Armenian dogs, get out of here!\" By now they've \n",
            "broken the door both on the lock and the hinge sides. We hold them off as best\n",
            "we can, my father and I on one side, and my mother and brother on the other. \n",
            "We had prepared ourselves: we had several hammers and an axe in the apartment,\n",
            "and grabbed what we could find to defend ourselves. They broke in the door and\n",
            "when the door gave way, we held it for another half-hour. No neighbors, no\n",
            "police and no one from the city government came to our aid the whole time. We \n",
            "held the door. They started to smash the door on the lock side, first with an \n",
            "axe, and then with a crowbar.\n",
            "\n",
            "When the door gave way--they tore it off its hinges--Sasha hit one of them \n",
            "with the axe. The axe flew out of his hands. They also had axes, crowbars, \n",
            "pipes, and special rods made from armature shafts. One of them hit my father \n",
            "in the head. The pressure from the mob was immense. When we retreated into the\n",
            "room, one of them hit my mother, too, in the left part of her face. My brother\n",
            "Sasha and I fought back, of course. Sasha is quite strong and hot-tempered, he\n",
            "was the judo champion of Sumgait. We had hammers in our hands, and we injured \n",
            "several of the bandits--in the heads and in the eyes, all that went on. But \n",
            "they, the injured ones, fell back, and others came to take their places, there\n",
            "were many of them.\n",
            "\n",
            "The door fell down at an angle. The mob tried to remove the door, so as to go \n",
            "into the second room and to continue . . . to finish us off. Father brought \n",
            "skewers and gave them to Sasha and me--we flew at them when we saw Father \n",
            "bleeding: his face was covered with blood, he had been wounded in the head, \n",
            "and his whole face was bloody. We just threw ourselves on them when we saw \n",
            "that. We threw ourselves at the mob and drove back the ones in the hall, drove\n",
            "them down to the third floor. We came out on the landing, but a group of the \n",
            "bandits remained in one of the rooms they were smashing all the furniture in \n",
            "there, having closed the door behind them. We started tearing the door off to \n",
            "chase away the remaining ones or finish them. Then a man, an imposing man of \n",
            "about 40, an Azerbaijani, came in. When he was coming in, Father fell down and\n",
            "Mother flew to him, and started to cry out. I jumped out onto the balcony and \n",
            "started calling an ambulance, but then the mob started throwing stones through\n",
            "the windows of our veranda and kitchen. We live on the fourth floor. And no \n",
            "one came. I went into the room. It seemed to me that this man was the leader \n",
            "of the group. He was respectably dressed in a hat and a trench coat with a \n",
            "fur collar. And he addressed my mother in Azerbaijani: \"What's with you, \n",
            "woman, why are you shouting? What happened? Why are you shouting like that?\"\n",
            "She says, \"What do you mean, what happened? You killed somebody!\" My father \n",
            "was a musician, he played the clarinet, he played at many weddings, Armenian \n",
            "and Azerbaijani, he played for many years. Everyone knew him. Mother says, \n",
            "\"The person who you killed played at thousands of Azerbaijani weddings, he \n",
            "brought so much joy to people, and you killed that person.\" He says, \"You \n",
            "don't need to shout, stop shouting.\" And when they heard the voice of this \n",
            "man, the 15 to 18 people who were in the other room opened the door and \n",
            "started running out. We chased after them, but they ran away. That man left, \n",
            "too. As we were later told, downstairs one of them told the others, I don't \n",
            "know if it was from fright or what, told them that we had firearms, even\n",
            "though we only fought with hammers and an axe. We raced to Father and started \n",
            "to massage his heart, but it was already too late. We asked the neighbors to \n",
            "call an ambulance. The ambulance never came, although we waited for it all \n",
            "evening and all through the night.\n",
            "\n",
            "Somewhere around midnight about 15 policemen came. They informed us they were \n",
            "from Khachmas. They said, \"We heard that a group was here at your place, you \n",
            "have our condolences.\" They told us not to touch anything and left. Father lay\n",
            "in the room.\n",
            "\n",
            "So we stayed home. Each of us took a hammer and a knife. We sat at home. Well,\n",
            "we say, if they descend on us again we'll defend ourselves. Somewhere around \n",
            "one o'clock in the morning two people came from the Sumgait Procuracy, \n",
            "investigators. They say, \"Leave everything just how it is, we're coming back \n",
            "here soon and will bring an expert who will record and photograph everything.\"\n",
            "Then people came from the Republic Procuracy too, but no one helped us take \n",
            "Father away. The morning came and the neighbors arrived. We wanted to take \n",
            "Father away somehow. We called the Procuracy and the police a couple of times,\n",
            "but no one came. We called an ambulance, and nobody came. Then one of the \n",
            "neighbors said that the bandits were coming to our place again and we should \n",
            "hide. We secured the door somehow or other. We left Father in the room and \n",
            "went up to the neighbor's.\n",
            "\n",
            "The excesses began again in the morning. The bandits came in several vehicles,\n",
            "ZIL panel trucks, and threw themselves out of the vehicles like . . . a \n",
            "landing force near the center of town. Our building was located right there. A\n",
            "crowd formed. Then they started fighting with the soldiers. Then, in Buildings\n",
            "19 and 20, that's next to the airline ticket office, they started breaking \n",
            "into Armenian apartments, destroying property, and stealing. The Armenians \n",
            "weren't at home, they had managed to flee and hide somewhere. And again they \n",
            "poured in the direction of our building. They were shouting that there were \n",
            "some Armenians left on the fourth floor, meaning us. \"They're up there, still,\n",
            "up there. Let's go kill them!\" They broke up all the furniture remaining in \n",
            "the two rooms, threw it outside, and burned it in large fires. We were hiding \n",
            "one floor up. Something heavy fell. Sasha threw himself toward the door \n",
            "shouting that it was probably Father, they had thrown Father, were defiling \n",
            "the corpse, probably throwing it in the fire, going to burn it. I heard it, \n",
            "and the sound was kind of hollow, and I said, \"No, that's from some of the \n",
            "furniture.\" Mother and I pounced on Sasha and stopped him somehow, and calmed \n",
            "him down.\n",
            "\n",
            "The mob left somewhere around eight o'clock. They smashed open the door and \n",
            "went into the apartment of the neighbors across from us. They were also\n",
            "Armenians, they had left for another city.\n",
            "\n",
            "The father of the neighbor who was concealing us came and said, \"Are you \n",
            "crazy? Why are you hiding Armenians? Don't you now they're checking all the \n",
            "apartments? They could kill you and them!\" And to us :\" . . . Come on, leave \n",
            "this apartment!\" We went down to the third floor, to some other neighbors'. At\n",
            "first the man didn't want to let us in, but then one of his sons asked him and\n",
            "he relented. We stayed there until eleven o'clock at night. We heard the sound\n",
            "of motors. The neighbors said that it was armored personnel carriers. We went \n",
            "downstairs. There was a light on in the room where we left Father. In the \n",
            "other rooms, as we found out later, all the chandeliers had been torn down. \n",
            "They left only one bulb. The bulb was burning, which probably was a signal \n",
            "they had agreed on because there was a light burning in every apartment in our\n",
            "Microdistrict 3 where there had been a pogrom.\n",
            "\n",
            "With the help of the soldiers we made it to the City Party Committee and were \n",
            "saved. Our salvation--my mother's, my brother's, and mine,--was purely \n",
            "accidental, because, as we later found out from the neighbors, someone in the \n",
            "crowd shouted that we had firearms up there. Well, we fought, but we were only\n",
            "able to save Mother. We couldn't save Father. We inflicted many injuries on \n",
            "the bandits, some of them serious. But others came to take their places. We \n",
            "were also wounded, there was blood, and we were scratched all over--we got our\n",
            "share. It was a miracle we survived. We were saved by a miracle and the \n",
            "troops. And if troops hadn't come to Sumgait, the slaughter would have been \n",
            "even greater: probably all the Armenians would have been victims of the \n",
            "genocide.\n",
            "\n",
            "Through an acquaintance at the City Party Committee I was able to contact the \n",
            "leadership of the military unit that was brought into the city, and at their \n",
            "orders we were assigned special people to accompany us, experts. We went to '\n",
            "pick up Father's corpse. We took it to the morgue. This was about two o'clock \n",
            "in the morning, it was already March 1, it was raining very hard and it was \n",
            "quite cold, and we were wearing only our suits. When my brother and I carried \n",
            "Father into the morgue we saw the burned and disfigured corpses. There were \n",
            "about six burned people in there, and the small corpse of a burned child. It \n",
            "was gruesome. I suffered a tremendous shock. There were about ten people \n",
            "there, but the doctor on duty said that because of the numbers they were being\n",
            "taken to Baku. There was a woman's corpse there too, she had been . . . well, \n",
            "there was part of a body there . . . a hacked-off part of a woman's body. It \n",
            "was something terrible. The morgue was guarded by the landing force . . . The \n",
            "child that had been killed was only ten or twelve years old. It was impossible\n",
            "to tell if it was a boy or a girl because the corpse was burned. There was a \n",
            "man there, too, several men. You couldn't tell anything because their faces \n",
            "were disfigured, they were in such awful condition...\n",
            "\n",
            "Now two and a half months have passed. Every day I recall with horror what \n",
            "happened in the city of Sumgait. Every day: my father, and the death of my \n",
            "father, and how we fought, and the people's sorrow, and especially the morgue.\n",
            "\n",
            "I still want to say that 70 years have passed since Soviet power was\n",
            "established, and up to the very last minute we could not conceive of what \n",
            "happened  in Sumgait. It will go down in history.\n",
            "\n",
            "I'm particularly surprised that the mob wasn't even afraid of the troops. They\n",
            "even fought the soldiers. Many soldiers were wounded. The mob threw fuel \n",
            "mixtures onto the armored personnel carriers, setting them on fire. They \n",
            "weren't afraid. They were so sure of their impunity that they attacked our \n",
            "troops. I saw the clashes on February 29 near the airline ticket office, right\n",
            "across from our building. And that mob was fighting with the soldiers. The \n",
            "inhabitants of some of the buildings, also Azerbaijanis, threw rocks at the \n",
            "soldiers from windows, balconies, even cinder blocks and glass tanks. They \n",
            "weren't afraid of them. I say they were sure of their impunity. When we were \n",
            "at the neighbors' and when they were robbing homes near the airline ticket \n",
            "office I called the police at number 3-20-02 and said that they were robbing \n",
            "Armenian apartments and burning homes. And they told me that they knew that \n",
            "they were being burned. During those days no one from the police department \n",
            "came to anyone's aid. No one came to help us, either, to our home, even though\n",
            "perhaps they could have come and saved us.\n",
            "\n",
            "As we later found out the mob was given free vodka and drugs, near the bus \n",
            "station. Rocks were distributed in all parts of town to be thrown and used in \n",
            "fighting. So I think all of it was arranged in advance. They even knew in \n",
            "which buildings and apartments the Armenians lived, on which floors--they had\n",
            "lists, the bandits. You can tell that the \"operation\" was  planned in advance.\n",
            "\n",
            "Thanks, of course, to our troops, to the country's leadership, and to the\n",
            "leadership of the Ministry of Defense for helping us, thanks to the Russian\n",
            "people, because the majority of the troops were Russians, and the troops \n",
            "suffered losses, too. I want to express this gratitude in the name of my \n",
            "family and in the name of all Armenians, and in the name of all Sumgait\n",
            "Armenians. For coming in time and averting terrible things: worse would\n",
            "have happened if that mob had not been stopped on time.\n",
            "\n",
            "At present an investigation is being conducted on the part of the USSR\n",
            "Procuracy. I want to say that those bandits should receive the severest\n",
            "possible punishment, because if they don't, the tragedy, the genocide, could \n",
            "happen again. Everyone should see that the most severe punishment is meted\n",
            "out for such deeds.\n",
            "\n",
            "Very many bandits and hardened hooligans took part in the unrest, in the mass \n",
            "disturbances. The mobs were huge. At present not all of them have been caught,\n",
            "very few of them have been, I think, judging by the newspaper reports. There \n",
            "were around 80 people near our building alone, that's how many people took \n",
            "part in the pogrom of our building all in all.\n",
            "\n",
            "They should all receive the most severe punishment so that others see that \n",
            "retribution awaits those who perform such acts.\n",
            "\n",
            "   May 18, 1988\n",
            "   Yerevan\n",
            "\n",
            "\t\t     - - - reference - - -\n",
            "\n",
            "[1] _The Sumgait Tragedy; Pogroms against Armenians in Soviet Azerbaijan,\n",
            "    Volume I, Eyewitness Accounts_, edited by Samuel Shahmuradian, forward by\n",
            "    Yelena Bonner, 1990, published by Aristide D. Caratzas, NY, pages 153-157\n",
            "\n",
            "\n"
          ]
        }
      ],
      "source": [
        "print(f'Class for document {main_idx}: {newsgroups_train.target_names[y_train[main_idx]]}')\n",
        "print(f'Content:\\n{newsgroups_train.data[main_idx]}')"
      ]
    },
    {
      "cell_type": "markdown",
      "metadata": {},
      "source": [
        "Este documento ilustra una tragedia humanitaria, destacando los efectos devastadores del conflicto étnico y la violencia que puede surgir en tiempos de tensión. Además, enfatiza la necesidad de memoria y justicia para las víctimas de tales atrocidades, que siguen marcando la historia y la identidad de los pueblos involucrados. Categorizado en temas políticos de medio oriente"
      ]
    },
    {
      "cell_type": "markdown",
      "metadata": {},
      "source": [
        "Se analizan documentos similares"
      ]
    },
    {
      "cell_type": "code",
      "execution_count": 62,
      "metadata": {},
      "outputs": [
        {
          "name": "stdout",
          "output_type": "stream",
          "text": [
            "\n",
            "Top 5 Similar Documents:\n",
            "--------------------------------------------------\n",
            "\n",
            "==================================================\n",
            "Analyzing Document 9623\n",
            "==================================================\n",
            "Content:\n",
            "Accounts of Anti-Armenian Human Right Violations in Azerbaijan #012\n",
            "                 Prelude to Current Events in Nagorno-Karabakh\n",
            "\n",
            "        +---------------------------------------------------------+\n",
            "\n",
            "\n",
            "Document Class: talk.politics.mideast\n",
            "Reference Document Class: talk.politics.mideast\n",
            "==================================================\n",
            "\n",
            "==================================================\n",
            "Analyzing Document 6437\n",
            "==================================================\n",
            "Content:\n",
            "Accounts of Anti-Armenian Human Rights Violations in Azerbaijan #007\n",
            "                 Prelude to Current Events in Nagorno-Karabakh\n",
            "\n",
            "\n",
            " +----------------------------------------------------------------\n",
            "\n",
            "Document Class: talk.politics.mideast\n",
            "Reference Document Class: talk.politics.mideast\n",
            "==================================================\n",
            "\n",
            "==================================================\n",
            "Analyzing Document 1292\n",
            "==================================================\n",
            "Content:\n",
            "Accounts of Anti-Armenian Human Right Violations in Azerbaijan #008 Part B\n",
            "                 Prelude to Current Events in Nagorno-Karabakh\n",
            "\n",
            "\t\t\t\t(Part B of #008)\n",
            "\n",
            "      +--------------------------------\n",
            "\n",
            "Document Class: talk.politics.mideast\n",
            "Reference Document Class: talk.politics.mideast\n",
            "==================================================\n",
            "\n",
            "==================================================\n",
            "Analyzing Document 3282\n",
            "==================================================\n",
            "Content:\n",
            "DEPOSITION of VITALY NIKOLAYEVICH DANIELIAN [1]\n",
            "\n",
            "\n",
            "          Born 1972\n",
            "          Attended 9th Grade\n",
            "          Middle School No. 17\n",
            "\n",
            "          Resident at Building 4/2, Apartment 25\n",
            "          Microdistr\n",
            "\n",
            "Document Class: talk.politics.mideast\n",
            "Reference Document Class: talk.politics.mideast\n",
            "==================================================\n",
            "\n",
            "==================================================\n",
            "Analyzing Document 7286\n",
            "==================================================\n",
            "Content:\n",
            "Accounts of Anti-Armenian Human Right Violations in Azerbaijan #008 Part A\n",
            "                 Prelude to Current Events in Nagorno-Karabakh\n",
            "\t\n",
            "\t\t\t\t(Part A of #008)\n",
            "\n",
            "      +-------------------------------\n",
            "\n",
            "Document Class: talk.politics.mideast\n",
            "Reference Document Class: talk.politics.mideast\n",
            "==================================================\n"
          ]
        }
      ],
      "source": [
        "analyze_document_similarity(most_similar_idx,\n",
        "                            newsgroups_train.data,\n",
        "                            newsgroups_train.target,\n",
        "                            newsgroups_train.target_names,\n",
        "                            cos_sim, main_idx)"
      ]
    },
    {
      "cell_type": "markdown",
      "metadata": {},
      "source": [
        "Analisis de Similitudes:\n",
        "\n",
        "Los documentos analizados se centran en las violaciones de derechos humanos contra los armenios en Azerbaiyán, especialmente en el contexto de los recientes acontecimientos en la región de Nagorno-Karabaj. La mayoría de los textos siguen una estructura similar, con encabezados que mencionan explícitamente las violaciones y su relación con la situación geopolítica actual. Esta consistencia en el enfoque refleja la gravedad del tema y la necesidad de documentar los abusos sistemáticos que han tenido lugar.\n",
        "\n",
        "Además, algunos de los documentos forman parte de una serie numerada, lo que sugiere un análisis más extenso y continuo de la problemática. La clasificación de todos los textos bajo la categoría talk.politics.mideast resalta su conexión con discusiones políticas sobre el Medio Oriente, subrayando la relevancia de las violaciones de derechos humanos en el marco del conflicto entre armenios y azeríes."
      ]
    },
    {
      "cell_type": "markdown",
      "metadata": {},
      "source": [
        "### Analisis del documento 4859\n",
        "\n",
        "Se obtienen los índices mas similares al documento 4859"
      ]
    },
    {
      "cell_type": "code",
      "execution_count": 63,
      "metadata": {},
      "outputs": [
        {
          "name": "stdout",
          "output_type": "stream",
          "text": [
            "Most similar documents to document 4859: [5745 9681 1128 3864 1459]\n"
          ]
        }
      ],
      "source": [
        "main_idx = 4859\n",
        "\n",
        "# Calculate the cosine similarity between the main document and all the other documents\n",
        "cos_sim = cosine_similarity(X_train[main_idx], X_train)[0]\n",
        "\n",
        "# Get the indices of the most similar documents\n",
        "most_similar_idx = np.argsort(cos_sim)[::-1][1:6]\n",
        "\n",
        "print(f'Most similar documents to document {main_idx}: {most_similar_idx}')"
      ]
    },
    {
      "cell_type": "markdown",
      "metadata": {},
      "source": [
        "Se muestra el contenido del documento seleccionado"
      ]
    },
    {
      "cell_type": "code",
      "execution_count": 64,
      "metadata": {},
      "outputs": [
        {
          "name": "stdout",
          "output_type": "stream",
          "text": [
            "Class for document 4859: comp.graphics\n",
            "Content:\n",
            "================ ------------------------------------------------------------\n",
            " |||||||| SciP+Fi  ction set in C-Sci\\programming environs list by Ian Feldman\n",
            " ..........:::::: ---------------------------------------- ---- --------------\n",
            " Written by:_____ _Book Title_; publisher'year, pp         v2.7           ISBN\n",
            " -----------       =============================== ------- ==== ##############\n",
            "     John Brunner _Shockwave Rider_; Ray/Ballantine'84 $5_______ 0-345-32431-5\n",
            "                   \"cracking the net to free information for the common good\"\n",
            "      Pat Cadigan _Mindplayers_; (\"an absolute must-have\" --Bruce Sterling)\n",
            "      Pat Cadigan _Synners_; Bantam $5; (virtual reality)_______ 0-553-28254-9\n",
            " Orson Scott Card _Lost Boys_; Harper Collins'92; (programmer and family     \\\n",
            "                   encounters strange events in North Carolina)\n",
            "     Denise Danks _Frame Grabber_; St.Martin's, hrdb [GBP]17____ 0-312-08786-1\n",
            "                   computer-illiterate journalix tracks down murderer via BBS\n",
            "    Toni Dwiggins _Interrupt_; (\"a techno-mystery set in Silicon Valley\")\n",
            "    Michael Frayn _The Tin Men_; Fontana, (\"inspired lunacy\" but out of print)\n",
            "    David Gerrold _When HARLIE was One Release 2.0_; Bantam'88__ 0-553-26465-6\n",
            "   William Gibson _Count Zero_; (computers as gods, part of a trilogy)\n",
            "   William Gibson _Mona Lisa Overdrive_; (virtual reality)______ 0-553-28174-7\n",
            "   William Gibson _Burning Chrome_; (cyberpunk short stories)___ 0-441-08934-8\n",
            "   William Gibson _Neuromancer_; (industrial espionage)_________ 0-441-56959-5\n",
            "                   (author guilty of inventing the cyberpunk genre)\n",
            "      James Hogan _The Genesis Machine_; Del Ray'87 $3__________ 0-345-34756-0\n",
            "      James Hogan _Thrice Upon A Time_; (\"time travel for information\")\n",
            "      James Hogan _The Two Faces of Tomorrow_; Del Ray'79_______ 0-345-27517-9\n",
            "                   ultimate test of AI-OS by letting it run a spacelab -> amok\n",
            "    Stanislaw Lem _His Master's Voice_; (failed attempt to decode ET-message)\n",
            "       Tom Maddox _HALO_ (\"remarkable SF of robots & artificial intelligence\")\n",
            " George RR Martin _Nightflyers_; Tor Books'87___________________ 0-8125-4564-8\n",
            "      R A MacAvoy _Tea with the Black Dragon_; (\"mystery around a computer   \\\n",
            "                   fraud situation; computing bits ring true.\")\n",
            " Vonda N McIntyre _Steelcollar Worker_; in Analog Nov'92; (blue-collar VR)\n",
            "     Marge Piercy _Body of Glass_; Penguin'92, 584pp; (data piracy++) review \\\n",
            "                   finger \"books=Body_of_Glass%danny\"@orthanc.cs.su.oz.au\n",
            " ---> David Pogue _Hard-Drive_; Diamond'93 $5, 304pp____________ 1-55773-884-X\n",
            "                   (*programmer dies in accident, leaves no documentation    \\\n",
            "                   behind; software firms fight for market share with virii; \\\n",
            "                   \"right out of the pages of MacWorld\" --Steve Brock)\n",
            "   Richard Powers _The Gold Bug Variations_; Morrow '91, (famous molecular   \\\n",
            "                   scientist ponders on the ?why? of love, life in EDP dept.)\n",
            "      Paul Preuss _Human Error_; (nanotech computer infects brain-damaged kid)\n",
            "    Thomas J Ryan _The Adolescence of P1_; ACE'79_______________ 0-671-55970-2\n",
            "                   (runaway AI experiment takes over mainframes, wrecks havoc)\n",
            "   Bruce Sterling _The Difference Engine_; (with W Gibson) Bantam'91; finger \\\n",
            "                   \"books=The_Difference_Engine%danny\"@orthanc.cs.su.oz.au\n",
            "      Cliff Stoll _The Cuckoo's Egg_; (non-fiction but reads like one); review\n",
            "                   FTP <garbo.uwasa.fi>; /mac/tidbits/1991/tb048_18-Mar-91.etx\n",
            "     Tom T Thomas _ME_; (\"smart computers\")\n",
            "     Vernor Vinge _Across Realtime_; Baen Books_____________ [several titles \\\n",
            "     Vernor Vinge _Tatja Grimm's World_; Baen Books__________ soon available \\\n",
            "     Vernor Vinge _The Witling_; Baen Books___________________ as Millennium \\\n",
            "     Vernor Vinge _Threats and Other Promises_; Baen Books_____ Books in UK]\n",
            "     Vernor Vinge _True Names & Other Dangers_; Baen Books'87___ 0-671-65363-6\n",
            "     Vernor Vinge _A Fire Upon The Deep_; Tor Books, 640p, $6___ 0-8125-1528-5\n",
            "                   (\"essentially about the future of the Internet\")\n",
            "      John Varley _Press Enter_; (\"Short story, gruesome, but good\")\n",
            "       Ed Yourdon _Silent Witness_; (\"Computer crime caper story; gumshoe    \\\n",
            "                   has to explain intricacies of computer OS to girlfriend\")\n",
            " Herbert W Franke _Das Zentrum der Milchstrasse_; (\"the center of the galaxy\")\n",
            " Herbert W Franke _Letzte Programmierer_; (\"'the last programmer';           \\\n",
            "                   I do NOT mean Frank Herbert!\")\n",
            "       Emil Zopfi _Computer Fuer 1001 Nacht_; Limmat Verlag, Switzerland\n",
            "       Emil Zopfi _Jede Minute Kostet 33 Franken_; (last 4 in German; last 2 \\\n",
            "                   \"set in the commercial computing world of the early 70's\")\n",
            " -----------------------------------------------------------------------------\n",
            " current version of this list via `finger \"scip+fi%danny\"@orthanc.cs.su.oz.au'\n",
            " -----------------------------------------------------------------------------\n",
            " compiled 930424; % mail -s \"additions/ comments/ updates --->\" ianf@random.se\n",
            " ================ ============================================= ==============\n",
            "\n",
            "\f\n",
            "\n",
            "     Statistical breakdown\n",
            "--------------------------\n",
            " +-- --------------------- SciP+Fiction -----+------------+------------------+\n",
            " | # nominations /title    ~~~~~~~~~~~~         /author    # books nominated |\n",
            " +-- =========== ----------------------------+ =========== ================= +\n",
            " | 5 _The Adolescence of P-1_; Ryan          |    Vinge 10          6 titles |\n",
            " | 5 _Neuromancer_; Gibson                   |   Gibson 10          5 titles |\n",
            " | 4 _True Names and Other Dangers_; Vinge   |     Ryan  5 _The Adolescence..|\n",
            " | 4 _Shockwave Rider_; Brunner              |  Brunner  4 _Shockwave Rider_ |\n",
            " | 4 _When H.A.R.L.I.E was One_; Gerrold     |  Gerrold  4 _When H.A.R.L.I.E.|\n",
            " | 4 _A Fire Upon The Deep_; Vinge           |    Hogan  3          3 titles |\n",
            " | 2 _Threats and Other Promises_; Vinge     |      Lem  3 _Fiasco_HMV_Solar.|\n",
            " +-- ----------------------------------------+ ----------- ----------------- +\n",
            " | # total nominations: 85; authors: 27; female: 5?6; sent in by: 42 readers |\n",
            " +======== ================ ============ ============ =======================+\n",
            "\n",
            "\n",
            "       Contributions by [unsorted FIFO]:\n",
            "----------------------------------------\n",
            " From: sbrock@teal.csn.org (Steve Brock)\n",
            " From: \"John Lacey\" <johnl@cs.indiana.edu>\n",
            " From: malloy@nprdc.navy.mil (Sean Malloy)\n",
            " From: thom kevin gillespie <thom@silver.ucs.indiana.edu>\n",
            " From: Paul Christopher Workman <pw0l+@andrew.cmu.edu>\n",
            " From: kellys@code3.code3.com (Kelly Sorensen)\n",
            " From: whughes@lonestar.utsa.edu (William W. Hughes)\n",
            " From: North_TJ@cc.curtin.edu.au (Tim North)\n",
            " From: LORETI@FNAL.FNAL.GOV (Maurizio Loreti)\n",
            " From: Stephen Hart <stephenh@cs.mun.ca>\n",
            " From: Duane F Marble <dmarble@magnus.acs.ohio-state.edu>\n",
            " From: Matthias Neeracher <neeri@iis.ee.ethz.ch>\n",
            " From: Wolfram Wagner <ww@mpi-sb.mpg.de>\n",
            " From: webb@tsavo.HKS.COM (Peter Webb)\n",
            " From: setzer@ssd.comm.mot.com (Thomas Setzer)\n",
            " From: kevles@acf3.NYU.EDU (Beth Kevles)\n",
            " From: dp@world.std.com (Jeff DelPapa)\n",
            " From: rsquires@cyclops.eece.unm.edu (Roger Squires)\n",
            " From: hartman@uLogic.com (Richard Hartman)\n",
            " From: Vernor Vinge <vinge%saturn@sdsu.edu>\n",
            " From: Paul Lebeau <plebeau@cix.compulink.co.uk>\n",
            " From: \"Lawrence Rounds\" <ljr@beach.cis.ufl.edu>\n",
            " From: phydeaux@cumc.cornell.edu (David Weingart)\n",
            " From: chgs02@vaxa.strath.ac.uk (By learning+courtesy)\n",
            " From: Rowan Fairgrove <rowanf@cache.crc.ricoh.com>\n",
            " From: peterc@suite.sw.oz.au.sw.oz.au (Peter Chubb,x114,6982322,3982735)\n",
            " From: Gara Pruesse <gara@cs.toronto.edu>\n",
            " From: russell@alpha3.ersys.edmonton.ab.ca (Russell Schulz)\n",
            " From: ahm@spatula.rent.com (Andreas Meyer)\n",
            " From: jon@cs.washington.edu (Jon Jacky)\n",
            " From: eugene@nas.nasa.gov (Eugene N. Miya)\n",
            " From: \"A.M.MAIR\" <CHGS02@VAXB.STRATHCLYDE.AC.UK>\n",
            " From: mengel@dcdmwm.fnal.gov (Marc Mengel)\n",
            " From: Roger Scowen <rss@seg.npl.co.uk>\n",
            " From: kevino@clbooks.com (Kevin Oster -- System Administrator)\n",
            " From: chavey@cs.wisc.edu (Darrah Chavey)\n",
            " From: Vonda McIntyre <mcintyre@cpac.washington.edu>\n",
            " From: Bruce Sterling <bruces@well.sf.ca.us>\n",
            " From: \"Scott Thomas Yabiku\" <yabi@midway.uchicago.edu>\n",
            " From: Thomas Adshead <uad1212@dircon.co.uk>\n",
            " From: Paul Andrews <76050.161@CompuServe.COM>\n",
            " ===== ======================================= ---------> MUCHO thanks to all!\n",
            "\n"
          ]
        }
      ],
      "source": [
        "print(f'Class for document {main_idx}: {newsgroups_train.target_names[y_train[main_idx]]}')\n",
        "print(f'Content:\\n{newsgroups_train.data[main_idx]}')"
      ]
    },
    {
      "cell_type": "markdown",
      "metadata": {},
      "source": [
        "El documento  es una lista de libros de ciencia ficción que exploran temas tecnológicos como inteligencia artificial, realidad virtual y ciberespacio. Curada por Ian Feldman, incluye obras de autores como William Gibson, Pat Cadigan y John Brunner, con breves descripciones y recomendaciones. Esta clasificado como \"comp.graphics\""
      ]
    },
    {
      "cell_type": "markdown",
      "metadata": {},
      "source": [
        "Se analizan documentos similares"
      ]
    },
    {
      "cell_type": "code",
      "execution_count": 65,
      "metadata": {},
      "outputs": [
        {
          "name": "stdout",
          "output_type": "stream",
          "text": [
            "\n",
            "Top 5 Similar Documents:\n",
            "--------------------------------------------------\n",
            "\n",
            "==================================================\n",
            "Analyzing Document 5745\n",
            "==================================================\n",
            "Content:\n",
            "The vote to create the proposed group, Sci.life-extension, was\n",
            "affirmative.\n",
            "\n",
            "Yes votes:    237.\n",
            "No votes:      28.\n",
            "\n",
            "What follows is a list of the people who voted, by vote (\"no\" or \"yes\").\n",
            "\n",
            "Here are t\n",
            "\n",
            "Document Class: sci.med\n",
            "Reference Document Class: comp.graphics\n",
            "==================================================\n",
            "\n",
            "==================================================\n",
            "Analyzing Document 9681\n",
            "==================================================\n",
            "Content:\n",
            "This is the third and final call for votes for the creation of the\n",
            "newsgroup misc.health.diabetes.  A mass acknowledgement of valid votes\n",
            "received as of April 19th 14:00 GMT appears at the end of this\n",
            "\n",
            "Document Class: sci.med\n",
            "Reference Document Class: comp.graphics\n",
            "==================================================\n",
            "\n",
            "==================================================\n",
            "Analyzing Document 1128\n",
            "==================================================\n",
            "Content:\n",
            "* Attention voters:\n",
            "*\n",
            "* I had a problem with my mailbox on the first day of voting.\n",
            "* Please check the Vote Acknowlegement (ACK) at the end of this CFV.\n",
            "* If your name/address is not there, please sen\n",
            "\n",
            "Document Class: comp.sys.ibm.pc.hardware\n",
            "Reference Document Class: comp.graphics\n",
            "==================================================\n",
            "\n",
            "==================================================\n",
            "Analyzing Document 3864\n",
            "==================================================\n",
            "Content:\n",
            "Archive-name: graphics/resources-list/part1\n",
            "Last-modified: 1993/04/17\n",
            "\n",
            "\n",
            "Computer Graphics Resource Listing : WEEKLY POSTING [ PART 1/3 ]\n",
            "===================================================\n",
            "Last Change\n",
            "\n",
            "Document Class: comp.graphics\n",
            "Reference Document Class: comp.graphics\n",
            "==================================================\n",
            "\n",
            "==================================================\n",
            "Analyzing Document 1459\n",
            "==================================================\n",
            "Content:\n",
            "Archive-name: x-faq/part3\n",
            "Last-modified: 1993/04/04\n",
            "\n",
            "----------------------------------------------------------------------\n",
            "Subject:  58)! Where can I get patches to X11R5?\n",
            "\n",
            "\tThe release of new public\n",
            "\n",
            "Document Class: comp.windows.x\n",
            "Reference Document Class: comp.graphics\n",
            "==================================================\n"
          ]
        }
      ],
      "source": [
        "analyze_document_similarity(most_similar_idx,\n",
        "                            newsgroups_train.data,\n",
        "                            newsgroups_train.target,\n",
        "                            newsgroups_train.target_names,\n",
        "                            cos_sim, main_idx)"
      ]
    },
    {
      "cell_type": "markdown",
      "metadata": {},
      "source": [
        "Los documentos de votación (5745, 9681, 1128) comparten similitudes en el formato con el texto original, ya que ambos utilizan listas organizadas (votantes y libros). Sin embargo, presentan diferencias en cuanto al contenido, ya que estos textos están enfocados en la organización de grupos de noticias y procesos de votación, mientras que el documento original se centra en temas literarios, específicamente relacionados con la ciencia ficción y tecnología en libros.\n",
        "\n",
        "Por otro lado, los documentos relacionados con gráficos y recursos (3864, 1459) tienen una mayor similitud temática, ya que pertenecen a la categoría comp.graphics, cercana al contexto técnico del documento original. No obstante, su contenido se inclina más hacia aspectos técnicos, como listados de herramientas y preguntas frecuentes, mientras que el texto original aborda la literatura y las ideas tecnológicas desde una perspectiva más conceptual y narrativa."
      ]
    },
    {
      "cell_type": "markdown",
      "metadata": {},
      "source": [
        "### 2. Entrenamiento de modelos\n",
        "\n",
        "Entrenar modelos de clasificación Naïve Bayes para maximizar el desempeño de clasificación (f1-score macro) en el conjunto de datos de test. Considerar cambiar parámteros de instanciación del vectorizador y los modelos y probar modelos de Naïve Bayes Multinomial y ComplementNB."
      ]
    },
    {
      "cell_type": "markdown",
      "metadata": {},
      "source": [
        "Se definen los conjuntos de entrenamiento y test. También se definen las variables objetivo y las características"
      ]
    },
    {
      "cell_type": "code",
      "execution_count": 66,
      "metadata": {},
      "outputs": [],
      "source": [
        "X_train = newsgroups_train.data\n",
        "y_train = newsgroups_train.target\n",
        "X_test = newsgroups_test.data\n",
        "y_test = newsgroups_test.target"
      ]
    },
    {
      "cell_type": "markdown",
      "metadata": {},
      "source": [
        "Se define un pipeline de procesamiento con TfidfVectorizer y un modelo de Naive Bayes como clasificador."
      ]
    },
    {
      "cell_type": "code",
      "execution_count": 67,
      "metadata": {},
      "outputs": [],
      "source": [
        "pipeline = Pipeline([\n",
        "    ('tfidf', TfidfVectorizer(stop_words='english', max_features=1000)),\n",
        "    ('model', MultinomialNB())\n",
        "])"
      ]
    },
    {
      "cell_type": "markdown",
      "metadata": {},
      "source": [
        "Se define el grid de hiperparámetros para ambos modelos MultinomiaNB y ComplementNB y el TfidfVectorizer"
      ]
    },
    {
      "cell_type": "code",
      "execution_count": 68,
      "metadata": {},
      "outputs": [],
      "source": [
        "param_dist = [\n",
        "    {\n",
        "        'tfidf__max_df': np.linspace(0.5, 0.95, 5), \n",
        "        'tfidf__min_df': [1, 2, 5], \n",
        "        'tfidf__ngram_range': [(1, 1), (1, 2), (1, 3), (2, 3)], \n",
        "        'tfidf__max_features': [5000, 10000], \n",
        "        'tfidf__sublinear_tf': [True, False], \n",
        "        'model': [MultinomialNB()],\n",
        "        'model__alpha': np.linspace(0.01, 1.0, 20), \n",
        "        'model__fit_prior': [True, False]\n",
        "    },\n",
        "    {\n",
        "        'tfidf__max_df': np.linspace(0.5, 0.95, 5),\n",
        "        'tfidf__min_df': [1, 2, 5],\n",
        "        'tfidf__ngram_range': [(1, 1), (1, 2), (1, 3), (2, 3)], \n",
        "        'tfidf__max_features': [5000, 10000],\n",
        "        'tfidf__sublinear_tf': [True, False],\n",
        "        'model': [ComplementNB()],\n",
        "        'model__alpha': np.linspace(0.01, 1.0, 20),\n",
        "        'model__fit_prior': [True, False],\n",
        "        'model__norm': [True, False]\n",
        "    }\n",
        "]"
      ]
    },
    {
      "cell_type": "markdown",
      "metadata": {},
      "source": [
        "Se define una búsqueda aleatoria con F1-score macro como métrica de evaluación para buscar maximiazarlo."
      ]
    },
    {
      "cell_type": "code",
      "execution_count": 69,
      "metadata": {},
      "outputs": [],
      "source": [
        "random_search = RandomizedSearchCV(\n",
        "    pipeline, \n",
        "    param_distributions=param_dist, \n",
        "    n_iter=30,\n",
        "    cv=5, \n",
        "    scoring='f1_macro',\n",
        "    random_state=42, \n",
        "    n_jobs=2  \n",
        ")"
      ]
    },
    {
      "cell_type": "markdown",
      "metadata": {},
      "source": [
        "Se realiza la búsqueda de hiperparámetros y el entrenamiento del mejor modelo."
      ]
    },
    {
      "cell_type": "code",
      "execution_count": 70,
      "metadata": {},
      "outputs": [
        {
          "name": "stdout",
          "output_type": "stream",
          "text": [
            "Mejores Hiperparámetros: {'tfidf__sublinear_tf': True, 'tfidf__ngram_range': (1, 3), 'tfidf__min_df': 5, 'tfidf__max_features': 10000, 'tfidf__max_df': 0.725, 'model__fit_prior': False, 'model__alpha': 0.06210526315789474, 'model': MultinomialNB()}\n",
            "F1 Macro Score: 0.6654099067936965\n"
          ]
        }
      ],
      "source": [
        "random_search.fit(X_train, y_train)\n",
        "\n",
        "# Utilize the best model found by the RandomizedSearchCV\n",
        "best_model = random_search.best_estimator_\n",
        "\n",
        "# Evaluate the best model on the test set\n",
        "y_pred = best_model.predict(X_test)\n",
        "f1 = f1_score(y_test, y_pred, average='macro') \n",
        "\n",
        "print(f\"Mejores Hiperparámetros: {random_search.best_params_}\")\n",
        "print(f\"F1 Macro Score: {f1}\")"
      ]
    },
    {
      "cell_type": "markdown",
      "metadata": {},
      "source": [
        "Se ha realizado una búsqueda de hiperparámetros para los modelos MultinomialNB y ComplementNB. Se ha encontrado que la mejor configuración es la siguiente para el modelo MultinomialNB:\n",
        "\n",
        "* tfidf__sublinear_tf: True\n",
        "* tfidf__ngram_range: (1, 3)\n",
        "* tfidf__min_df: 5\n",
        "* tfidf__max_features: 10000\n",
        "* tfidf__max_df: 0.725\n",
        "* model__fit_prior: False\n",
        "* model__alpha: 0.0621\n",
        "\n",
        "Con esta configuración, se ha logrado un F1 Macro Score de 0.6654.\n",
        "\n",
        "\n",
        "\n",
        "\n",
        "\n",
        "\n"
      ]
    },
    {
      "cell_type": "markdown",
      "metadata": {},
      "source": [
        "### 3. Vectorización de palabras\n",
        "\n",
        "Transponer la matriz documento-término. De esa manera se obtiene una matriz término-documento que puede ser interpretada como una colección de vectorización de palabras. Estudiar ahora similaridad entre palabras tomando 5 palabras y estudiando sus 5 más similares. La elección de palabras no debe ser al azar para evitar la aparición de términos poco interpretables, elegirlas \"manualmente\"."
      ]
    },
    {
      "cell_type": "markdown",
      "metadata": {},
      "source": [
        "Se genera la matriz témino-documento utilizando el vectorizador TF-IDF con los parámetros obtenidos en el punto anterior. Salvo el ngram_range que se ha cambiado a (1, 1) para solo considerar palabras individuales."
      ]
    },
    {
      "cell_type": "code",
      "execution_count": 71,
      "metadata": {},
      "outputs": [],
      "source": [
        "vectorizer = TfidfVectorizer(\n",
        "    stop_words='english', \n",
        "    max_features=10000, \n",
        "    sublinear_tf=True, \n",
        "    ngram_range=(1, 1), \n",
        "    min_df=5, \n",
        "    max_df=0.725\n",
        ")\n",
        "\n",
        "\n",
        "# Fit the vectorizer on the training data\n",
        "X_train_tfidf = vectorizer.fit_transform(newsgroups_train.data)"
      ]
    },
    {
      "cell_type": "markdown",
      "metadata": {},
      "source": [
        "Se transpone la matriz para obtener la matriz término-documento"
      ]
    },
    {
      "cell_type": "code",
      "execution_count": 72,
      "metadata": {},
      "outputs": [
        {
          "name": "stdout",
          "output_type": "stream",
          "text": [
            "Shape of the TF-IDF matrix: (11314, 10000)\n",
            "Number of terms: 10000\n"
          ]
        }
      ],
      "source": [
        "X_terms_docs = X_train_tfidf.T \n",
        "terms = vectorizer.get_feature_names_out() \n",
        "\n",
        "print(f\"Shape of the TF-IDF matrix: {X_train_tfidf.shape}\")\n",
        "print(f\"Number of terms: {len(terms)}\")"
      ]
    },
    {
      "cell_type": "markdown",
      "metadata": {},
      "source": [
        "Se seleccionarán cinco palabras que se consideran relevantes para el análisis de los documentos"
      ]
    },
    {
      "cell_type": "code",
      "execution_count": 89,
      "metadata": {},
      "outputs": [],
      "source": [
        "selected_words = ['politics', 'hardware', 'windows', 'sci', 'information'] "
      ]
    },
    {
      "cell_type": "markdown",
      "metadata": {},
      "source": [
        " ### Análisis de la palabra: \"politics\""
      ]
    },
    {
      "cell_type": "code",
      "execution_count": 90,
      "metadata": {},
      "outputs": [],
      "source": [
        "# Supongamos que 'terms' es un numpy array\n",
        "\n",
        "terms_list = terms.tolist()  # Convierte a lista de Python\n",
        "\n",
        "# Luego llama a tu función\n",
        "similar_words = find_top_similar_terms(selected_words[0], X_terms_docs, terms_list, top_n=5)\n"
      ]
    },
    {
      "cell_type": "code",
      "execution_count": 91,
      "metadata": {},
      "outputs": [
        {
          "name": "stdout",
          "output_type": "stream",
          "text": [
            " - talk: 0.2650\n",
            " - renewal: 0.2064\n",
            " - guns: 0.1921\n",
            " - practiced: 0.1644\n",
            " - pm: 0.1574\n"
          ]
        }
      ],
      "source": [
        "\n",
        "for similar_word, similarity in similar_words:\n",
        "    print(f\" - {similar_word}: {similarity:.4f}\")"
      ]
    },
    {
      "cell_type": "markdown",
      "metadata": {},
      "source": [
        "La relación entre la palabra \"politics\" y los términos obtenidos en el resultado se puede analizar desde varias perspectivas, como el contexto, las asociaciones y las connotaciones que tienen cada uno de estos términos en el ámbito político. Aquí hay un breve análisis de cada término en relación con \"politics\":\n",
        "\n",
        "Talk (0.2650):\n",
        "\n",
        "Relación: La comunicación y el diálogo son fundamentales en el ámbito político. La palabra \"talk\" puede referirse a debates, discursos políticos y discusiones sobre políticas públicas. Una alta relación sugiere que el término \"politics\" está fuertemente relacionado con el intercambio de ideas y la retórica.\n",
        "Renewal (0.2064):\n",
        "\n",
        "Relación: Este término puede asociarse con la renovación de políticas, cambios en el liderazgo o movimientos políticos que buscan revitalizar un sistema. En el contexto político, \"renewal\" podría referirse a iniciativas de reforma o reestructuración dentro de un partido o gobierno.\n",
        "\n",
        "Guns (0.1921):\n",
        "\n",
        "Relación: La relación con la palabra \"guns\" sugiere una conexión con el debate sobre el control de armas, la seguridad nacional y las políticas de defensa. Este término puede reflejar aspectos de la política de seguridad y debates sobre derechos civiles, especialmente en contextos donde la legislación sobre armas es un tema candente.\n",
        "\n",
        "Practiced (0.1644):\n",
        "\n",
        "Relación: Este término podría referirse a la experiencia en la política o a la implementación de políticas en la práctica. Puede implicar la idea de que la política es algo que se debe practicar y perfeccionar, lo que puede incluir tanto la habilidad de los políticos como la aplicación efectiva de políticas.\n",
        "\n",
        "PM (0.1574):\n",
        "\n",
        "Relación: \"PM\" se refiere a \"Prime Minister\" (Primer Ministro), un cargo político significativo en muchos países. La asociación con \"politics\" es evidente, ya que el Primer Ministro es una figura clave en la formulación y ejecución de políticas gubernamentales.\n",
        "Resumen de la Relación\n",
        "\n",
        "La palabra \"politics\" está intrínsecamente conectada con temas de comunicación, reforma, seguridad, práctica política y liderazgo gubernamental. Los términos relacionados reflejan tanto los aspectos discursivos como las implicaciones prácticas y los desafíos dentro del ámbito político. Esta diversidad de conexiones sugiere que la política no solo se trata de decisiones formales, sino también de cómo se comunican y se implementan esas decisiones en la sociedad."
      ]
    },
    {
      "cell_type": "markdown",
      "metadata": {},
      "source": [
        "### Análisis de la palabra: \"hardware\""
      ]
    },
    {
      "cell_type": "code",
      "execution_count": 92,
      "metadata": {},
      "outputs": [],
      "source": [
        "terms_list = terms.tolist()  # Convierte a lista de Python\n",
        "\n",
        "# Luego llama a tu función\n",
        "similar_words = find_top_similar_terms(selected_words[1], X_terms_docs, terms_list, top_n=5)"
      ]
    },
    {
      "cell_type": "code",
      "execution_count": 85,
      "metadata": {},
      "outputs": [
        {
          "name": "stdout",
          "output_type": "stream",
          "text": [
            " - software: 0.1798\n",
            " - dan: 0.1193\n",
            " - workstation: 0.1169\n",
            " - mac: 0.1137\n",
            " - pc: 0.1086\n"
          ]
        }
      ],
      "source": [
        "for similar_word, similarity in similar_words:\n",
        "    print(f\" - {similar_word}: {similarity:.4f}\")"
      ]
    },
    {
      "cell_type": "markdown",
      "metadata": {},
      "source": [
        "La relación de la palabra \"hardware\" con los términos obtenidos se puede analizar de la siguiente manera:\n",
        "\n",
        "Software (0.1798):\n",
        "\n",
        "Relación: La conexión más evidente, ya que el hardware y el software son componentes fundamentales de cualquier sistema informático. El hardware se refiere a los componentes físicos de una computadora, mientras que el software se refiere a los programas que operan sobre esos componentes. La relación sugiere una discusión sobre la integración y la compatibilidad entre ambos.\n",
        "\n",
        "Dan (0.1193):\n",
        "\n",
        "Relación: Este término podría referirse a un nombre propio. Sin más contexto, la relación no es tan clara, pero podría implicar una conexión a través de una personalidad conocida en la comunidad tecnológica.\n",
        "\n",
        "Workstation (0.1169):\n",
        "\n",
        "Relación: Se refiere a una computadora diseñada para el trabajo técnico o creativo, que suele tener hardware especializado para tareas exigentes como gráficos o procesamiento de datos. La conexión con \"hardware\" es directa, ya que las estaciones de trabajo son un tipo específico de hardware optimizado para uso profesional.\n",
        "\n",
        "Mac (0.1137):\n",
        "\n",
        "Relación: Este término se refiere a la línea de computadoras Macintosh de Apple. La relación aquí es que \"Mac\" es un ejemplo concreto de hardware, y la marca es conocida por su diseño y rendimiento. La asociación sugiere discusiones sobre el hardware específico de Apple y su comparación con otros sistemas.\n",
        "\n",
        "PC (0.1086):\n",
        "\n",
        "Relación: \"PC\" (Personal Computer) es un término general para computadoras diseñadas para uso personal. Similar a \"Mac,\" este término representa otro tipo de hardware que es ampliamente utilizado y que puede ser comparado con otros dispositivos. La relación implica un contraste entre diferentes plataformas de hardware, como PCs y Macs.\n",
        "\n",
        "Resumen de la Relación\n",
        "La palabra \"hardware\" está fuertemente relacionada con términos que reflejan su interconexión con el software, estaciones de trabajo, y diferentes tipos de computadoras (como Macs y PCs). Esto indica un enfoque en la infraestructura tecnológica que soporta el funcionamiento de software y aplicaciones, destacando la importancia de entender cómo estos componentes interactúan en el ecosistema tecnológico. Mientras que algunos términos (como \"software\") son esenciales para comprender el funcionamiento de los sistemas informáticos, otros (como \"workstation,\" \"Mac,\" y \"PC\") enfatizan las diversas configuraciones y aplicaciones del hardware en diferentes contextos."
      ]
    },
    {
      "cell_type": "markdown",
      "metadata": {},
      "source": [
        "### Análisis de la palabra: \"windows\""
      ]
    },
    {
      "cell_type": "code",
      "execution_count": 93,
      "metadata": {},
      "outputs": [],
      "source": [
        "terms_list = terms.tolist()  # Convierte a lista de Python\n",
        "\n",
        "# Luego llama a tu función\n",
        "similar_words = find_top_similar_terms(selected_words[2], X_terms_docs, terms_list, top_n=5)"
      ]
    },
    {
      "cell_type": "code",
      "execution_count": 94,
      "metadata": {},
      "outputs": [
        {
          "name": "stdout",
          "output_type": "stream",
          "text": [
            " - dos: 0.3238\n",
            " - ms: 0.2392\n",
            " - file: 0.2050\n",
            " - files: 0.2033\n",
            " - microsoft: 0.2022\n"
          ]
        }
      ],
      "source": [
        "for similar_word, similarity in similar_words:\n",
        "    print(f\" - {similar_word}: {similarity:.4f}\")"
      ]
    },
    {
      "cell_type": "markdown",
      "metadata": {},
      "source": [
        "La relación de la palabra \"Windows\" con los términos obtenidos se puede analizar de la siguiente manera:\n",
        "\n",
        "Dos (0.3238):\n",
        "\n",
        "Relación: Se refiere a \"DOS\" (Disk Operating System), un sistema operativo que precedió a Windows y es conocido por su interfaz de línea de comandos. La relación sugiere un contexto histórico o de comparación, donde \"Windows\" se puede ver como una evolución o mejora sobre DOS, al proporcionar una interfaz gráfica más accesible.\n",
        "\n",
        "MS (0.2392):\n",
        "\n",
        "Relación: \"MS\" es una abreviatura común para \"Microsoft,\" la compañía que desarrolló Windows. Esta conexión es directa y se relaciona con la marca y la historia de Windows como parte del portafolio de productos de Microsoft.\n",
        "File (0.2050):\n",
        "\n",
        "Relación: Este término se refiere a archivos, que son componentes esenciales en cualquier sistema operativo. En el contexto de Windows, la gestión de archivos es fundamental, ya que el sistema operativo ofrece herramientas para crear, editar, y organizar archivos. La relación implica la interacción de los usuarios con el sistema a través de la administración de archivos.\n",
        "\n",
        "Files (0.2033):\n",
        "\n",
        "Relación: Similar a \"file,\" este término también se refiere a los archivos, pero en plural, enfatizando la colección y organización de múltiples archivos en Windows. Esto refleja el uso cotidiano de Windows en la administración de grandes cantidades de datos y documentos.\n",
        "\n",
        "Microsoft (0.2022):\n",
        "\n",
        "Relación: Este término se refiere a la empresa que desarrolla Windows. La relación es fundamental, ya que Windows es uno de los productos más emblemáticos de Microsoft. Además, esta conexión puede implicar un contexto sobre el impacto de Microsoft en la industria del software y cómo Windows se ha posicionado en el mercado.\n",
        "\n",
        "Resumen de la Relación\n",
        "La palabra \"Windows\" está estrechamente relacionada con términos que reflejan su historia, su empresa madre (Microsoft), y su funcionalidad en la gestión de archivos. \"DOS\" destaca la evolución histórica de los sistemas operativos, mientras que \"MS\" y \"Microsoft\" enfatizan la relación directa de Windows con la compañía que lo desarrolla. Los términos \"file\" y \"files\" resaltan la importancia de la gestión de datos en el entorno de Windows, sugiriendo un enfoque en cómo los usuarios interactúan con el sistema operativo en su vida diaria. En conjunto, estos términos muestran cómo Windows es un componente central en la experiencia informática y su conexión con otros aspectos de la computación y la historia del software."
      ]
    },
    {
      "cell_type": "markdown",
      "metadata": {},
      "source": [
        "### Análisis de la palabra: \"Sci\""
      ]
    },
    {
      "cell_type": "code",
      "execution_count": 95,
      "metadata": {},
      "outputs": [],
      "source": [
        "terms_list = terms.tolist()  # Convierte a lista de Python\n",
        "\n",
        "# Luego llama a tu función\n",
        "similar_words = find_top_similar_terms(selected_words[3], X_terms_docs, terms_list, top_n=5)"
      ]
    },
    {
      "cell_type": "code",
      "execution_count": 96,
      "metadata": {},
      "outputs": [
        {
          "name": "stdout",
          "output_type": "stream",
          "text": [
            " - crypt: 0.3811\n",
            " - med: 0.3136\n",
            " - energy: 0.1924\n",
            " - astro: 0.1703\n",
            " - space: 0.1697\n"
          ]
        }
      ],
      "source": [
        "for similar_word, similarity in similar_words:\n",
        "    print(f\" - {similar_word}: {similarity:.4f}\")"
      ]
    },
    {
      "cell_type": "markdown",
      "metadata": {},
      "source": [
        "La relación de la palabra \"sci\" (que generalmente hace referencia a \"ciencia\" o \"ciencia ficción\") con los términos obtenidos puede analizarse de la siguiente manera:\n",
        "\n",
        "Crypt (0.3811):\n",
        "\n",
        "Relación: Este término se puede asociar con \"criptografía\", que son áreas científicas que estudian la seguridad de la información y la comunicación. La relación sugiere que dentro del ámbito de la ciencia, \"sci\" también se extiende a disciplinas que involucran matemáticas avanzadas y tecnologías de seguridad en la información.\n",
        "\n",
        "Med (0.3136):\n",
        "\n",
        "Relación: \"Med\" se refiere comúnmente a \"medicina\". Esto indica una fuerte conexión entre la ciencia y el campo médico, reflejando la importancia de la investigación científica en el desarrollo de tratamientos, diagnósticos y avances en la salud. La relación enfatiza cómo la ciencia es fundamental para los progresos en la medicina.\n",
        "\n",
        "Energy (0.1924):\n",
        "\n",
        "Relación: Este término se refiere a la ciencia de la energía, que abarca áreas como la física, la ingeniería y la sostenibilidad. La conexión con \"sci\" resalta el interés en investigar fuentes de energía, su eficiencia y los impactos ambientales, lo que es relevante en el contexto científico y tecnológico actual.\n",
        "\n",
        "Astro (0.1703):\n",
        "\n",
        "Relación: \"Astro\" hace referencia a la astronomía o astrofísica, disciplinas científicas que estudian los cuerpos celestes y el universo. La relación implica un enfoque en la exploración y comprensión del cosmos, donde \"sci\" puede representar tanto la ciencia como la fascinación por lo desconocido en el espacio.\n",
        "\n",
        "Space (0.1697):\n",
        "\n",
        "Relación: Este término se relaciona estrechamente con la ciencia espacial, que incluye la exploración del espacio, satélites y la física del espacio. La conexión con \"sci\" refuerza el vínculo entre la investigación científica y la exploración espacial, destacando la importancia de la ciencia en la expansión de nuestro conocimiento sobre el universo.\n",
        "\n",
        "Resumen de la Relación\n",
        "La palabra \"sci\" está conectada a una variedad de disciplinas científicas que incluyen criptografía, medicina, energía, astronomía y ciencia espacial. Estos términos reflejan cómo la ciencia abarca diferentes campos de estudio y aplicación. La criptografía representa un enfoque en la seguridad de la información, la medicina destaca la relevancia de la investigación en salud, y la energía muestra el interés en fuentes sostenibles y eficientes. La astronomía y la ciencia espacial subrayan la curiosidad humana por el universo. Juntos, estos términos ilustran la diversidad y la profundidad de la ciencia en varios aspectos de la investigación y la tecnología."
      ]
    },
    {
      "cell_type": "markdown",
      "metadata": {},
      "source": [
        " ### Análisis de la palabra: \"information\""
      ]
    },
    {
      "cell_type": "code",
      "execution_count": 97,
      "metadata": {},
      "outputs": [],
      "source": [
        "terms_list = terms.tolist()  # Convierte a lista de Python\n",
        "\n",
        "# Luego llama a tu función\n",
        "similar_words = find_top_similar_terms(selected_words[4], X_terms_docs, terms_list, top_n=5)"
      ]
    },
    {
      "cell_type": "code",
      "execution_count": 98,
      "metadata": {},
      "outputs": [
        {
          "name": "stdout",
          "output_type": "stream",
          "text": [
            " - thanks: 0.1397\n",
            " - send: 0.1290\n",
            " - looking: 0.1290\n",
            " - interested: 0.1257\n",
            " - appreciated: 0.1220\n"
          ]
        }
      ],
      "source": [
        "for similar_word, similarity in similar_words:\n",
        "    print(f\" - {similar_word}: {similarity:.4f}\")"
      ]
    },
    {
      "cell_type": "markdown",
      "metadata": {},
      "source": [
        "\n",
        "La relación de la palabra \"information\" con los términos obtenidos puede analizarse de la siguiente manera:\n",
        "\n",
        "Thanks (0.1397):\n",
        "\n",
        "Relación: Este término sugiere una interacción positiva donde la información es valorada. A menudo, el agradecimiento se expresa en contextos donde se ha recibido información útil o relevante, lo que indica que \"information\" se percibe como un recurso valioso en la comunicación.\n",
        "\n",
        "Send (0.1290):\n",
        "\n",
        "Relación: La acción de enviar se asocia directamente con la transmisión de información. Esto implica que \"information\" es algo que se puede compartir, comunicar o distribuir, reforzando la idea de que su flujo es esencial en interacciones interpersonales y profesionales.\n",
        "\n",
        "Looking (0.1290):\n",
        "\n",
        "Relación: Este término se relaciona con la búsqueda o la necesidad de información. Cuando alguien dice que está \"looking for information,\" sugiere que está en un proceso activo de búsqueda de datos o conocimientos específicos, lo que resalta la importancia de \"information\" como un objetivo en sí mismo.\n",
        "\n",
        "Interested (0.1257):\n",
        "\n",
        "Relación: Este término indica que hay un deseo de conocer más sobre un tema particular. La relación con \"information\" sugiere que la curiosidad y el interés a menudo llevan a las personas a buscar información, reflejando la conexión entre el deseo de aprender y la necesidad de obtener datos.\n",
        "\n",
        "Appreciated (0.1220):\n",
        "\n",
        "Relación: La apreciación se relaciona con el reconocimiento del valor de la información proporcionada. Cuando la información es útil o relevante, las personas tienden a expresar gratitud, lo que refuerza la idea de que \"information\" es un recurso que puede enriquecer interacciones y decisiones.\n",
        "\n",
        "Resumen de la Relación\n",
        "La palabra \"information\" está conectada a varios términos que reflejan su importancia en la comunicación y el aprendizaje. El agradecimiento sugiere que la información es valorada, mientras que la acción de enviar indica su naturaleza comunicativa. La búsqueda activa de información, representada por \"looking,\" resalta su papel como un objetivo esencial. El interés muestra la curiosidad por aprender más, y la apreciación indica el reconocimiento de su valor. Juntos, estos términos enfatizan cómo \"information\" es fundamental en la interacción social y en el proceso de adquisición de conocimiento."
      ]
    }
  ],
  "metadata": {
    "colab": {
      "provenance": []
    },
    "kernelspec": {
      "display_name": "Python 3",
      "name": "python3"
    },
    "language_info": {
      "codemirror_mode": {
        "name": "ipython",
        "version": 3
      },
      "file_extension": ".py",
      "mimetype": "text/x-python",
      "name": "python",
      "nbconvert_exporter": "python",
      "pygments_lexer": "ipython3",
      "version": "3.11.5"
    }
  },
  "nbformat": 4,
  "nbformat_minor": 0
}

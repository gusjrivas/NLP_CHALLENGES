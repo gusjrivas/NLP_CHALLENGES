{
  "cells": [
    {
      "cell_type": "markdown",
      "metadata": {
        "id": "zq6j8LsYq1Dr"
      },
      "source": [
        "### Vectorización de texto y modelo de clasificación Naïve Bayes con el dataset 20 newsgroups"
      ]
    },
    {
      "cell_type": "code",
      "execution_count": 1,
      "metadata": {
        "id": "l7cXR6CI30ry"
      },
      "outputs": [],
      "source": [
        "from sklearn.feature_extraction.text import CountVectorizer, TfidfVectorizer\n",
        "from sklearn.metrics.pairwise import cosine_similarity\n",
        "from sklearn.naive_bayes import MultinomialNB, ComplementNB\n",
        "from sklearn.metrics import f1_score\n",
        "\n",
        "# 20newsgroups por ser un dataset clásico de NLP ya viene incluido y formateado\n",
        "# en sklearn\n",
        "from sklearn.datasets import fetch_20newsgroups\n",
        "import numpy as np"
      ]
    },
    {
      "cell_type": "markdown",
      "metadata": {
        "id": "yD-pVDWV_rQc"
      },
      "source": [
        "## Carga de datos"
      ]
    },
    {
      "cell_type": "code",
      "execution_count": 2,
      "metadata": {
        "id": "Ech9qJaUo9vK"
      },
      "outputs": [],
      "source": [
        "# cargamos los datos (ya separados de forma predeterminada en train y test)\n",
        "newsgroups_train = fetch_20newsgroups(subset='train', remove=('headers', 'footers', 'quotes'))\n",
        "newsgroups_test = fetch_20newsgroups(subset='test', remove=('headers', 'footers', 'quotes'))"
      ]
    },
    {
      "cell_type": "markdown",
      "metadata": {
        "id": "UxjSI7su_uWI"
      },
      "source": [
        "## Vectorización"
      ]
    },
    {
      "cell_type": "code",
      "execution_count": 3,
      "metadata": {
        "id": "-94VP0QYCzDn"
      },
      "outputs": [],
      "source": [
        "# instanciamos un vectorizador\n",
        "# ver diferentes parámetros de instanciación en la documentación de sklearn\n",
        "tfidfvect = TfidfVectorizer()"
      ]
    },
    {
      "cell_type": "code",
      "execution_count": 4,
      "metadata": {
        "colab": {
          "base_uri": "https://localhost:8080/",
          "height": 104
        },
        "id": "ftPlyanuak8n",
        "outputId": "45a94d0e-49e7-4f7c-c806-7d5b66779dd0"
      },
      "outputs": [
        {
          "data": {
            "text/plain": [
              "'I was wondering if anyone out there could enlighten me on this car I saw\\nthe other day. It was a 2-door sports car, looked to be from the late 60s/\\nearly 70s. It was called a Bricklin. The doors were really small. In addition,\\nthe front bumper was separate from the rest of the body. This is \\nall I know. If anyone can tellme a model name, engine specs, years\\nof production, where this car is made, history, or whatever info you\\nhave on this funky looking car, please e-mail.'"
            ]
          },
          "execution_count": 4,
          "metadata": {},
          "output_type": "execute_result"
        }
      ],
      "source": [
        "# en el atributo `data` accedemos al texto\n",
        "newsgroups_train.data[0]"
      ]
    },
    {
      "cell_type": "code",
      "execution_count": 5,
      "metadata": {
        "id": "1zxcXV6aC_oL"
      },
      "outputs": [],
      "source": [
        "# con la interfaz habitual de sklearn podemos fitear el vectorizador\n",
        "# (obtener el vocabulario y calcular el vector IDF)\n",
        "# y transformar directamente los datos\n",
        "X_train = tfidfvect.fit_transform(newsgroups_train.data)\n",
        "# `X_train` la podemos denominar como la matriz documento-término"
      ]
    },
    {
      "cell_type": "code",
      "execution_count": 6,
      "metadata": {
        "colab": {
          "base_uri": "https://localhost:8080/"
        },
        "id": "4Sv7TXbda41-",
        "outputId": "dcca5de6-dac1-4d68-d284-ce7be2ed9e2f"
      },
      "outputs": [
        {
          "name": "stdout",
          "output_type": "stream",
          "text": [
            "<class 'scipy.sparse._csr.csr_matrix'>\n",
            "shape: (11314, 101631)\n",
            "cantidad de documentos: 11314\n",
            "tamaño del vocabulario (dimensionalidad de los vectores): 101631\n"
          ]
        }
      ],
      "source": [
        "# recordar que las vectorizaciones por conteos son esparsas\n",
        "# por ello sklearn convenientemente devuelve los vectores de documentos\n",
        "# como matrices esparsas\n",
        "print(type(X_train))\n",
        "print(f'shape: {X_train.shape}')\n",
        "print(f'cantidad de documentos: {X_train.shape[0]}')\n",
        "print(f'tamaño del vocabulario (dimensionalidad de los vectores): {X_train.shape[1]}')"
      ]
    },
    {
      "cell_type": "code",
      "execution_count": 7,
      "metadata": {
        "colab": {
          "base_uri": "https://localhost:8080/"
        },
        "id": "dgydNTZ2pAgR",
        "outputId": "95111464-e40c-4b57-d154-ede153739a82"
      },
      "outputs": [
        {
          "data": {
            "text/plain": [
              "25775"
            ]
          },
          "execution_count": 7,
          "metadata": {},
          "output_type": "execute_result"
        }
      ],
      "source": [
        "# una vez fiteado el vectorizador, podemos acceder a atributos como el vocabulario\n",
        "# aprendido. Es un diccionario que va de términos a índices.\n",
        "# El índice es la posición en el vector de documento.\n",
        "tfidfvect.vocabulary_['car']"
      ]
    },
    {
      "cell_type": "code",
      "execution_count": 8,
      "metadata": {
        "id": "xnTSZuvyrTcP"
      },
      "outputs": [],
      "source": [
        "# es muy útil tener el diccionario opuesto que va de índices a términos\n",
        "idx2word = {v: k for k,v in tfidfvect.vocabulary_.items()}"
      ]
    },
    {
      "cell_type": "code",
      "execution_count": 9,
      "metadata": {
        "colab": {
          "base_uri": "https://localhost:8080/"
        },
        "id": "swa-AgWrMSHM",
        "outputId": "93d09f31-4c42-4215-e750-a13c83ecf96a"
      },
      "outputs": [
        {
          "data": {
            "text/plain": [
              "array([ 7,  4,  4,  1, 14, 16, 13,  3,  2,  4])"
            ]
          },
          "execution_count": 9,
          "metadata": {},
          "output_type": "execute_result"
        }
      ],
      "source": [
        "# en `y_train` guardamos los targets que son enteros\n",
        "y_train = newsgroups_train.target\n",
        "y_train[:10]"
      ]
    },
    {
      "cell_type": "code",
      "execution_count": 10,
      "metadata": {
        "colab": {
          "base_uri": "https://localhost:8080/"
        },
        "id": "je5kxvQMDLvf",
        "outputId": "59799046-9799-406f-c4be-81c5765de58d"
      },
      "outputs": [
        {
          "name": "stdout",
          "output_type": "stream",
          "text": [
            "clases [ 0  1  2  3  4  5  6  7  8  9 10 11 12 13 14 15 16 17 18 19]\n"
          ]
        },
        {
          "data": {
            "text/plain": [
              "['alt.atheism',\n",
              " 'comp.graphics',\n",
              " 'comp.os.ms-windows.misc',\n",
              " 'comp.sys.ibm.pc.hardware',\n",
              " 'comp.sys.mac.hardware',\n",
              " 'comp.windows.x',\n",
              " 'misc.forsale',\n",
              " 'rec.autos',\n",
              " 'rec.motorcycles',\n",
              " 'rec.sport.baseball',\n",
              " 'rec.sport.hockey',\n",
              " 'sci.crypt',\n",
              " 'sci.electronics',\n",
              " 'sci.med',\n",
              " 'sci.space',\n",
              " 'soc.religion.christian',\n",
              " 'talk.politics.guns',\n",
              " 'talk.politics.mideast',\n",
              " 'talk.politics.misc',\n",
              " 'talk.religion.misc']"
            ]
          },
          "execution_count": 10,
          "metadata": {},
          "output_type": "execute_result"
        }
      ],
      "source": [
        "# hay 20 clases correspondientes a los 20 grupos de noticias\n",
        "print(f'clases {np.unique(newsgroups_test.target)}')\n",
        "newsgroups_test.target_names"
      ]
    },
    {
      "cell_type": "markdown",
      "metadata": {
        "id": "SXCICFSd_y90"
      },
      "source": [
        "## Similaridad de documentos"
      ]
    },
    {
      "cell_type": "code",
      "execution_count": 11,
      "metadata": {
        "colab": {
          "base_uri": "https://localhost:8080/"
        },
        "id": "_pki_olShnyE",
        "outputId": "b2bd8485-40c7-4923-c8a9-4ad6b735576e"
      },
      "outputs": [
        {
          "name": "stdout",
          "output_type": "stream",
          "text": [
            "THE WHITE HOUSE\n",
            "\n",
            "                  Office of the Press Secretary\n",
            "                   (Pittsburgh, Pennslyvania)\n",
            "______________________________________________________________\n",
            "For Immediate Release                         April 17, 1993     \n",
            "\n",
            "             \n",
            "                  RADIO ADDRESS TO THE NATION \n",
            "                        BY THE PRESIDENT\n",
            "             \n",
            "                Pittsburgh International Airport\n",
            "                    Pittsburgh, Pennsylvania\n",
            "             \n",
            "             \n",
            "10:06 A.M. EDT\n",
            "             \n",
            "             \n",
            "             THE PRESIDENT:  Good morning.  My voice is coming to\n",
            "you this morning through the facilities of the oldest radio\n",
            "station in America, KDKA in Pittsburgh.  I'm visiting the city to\n",
            "meet personally with citizens here to discuss my plans for jobs,\n",
            "health care and the economy.  But I wanted first to do my weekly\n",
            "broadcast with the American people. \n",
            "             \n",
            "             I'm told this station first broadcast in 1920 when\n",
            "it reported that year's presidential elections.  Over the past\n",
            "seven decades presidents have found ways to keep in touch with\n",
            "the people, from whistle-stop tours to fire-side chats to the bus\n",
            "tour that I adopted, along with Vice President Gore, in last\n",
            "year's campaign.\n",
            "             \n",
            "             Every Saturday morning I take this time to talk with\n",
            "you, my fellow Americans, about the problems on your minds and\n",
            "what I'm doing to try and solve them.  It's my way of reporting\n",
            "to you and of giving you a way to hold me accountable.\n",
            "             \n",
            "             You sent me to Washington to get our government and\n",
            "economy moving after years of paralysis and policy and a bad\n",
            "experiment with trickle-down economics.  You know how important\n",
            "it is for us to make bold, comprehensive changes in the way we do\n",
            "business.  \n",
            "             \n",
            "             We live in a competitive global economy.  Nations\n",
            "rise and fall on the skills of their workers, the competitiveness\n",
            "of their companies, the imagination of their industries, and the\n",
            "cooperative experience and spirit that exists between business,\n",
            "labor and government.  Although many of the economies of the\n",
            "industrialized world are now suffering from slow growth, they've\n",
            "made many of the smart investments and the tough choices which\n",
            "our government has for too long ignored.  That's why many of them\n",
            "have been moving ahead and too many of our people have been\n",
            "falling behind.\n",
            "             \n",
            "             We have an economy today that even when it grows is\n",
            "not producing new jobs.  We've increased the debt of our nation\n",
            "by four times over the last 12 years, and we don't have much to\n",
            "show for it.  We know that wages of most working people have\n",
            "stopped rising, that most people are working longer work weeks\n",
            "and that too many families can no longer afford the escalating\n",
            "cost of health care.\n",
            "             \n",
            "             But we also know that, given the right tools, the\n",
            "right incentives and the right encouragement, our workers and\n",
            "businesses can make the kinds of products and profits our economy\n",
            "needs to expand opportunity and to make our communities better\n",
            "places to live.\n",
            "             \n",
            "             In many critical products today Americans are the\n",
            "low cost, high quality producers.  Our task is to make sure that\n",
            "we create more of those kinds of jobs.\n",
            "             \n",
            "             Just two months ago I gave Congress my plan for\n",
            "long-term jobs and economic growth.  It changes the old\n",
            "priorities in Washington and puts our emphasis where it needs to\n",
            "be -- on people's real needs, on increasing investments and jobs\n",
            "and education, on cutting the federal deficit, on stopping the\n",
            "waste which pays no dividends, and redirecting our precious\n",
            "resources toward investment that creates jobs now and lays the\n",
            "groundwork for robust economic growth in the future.\n",
            "             \n",
            "             These new directions passed the Congress in record\n",
            "time and created a new sense of hope and opportunity in our\n",
            "country.  Then the jobs plan I presented to Congress, which would\n",
            "create hundreds of thousands of jobs, most of them in the private\n",
            "sector in 1993 and 1994, passed the House of Representatives.  It\n",
            "now has the support of a majority of the United States Senate. \n",
            "But it's been held up by a filibuster of a minority in the\n",
            "Senate, just 43 senators.  They blocked a vote that they know\n",
            "would result in the passage of our bill and the creation of jobs.\n",
            "             \n",
            "             The issue isn't politics; the issue is people. \n",
            "Millions of Americans are waiting for this legislation and\n",
            "counting on it, counting on us in Washington.  But the jobs bill\n",
            "has been grounded by gridlock.  \n",
            "             \n",
            "             I know the American people are tired of business as\n",
            "usual and politics as usual.  I know they don't want us to spin\n",
            "or wheels.  They want the recovery to get moving.  So I have\n",
            "taken a first step to break this gridlock and gone the extra\n",
            "mile.  Yesterday I offered to cut the size of this plan by 25\n",
            "percent -- from $16 billion to $12 billion.  \n",
            "             \n",
            "             It's not what I'd hoped for.  With 16 million\n",
            "Americans looking for full-time work, I simply can't let the bill\n",
            "languish when I know that even a compromise bill will mean\n",
            "hundreds of thousands of jobs for our people.  The mandate is to\n",
            "act to achieve change and move the country forward.  By taking\n",
            "this initiative in the face of an unrelenting Senate talkathon, I\n",
            "think we can respond to your mandate and achieve a significant\n",
            "portion of our original goals.\n",
            "             \n",
            "             First, we want to keep the programs as much as\n",
            "possible that are needed to generate jobs and meet human needs,\n",
            "including highway and road construction, summer jobs for young\n",
            "people, immunization for children, construction of waste water\n",
            "sites, and aid to small businesses.  We also want to keep funding\n",
            "for extended unemployment compensation benefits, for people who\n",
            "have been unemployed for a long time because the economy isn't\n",
            "creating jobs.\n",
            "             \n",
            "             Second, I've recommended that all the other programs\n",
            "in the bill be cut across-the-board by a little more than 40\n",
            "percent.\n",
            "             \n",
            "             And third, I've recommended a new element in this\n",
            "program to help us immediately start our attempt to fight against\n",
            "crime by providing $200 million for cities and towns to rehire\n",
            "police officers who lost their jobs during the recession and put\n",
            "them back to work protecting our people.  I'm also going to fight\n",
            "for a tough crime bill because the people of this country need it\n",
            "and deserve it.\n",
            "             \n",
            "             Now, the people who are filibustering this bill --\n",
            "the Republican senators -- say they won't vote for it because it\n",
            "increases deficit spending, because there's extra spending this\n",
            "year that hasn't already been approved.  That sounds reasonable,\n",
            "doesn't it?  Here's what they don't say.  This program is more\n",
            "than paid for by budget cuts over my five-year budget, and this\n",
            "budget is well within the spending limits already approved by the\n",
            "Congress this year.\n",
            "             \n",
            "             It's amazing to me that many of these same senators\n",
            "who are filibustering the bill voted during the previous\n",
            "administration for billions of dollars of the same kind of\n",
            "emergency spending, and much of it was not designed to put the\n",
            "American people to work.  \n",
            "             \n",
            "             This is not about deficit spending.  We have offered\n",
            "a plan to cut the deficit.  This is about where your priorities\n",
            "are -- on people or on politics.  \n",
            "             \n",
            "             Keep in mind that our jobs bill is paid for dollar\n",
            "for dollar.  It is paid for by budget cuts.  And it's the\n",
            "soundest investment we can now make for ourselves and our\n",
            "children.  I urge all Americans to take another look at this jobs\n",
            "and investment program; to consider again the benefits for all of\n",
            "us when we've helped make more American partners working to\n",
            "ensure the future of our nation and the strength of our economy.\n",
            "             \n",
            "             You know, if every American who wanted a job had\n",
            "one, we wouldn't have a lot of the other problems we have in this\n",
            "country today.  This bill is not a miracle, it's a modest first\n",
            "step to try to set off a job creation explosion in this country\n",
            "again.  But it's a step we ought to take.  And it is fully paid\n",
            "for over the life of our budget.\n",
            "             \n",
            "             Tell your lawmakers what you think.  Tell them how\n",
            "important the bill is.  If it passes, we'll all be winners.\n",
            "             \n",
            "             Good morning, and thank you for listening.\n"
          ]
        }
      ],
      "source": [
        "# Veamos similaridad de documentos. Tomemos algún documento\n",
        "idx = 4811\n",
        "print(newsgroups_train.data[idx])"
      ]
    },
    {
      "cell_type": "code",
      "execution_count": 12,
      "metadata": {
        "id": "Ssa9bqJ-hA_v"
      },
      "outputs": [],
      "source": [
        "# midamos la similaridad coseno con todos los documentos de train\n",
        "cossim = cosine_similarity(X_train[idx], X_train)[0]"
      ]
    },
    {
      "cell_type": "code",
      "execution_count": 13,
      "metadata": {
        "colab": {
          "base_uri": "https://localhost:8080/"
        },
        "id": "p_mDA7p3AzcQ",
        "outputId": "747a3923-4b1c-4e2b-921d-4ebf2b271b00"
      },
      "outputs": [
        {
          "data": {
            "text/plain": [
              "array([1.        , 0.70930477, 0.67474953, ..., 0.        , 0.        ,\n",
              "       0.        ])"
            ]
          },
          "execution_count": 13,
          "metadata": {},
          "output_type": "execute_result"
        }
      ],
      "source": [
        "# podemos ver los valores de similaridad ordenados de mayor a menos\n",
        "np.sort(cossim)[::-1]"
      ]
    },
    {
      "cell_type": "code",
      "execution_count": 14,
      "metadata": {
        "colab": {
          "base_uri": "https://localhost:8080/"
        },
        "id": "0OIhDA1jAryX",
        "outputId": "04ddf3ca-0741-42d7-8bbb-00bb395f7834"
      },
      "outputs": [
        {
          "data": {
            "text/plain": [
              "array([ 4811,  6635,  4253, ...,  1534, 10055,  4750], dtype=int64)"
            ]
          },
          "execution_count": 14,
          "metadata": {},
          "output_type": "execute_result"
        }
      ],
      "source": [
        "# y a qué documentos corresponden\n",
        "np.argsort(cossim)[::-1]"
      ]
    },
    {
      "cell_type": "code",
      "execution_count": 15,
      "metadata": {
        "id": "hP7qLS4ZBLps"
      },
      "outputs": [],
      "source": [
        "# los 5 documentos más similares:\n",
        "mostsim = np.argsort(cossim)[::-1][1:6]"
      ]
    },
    {
      "cell_type": "code",
      "execution_count": 16,
      "metadata": {
        "colab": {
          "base_uri": "https://localhost:8080/",
          "height": 35
        },
        "id": "QdJLHPJACvaj",
        "outputId": "926186cf-7d4c-4bd3-927b-ad00bf7f24f9"
      },
      "outputs": [
        {
          "data": {
            "text/plain": [
              "'talk.politics.misc'"
            ]
          },
          "execution_count": 16,
          "metadata": {},
          "output_type": "execute_result"
        }
      ],
      "source": [
        "# el documento original pertenece a la clase:\n",
        "newsgroups_train.target_names[y_train[idx]]"
      ]
    },
    {
      "cell_type": "code",
      "execution_count": 17,
      "metadata": {
        "colab": {
          "base_uri": "https://localhost:8080/"
        },
        "id": "RWy_73epCbFG",
        "outputId": "daf534e5-b2a8-43d4-d05a-9c52b816cf69"
      },
      "outputs": [
        {
          "name": "stdout",
          "output_type": "stream",
          "text": [
            "talk.politics.misc\n",
            "talk.politics.misc\n",
            "talk.politics.misc\n",
            "talk.politics.misc\n",
            "talk.politics.misc\n"
          ]
        }
      ],
      "source": [
        "# y los 5 más similares son de las clases:\n",
        "for i in mostsim:\n",
        "  print(newsgroups_train.target_names[y_train[i]])"
      ]
    },
    {
      "cell_type": "markdown",
      "metadata": {
        "id": "zRoNnKwhBqzq"
      },
      "source": [
        "### Modelo de clasificación Naïve Bayes"
      ]
    },
    {
      "cell_type": "code",
      "execution_count": 18,
      "metadata": {
        "colab": {
          "base_uri": "https://localhost:8080/",
          "height": 74
        },
        "id": "TPM0thDaLk0R",
        "outputId": "bc7fdc3e-d912-4e0c-9d9e-33efc97b46fc"
      },
      "outputs": [
        {
          "data": {
            "text/html": [
              "<style>#sk-container-id-1 {\n",
              "  /* Definition of color scheme common for light and dark mode */\n",
              "  --sklearn-color-text: black;\n",
              "  --sklearn-color-line: gray;\n",
              "  /* Definition of color scheme for unfitted estimators */\n",
              "  --sklearn-color-unfitted-level-0: #fff5e6;\n",
              "  --sklearn-color-unfitted-level-1: #f6e4d2;\n",
              "  --sklearn-color-unfitted-level-2: #ffe0b3;\n",
              "  --sklearn-color-unfitted-level-3: chocolate;\n",
              "  /* Definition of color scheme for fitted estimators */\n",
              "  --sklearn-color-fitted-level-0: #f0f8ff;\n",
              "  --sklearn-color-fitted-level-1: #d4ebff;\n",
              "  --sklearn-color-fitted-level-2: #b3dbfd;\n",
              "  --sklearn-color-fitted-level-3: cornflowerblue;\n",
              "\n",
              "  /* Specific color for light theme */\n",
              "  --sklearn-color-text-on-default-background: var(--sg-text-color, var(--theme-code-foreground, var(--jp-content-font-color1, black)));\n",
              "  --sklearn-color-background: var(--sg-background-color, var(--theme-background, var(--jp-layout-color0, white)));\n",
              "  --sklearn-color-border-box: var(--sg-text-color, var(--theme-code-foreground, var(--jp-content-font-color1, black)));\n",
              "  --sklearn-color-icon: #696969;\n",
              "\n",
              "  @media (prefers-color-scheme: dark) {\n",
              "    /* Redefinition of color scheme for dark theme */\n",
              "    --sklearn-color-text-on-default-background: var(--sg-text-color, var(--theme-code-foreground, var(--jp-content-font-color1, white)));\n",
              "    --sklearn-color-background: var(--sg-background-color, var(--theme-background, var(--jp-layout-color0, #111)));\n",
              "    --sklearn-color-border-box: var(--sg-text-color, var(--theme-code-foreground, var(--jp-content-font-color1, white)));\n",
              "    --sklearn-color-icon: #878787;\n",
              "  }\n",
              "}\n",
              "\n",
              "#sk-container-id-1 {\n",
              "  color: var(--sklearn-color-text);\n",
              "}\n",
              "\n",
              "#sk-container-id-1 pre {\n",
              "  padding: 0;\n",
              "}\n",
              "\n",
              "#sk-container-id-1 input.sk-hidden--visually {\n",
              "  border: 0;\n",
              "  clip: rect(1px 1px 1px 1px);\n",
              "  clip: rect(1px, 1px, 1px, 1px);\n",
              "  height: 1px;\n",
              "  margin: -1px;\n",
              "  overflow: hidden;\n",
              "  padding: 0;\n",
              "  position: absolute;\n",
              "  width: 1px;\n",
              "}\n",
              "\n",
              "#sk-container-id-1 div.sk-dashed-wrapped {\n",
              "  border: 1px dashed var(--sklearn-color-line);\n",
              "  margin: 0 0.4em 0.5em 0.4em;\n",
              "  box-sizing: border-box;\n",
              "  padding-bottom: 0.4em;\n",
              "  background-color: var(--sklearn-color-background);\n",
              "}\n",
              "\n",
              "#sk-container-id-1 div.sk-container {\n",
              "  /* jupyter's `normalize.less` sets `[hidden] { display: none; }`\n",
              "     but bootstrap.min.css set `[hidden] { display: none !important; }`\n",
              "     so we also need the `!important` here to be able to override the\n",
              "     default hidden behavior on the sphinx rendered scikit-learn.org.\n",
              "     See: https://github.com/scikit-learn/scikit-learn/issues/21755 */\n",
              "  display: inline-block !important;\n",
              "  position: relative;\n",
              "}\n",
              "\n",
              "#sk-container-id-1 div.sk-text-repr-fallback {\n",
              "  display: none;\n",
              "}\n",
              "\n",
              "div.sk-parallel-item,\n",
              "div.sk-serial,\n",
              "div.sk-item {\n",
              "  /* draw centered vertical line to link estimators */\n",
              "  background-image: linear-gradient(var(--sklearn-color-text-on-default-background), var(--sklearn-color-text-on-default-background));\n",
              "  background-size: 2px 100%;\n",
              "  background-repeat: no-repeat;\n",
              "  background-position: center center;\n",
              "}\n",
              "\n",
              "/* Parallel-specific style estimator block */\n",
              "\n",
              "#sk-container-id-1 div.sk-parallel-item::after {\n",
              "  content: \"\";\n",
              "  width: 100%;\n",
              "  border-bottom: 2px solid var(--sklearn-color-text-on-default-background);\n",
              "  flex-grow: 1;\n",
              "}\n",
              "\n",
              "#sk-container-id-1 div.sk-parallel {\n",
              "  display: flex;\n",
              "  align-items: stretch;\n",
              "  justify-content: center;\n",
              "  background-color: var(--sklearn-color-background);\n",
              "  position: relative;\n",
              "}\n",
              "\n",
              "#sk-container-id-1 div.sk-parallel-item {\n",
              "  display: flex;\n",
              "  flex-direction: column;\n",
              "}\n",
              "\n",
              "#sk-container-id-1 div.sk-parallel-item:first-child::after {\n",
              "  align-self: flex-end;\n",
              "  width: 50%;\n",
              "}\n",
              "\n",
              "#sk-container-id-1 div.sk-parallel-item:last-child::after {\n",
              "  align-self: flex-start;\n",
              "  width: 50%;\n",
              "}\n",
              "\n",
              "#sk-container-id-1 div.sk-parallel-item:only-child::after {\n",
              "  width: 0;\n",
              "}\n",
              "\n",
              "/* Serial-specific style estimator block */\n",
              "\n",
              "#sk-container-id-1 div.sk-serial {\n",
              "  display: flex;\n",
              "  flex-direction: column;\n",
              "  align-items: center;\n",
              "  background-color: var(--sklearn-color-background);\n",
              "  padding-right: 1em;\n",
              "  padding-left: 1em;\n",
              "}\n",
              "\n",
              "\n",
              "/* Toggleable style: style used for estimator/Pipeline/ColumnTransformer box that is\n",
              "clickable and can be expanded/collapsed.\n",
              "- Pipeline and ColumnTransformer use this feature and define the default style\n",
              "- Estimators will overwrite some part of the style using the `sk-estimator` class\n",
              "*/\n",
              "\n",
              "/* Pipeline and ColumnTransformer style (default) */\n",
              "\n",
              "#sk-container-id-1 div.sk-toggleable {\n",
              "  /* Default theme specific background. It is overwritten whether we have a\n",
              "  specific estimator or a Pipeline/ColumnTransformer */\n",
              "  background-color: var(--sklearn-color-background);\n",
              "}\n",
              "\n",
              "/* Toggleable label */\n",
              "#sk-container-id-1 label.sk-toggleable__label {\n",
              "  cursor: pointer;\n",
              "  display: block;\n",
              "  width: 100%;\n",
              "  margin-bottom: 0;\n",
              "  padding: 0.5em;\n",
              "  box-sizing: border-box;\n",
              "  text-align: center;\n",
              "}\n",
              "\n",
              "#sk-container-id-1 label.sk-toggleable__label-arrow:before {\n",
              "  /* Arrow on the left of the label */\n",
              "  content: \"▸\";\n",
              "  float: left;\n",
              "  margin-right: 0.25em;\n",
              "  color: var(--sklearn-color-icon);\n",
              "}\n",
              "\n",
              "#sk-container-id-1 label.sk-toggleable__label-arrow:hover:before {\n",
              "  color: var(--sklearn-color-text);\n",
              "}\n",
              "\n",
              "/* Toggleable content - dropdown */\n",
              "\n",
              "#sk-container-id-1 div.sk-toggleable__content {\n",
              "  max-height: 0;\n",
              "  max-width: 0;\n",
              "  overflow: hidden;\n",
              "  text-align: left;\n",
              "  /* unfitted */\n",
              "  background-color: var(--sklearn-color-unfitted-level-0);\n",
              "}\n",
              "\n",
              "#sk-container-id-1 div.sk-toggleable__content.fitted {\n",
              "  /* fitted */\n",
              "  background-color: var(--sklearn-color-fitted-level-0);\n",
              "}\n",
              "\n",
              "#sk-container-id-1 div.sk-toggleable__content pre {\n",
              "  margin: 0.2em;\n",
              "  border-radius: 0.25em;\n",
              "  color: var(--sklearn-color-text);\n",
              "  /* unfitted */\n",
              "  background-color: var(--sklearn-color-unfitted-level-0);\n",
              "}\n",
              "\n",
              "#sk-container-id-1 div.sk-toggleable__content.fitted pre {\n",
              "  /* unfitted */\n",
              "  background-color: var(--sklearn-color-fitted-level-0);\n",
              "}\n",
              "\n",
              "#sk-container-id-1 input.sk-toggleable__control:checked~div.sk-toggleable__content {\n",
              "  /* Expand drop-down */\n",
              "  max-height: 200px;\n",
              "  max-width: 100%;\n",
              "  overflow: auto;\n",
              "}\n",
              "\n",
              "#sk-container-id-1 input.sk-toggleable__control:checked~label.sk-toggleable__label-arrow:before {\n",
              "  content: \"▾\";\n",
              "}\n",
              "\n",
              "/* Pipeline/ColumnTransformer-specific style */\n",
              "\n",
              "#sk-container-id-1 div.sk-label input.sk-toggleable__control:checked~label.sk-toggleable__label {\n",
              "  color: var(--sklearn-color-text);\n",
              "  background-color: var(--sklearn-color-unfitted-level-2);\n",
              "}\n",
              "\n",
              "#sk-container-id-1 div.sk-label.fitted input.sk-toggleable__control:checked~label.sk-toggleable__label {\n",
              "  background-color: var(--sklearn-color-fitted-level-2);\n",
              "}\n",
              "\n",
              "/* Estimator-specific style */\n",
              "\n",
              "/* Colorize estimator box */\n",
              "#sk-container-id-1 div.sk-estimator input.sk-toggleable__control:checked~label.sk-toggleable__label {\n",
              "  /* unfitted */\n",
              "  background-color: var(--sklearn-color-unfitted-level-2);\n",
              "}\n",
              "\n",
              "#sk-container-id-1 div.sk-estimator.fitted input.sk-toggleable__control:checked~label.sk-toggleable__label {\n",
              "  /* fitted */\n",
              "  background-color: var(--sklearn-color-fitted-level-2);\n",
              "}\n",
              "\n",
              "#sk-container-id-1 div.sk-label label.sk-toggleable__label,\n",
              "#sk-container-id-1 div.sk-label label {\n",
              "  /* The background is the default theme color */\n",
              "  color: var(--sklearn-color-text-on-default-background);\n",
              "}\n",
              "\n",
              "/* On hover, darken the color of the background */\n",
              "#sk-container-id-1 div.sk-label:hover label.sk-toggleable__label {\n",
              "  color: var(--sklearn-color-text);\n",
              "  background-color: var(--sklearn-color-unfitted-level-2);\n",
              "}\n",
              "\n",
              "/* Label box, darken color on hover, fitted */\n",
              "#sk-container-id-1 div.sk-label.fitted:hover label.sk-toggleable__label.fitted {\n",
              "  color: var(--sklearn-color-text);\n",
              "  background-color: var(--sklearn-color-fitted-level-2);\n",
              "}\n",
              "\n",
              "/* Estimator label */\n",
              "\n",
              "#sk-container-id-1 div.sk-label label {\n",
              "  font-family: monospace;\n",
              "  font-weight: bold;\n",
              "  display: inline-block;\n",
              "  line-height: 1.2em;\n",
              "}\n",
              "\n",
              "#sk-container-id-1 div.sk-label-container {\n",
              "  text-align: center;\n",
              "}\n",
              "\n",
              "/* Estimator-specific */\n",
              "#sk-container-id-1 div.sk-estimator {\n",
              "  font-family: monospace;\n",
              "  border: 1px dotted var(--sklearn-color-border-box);\n",
              "  border-radius: 0.25em;\n",
              "  box-sizing: border-box;\n",
              "  margin-bottom: 0.5em;\n",
              "  /* unfitted */\n",
              "  background-color: var(--sklearn-color-unfitted-level-0);\n",
              "}\n",
              "\n",
              "#sk-container-id-1 div.sk-estimator.fitted {\n",
              "  /* fitted */\n",
              "  background-color: var(--sklearn-color-fitted-level-0);\n",
              "}\n",
              "\n",
              "/* on hover */\n",
              "#sk-container-id-1 div.sk-estimator:hover {\n",
              "  /* unfitted */\n",
              "  background-color: var(--sklearn-color-unfitted-level-2);\n",
              "}\n",
              "\n",
              "#sk-container-id-1 div.sk-estimator.fitted:hover {\n",
              "  /* fitted */\n",
              "  background-color: var(--sklearn-color-fitted-level-2);\n",
              "}\n",
              "\n",
              "/* Specification for estimator info (e.g. \"i\" and \"?\") */\n",
              "\n",
              "/* Common style for \"i\" and \"?\" */\n",
              "\n",
              ".sk-estimator-doc-link,\n",
              "a:link.sk-estimator-doc-link,\n",
              "a:visited.sk-estimator-doc-link {\n",
              "  float: right;\n",
              "  font-size: smaller;\n",
              "  line-height: 1em;\n",
              "  font-family: monospace;\n",
              "  background-color: var(--sklearn-color-background);\n",
              "  border-radius: 1em;\n",
              "  height: 1em;\n",
              "  width: 1em;\n",
              "  text-decoration: none !important;\n",
              "  margin-left: 1ex;\n",
              "  /* unfitted */\n",
              "  border: var(--sklearn-color-unfitted-level-1) 1pt solid;\n",
              "  color: var(--sklearn-color-unfitted-level-1);\n",
              "}\n",
              "\n",
              ".sk-estimator-doc-link.fitted,\n",
              "a:link.sk-estimator-doc-link.fitted,\n",
              "a:visited.sk-estimator-doc-link.fitted {\n",
              "  /* fitted */\n",
              "  border: var(--sklearn-color-fitted-level-1) 1pt solid;\n",
              "  color: var(--sklearn-color-fitted-level-1);\n",
              "}\n",
              "\n",
              "/* On hover */\n",
              "div.sk-estimator:hover .sk-estimator-doc-link:hover,\n",
              ".sk-estimator-doc-link:hover,\n",
              "div.sk-label-container:hover .sk-estimator-doc-link:hover,\n",
              ".sk-estimator-doc-link:hover {\n",
              "  /* unfitted */\n",
              "  background-color: var(--sklearn-color-unfitted-level-3);\n",
              "  color: var(--sklearn-color-background);\n",
              "  text-decoration: none;\n",
              "}\n",
              "\n",
              "div.sk-estimator.fitted:hover .sk-estimator-doc-link.fitted:hover,\n",
              ".sk-estimator-doc-link.fitted:hover,\n",
              "div.sk-label-container:hover .sk-estimator-doc-link.fitted:hover,\n",
              ".sk-estimator-doc-link.fitted:hover {\n",
              "  /* fitted */\n",
              "  background-color: var(--sklearn-color-fitted-level-3);\n",
              "  color: var(--sklearn-color-background);\n",
              "  text-decoration: none;\n",
              "}\n",
              "\n",
              "/* Span, style for the box shown on hovering the info icon */\n",
              ".sk-estimator-doc-link span {\n",
              "  display: none;\n",
              "  z-index: 9999;\n",
              "  position: relative;\n",
              "  font-weight: normal;\n",
              "  right: .2ex;\n",
              "  padding: .5ex;\n",
              "  margin: .5ex;\n",
              "  width: min-content;\n",
              "  min-width: 20ex;\n",
              "  max-width: 50ex;\n",
              "  color: var(--sklearn-color-text);\n",
              "  box-shadow: 2pt 2pt 4pt #999;\n",
              "  /* unfitted */\n",
              "  background: var(--sklearn-color-unfitted-level-0);\n",
              "  border: .5pt solid var(--sklearn-color-unfitted-level-3);\n",
              "}\n",
              "\n",
              ".sk-estimator-doc-link.fitted span {\n",
              "  /* fitted */\n",
              "  background: var(--sklearn-color-fitted-level-0);\n",
              "  border: var(--sklearn-color-fitted-level-3);\n",
              "}\n",
              "\n",
              ".sk-estimator-doc-link:hover span {\n",
              "  display: block;\n",
              "}\n",
              "\n",
              "/* \"?\"-specific style due to the `<a>` HTML tag */\n",
              "\n",
              "#sk-container-id-1 a.estimator_doc_link {\n",
              "  float: right;\n",
              "  font-size: 1rem;\n",
              "  line-height: 1em;\n",
              "  font-family: monospace;\n",
              "  background-color: var(--sklearn-color-background);\n",
              "  border-radius: 1rem;\n",
              "  height: 1rem;\n",
              "  width: 1rem;\n",
              "  text-decoration: none;\n",
              "  /* unfitted */\n",
              "  color: var(--sklearn-color-unfitted-level-1);\n",
              "  border: var(--sklearn-color-unfitted-level-1) 1pt solid;\n",
              "}\n",
              "\n",
              "#sk-container-id-1 a.estimator_doc_link.fitted {\n",
              "  /* fitted */\n",
              "  border: var(--sklearn-color-fitted-level-1) 1pt solid;\n",
              "  color: var(--sklearn-color-fitted-level-1);\n",
              "}\n",
              "\n",
              "/* On hover */\n",
              "#sk-container-id-1 a.estimator_doc_link:hover {\n",
              "  /* unfitted */\n",
              "  background-color: var(--sklearn-color-unfitted-level-3);\n",
              "  color: var(--sklearn-color-background);\n",
              "  text-decoration: none;\n",
              "}\n",
              "\n",
              "#sk-container-id-1 a.estimator_doc_link.fitted:hover {\n",
              "  /* fitted */\n",
              "  background-color: var(--sklearn-color-fitted-level-3);\n",
              "}\n",
              "</style><div id=\"sk-container-id-1\" class=\"sk-top-container\"><div class=\"sk-text-repr-fallback\"><pre>MultinomialNB()</pre><b>In a Jupyter environment, please rerun this cell to show the HTML representation or trust the notebook. <br />On GitHub, the HTML representation is unable to render, please try loading this page with nbviewer.org.</b></div><div class=\"sk-container\" hidden><div class=\"sk-item\"><div class=\"sk-estimator fitted sk-toggleable\"><input class=\"sk-toggleable__control sk-hidden--visually\" id=\"sk-estimator-id-1\" type=\"checkbox\" checked><label for=\"sk-estimator-id-1\" class=\"sk-toggleable__label fitted sk-toggleable__label-arrow fitted\">&nbsp;&nbsp;MultinomialNB<a class=\"sk-estimator-doc-link fitted\" rel=\"noreferrer\" target=\"_blank\" href=\"https://scikit-learn.org/1.5/modules/generated/sklearn.naive_bayes.MultinomialNB.html\">?<span>Documentation for MultinomialNB</span></a><span class=\"sk-estimator-doc-link fitted\">i<span>Fitted</span></span></label><div class=\"sk-toggleable__content fitted\"><pre>MultinomialNB()</pre></div> </div></div></div></div>"
            ],
            "text/plain": [
              "MultinomialNB()"
            ]
          },
          "execution_count": 18,
          "metadata": {},
          "output_type": "execute_result"
        }
      ],
      "source": [
        "# es muy fácil instanciar un modelo de clasificación Naïve Bayes y entrenarlo con sklearn\n",
        "clf = MultinomialNB()\n",
        "clf.fit(X_train, y_train)"
      ]
    },
    {
      "cell_type": "code",
      "execution_count": 19,
      "metadata": {
        "id": "NrQjzM48Mu4T"
      },
      "outputs": [],
      "source": [
        "# con nuestro vectorizador ya fiteado en train, vectorizamos los textos\n",
        "# del conjunto de test\n",
        "X_test = tfidfvect.transform(newsgroups_test.data)\n",
        "y_test = newsgroups_test.target\n",
        "y_pred =  clf.predict(X_test)"
      ]
    },
    {
      "cell_type": "code",
      "execution_count": 20,
      "metadata": {
        "colab": {
          "base_uri": "https://localhost:8080/"
        },
        "id": "UkGJhetEPdA4",
        "outputId": "232ee2ce-e904-466e-be57-babc1f319029"
      },
      "outputs": [
        {
          "data": {
            "text/plain": [
              "0.5854345727938506"
            ]
          },
          "execution_count": 20,
          "metadata": {},
          "output_type": "execute_result"
        }
      ],
      "source": [
        "# el F1-score es una metrica adecuada para reportar desempeño de modelos de claificación\n",
        "# es robusta al desbalance de clases. El promediado 'macro' es el promedio de los\n",
        "# F1-score de cada clase. El promedio 'micro' es equivalente a la accuracy que no\n",
        "# es una buena métrica cuando los datasets son desbalanceados\n",
        "f1_score(y_test, y_pred, average='macro')"
      ]
    },
    {
      "cell_type": "markdown",
      "metadata": {
        "id": "McArD4rSDR2K"
      },
      "source": [
        "# Consigna del desafío 1"
      ]
    },
    {
      "cell_type": "markdown",
      "metadata": {
        "id": "lJgf6GQIIEH1"
      },
      "source": [
        "**1**. Vectorizar documentos. Tomar 5 documentos al azar y medir similaridad con el resto de los documentos.\n",
        "Estudiar los 5 documentos más similares de cada uno analizar si tiene sentido\n",
        "la similaridad según el contenido del texto y la etiqueta de clasificación.\n",
        "\n",
        "**2**. Entrenar modelos de clasificación Naïve Bayes para maximizar el desempeño de clasificación\n",
        "(f1-score macro) en el conjunto de datos de test. Considerar cambiar parámteros\n",
        "de instanciación del vectorizador y los modelos y probar modelos de Naïve Bayes Multinomial\n",
        "y ComplementNB.\n",
        "\n",
        "**3**. Transponer la matriz documento-término. De esa manera se obtiene una matriz\n",
        "término-documento que puede ser interpretada como una colección de vectorización de palabras.\n",
        "Estudiar ahora similaridad entre palabras tomando 5 palabras y estudiando sus 5 más similares. **La elección de palabras no debe ser al azar para evitar la aparición de términos poco interpretables, elegirlas \"manualmente\"**.\n"
      ]
    },
    {
      "cell_type": "markdown",
      "metadata": {},
      "source": []
    },
    {
      "cell_type": "markdown",
      "metadata": {},
      "source": [
        "# Desarrollo desafío 1\n",
        "\n",
        "\n"
      ]
    },
    {
      "cell_type": "markdown",
      "metadata": {},
      "source": [
        "### Se cargan librerías"
      ]
    },
    {
      "cell_type": "code",
      "execution_count": 25,
      "metadata": {},
      "outputs": [],
      "source": [
        "from sklearn.feature_extraction.text import CountVectorizer, TfidfVectorizer\n",
        "from sklearn.metrics.pairwise import cosine_similarity\n",
        "from sklearn.naive_bayes import MultinomialNB, ComplementNB\n",
        "from sklearn.metrics import f1_score\n",
        "from sklearn.datasets import fetch_20newsgroups\n",
        "from sklearn.model_selection import RandomizedSearchCV\n",
        "from sklearn.pipeline import Pipeline\n",
        "from utils import analyze_document_similarity, find_top_similar_terms\n",
        "\n",
        "import numpy as np\n"
      ]
    },
    {
      "cell_type": "markdown",
      "metadata": {},
      "source": [
        "### Carga de los datos"
      ]
    },
    {
      "cell_type": "code",
      "execution_count": 26,
      "metadata": {},
      "outputs": [],
      "source": [
        "newsgroups_train = fetch_20newsgroups(subset='train', remove=('headers', 'footers', 'quotes'))\n",
        "newsgroups_test = fetch_20newsgroups(subset='test', remove=('headers', 'footers', 'quotes'))"
      ]
    },
    {
      "cell_type": "markdown",
      "metadata": {},
      "source": [
        "### 1. Vectorización de documentos\n",
        "Vectorizar documentos. Tomar 5 documentos al azar y medir similaridad con el resto de los documentos. Estudiar los 5 documentos más similares de cada uno analizar si tiene sentido la similaridad según el contenido del texto y la etiqueta de clasificación.\n",
        "\n",
        "Se inicializa el vectorizador TF-IDF y se entrena"
      ]
    },
    {
      "cell_type": "code",
      "execution_count": 27,
      "metadata": {},
      "outputs": [],
      "source": [
        "tfidfvect = TfidfVectorizer()\n",
        "\n",
        "X_train = tfidfvect.fit_transform(newsgroups_train.data)\n",
        "y_train = newsgroups_train.target"
      ]
    },
    {
      "cell_type": "code",
      "execution_count": 28,
      "metadata": {},
      "outputs": [
        {
          "name": "stdout",
          "output_type": "stream",
          "text": [
            "<class 'scipy.sparse._csr.csr_matrix'>\n",
            "Shape: (11314, 101631)\n",
            "Number of documents: 11314\n",
            "Vocabulary size: 101631\n"
          ]
        }
      ],
      "source": [
        "print(type(X_train))\n",
        "print(f'Shape: {X_train.shape}')\n",
        "print(f'Number of documents: {X_train.shape[0]}')\n",
        "print(f'Vocabulary size: {X_train.shape[1]}')"
      ]
    },
    {
      "cell_type": "markdown",
      "metadata": {},
      "source": [
        "Se obtienen los identificadores de cinco documentos al aza"
      ]
    },
    {
      "cell_type": "code",
      "execution_count": 46,
      "metadata": {},
      "outputs": [
        {
          "name": "stdout",
          "output_type": "stream",
          "text": [
            "Randomly selected documents indices: [5925 4517  500  919 4859]\n"
          ]
        }
      ],
      "source": [
        "np.random.seed(30)\n",
        "\n",
        "documents_idx = np.random.choice(X_train.shape[0], 5)\n",
        "print(f\"Randomly selected documents indices: {documents_idx}\")"
      ]
    },
    {
      "cell_type": "markdown",
      "metadata": {},
      "source": [
        "### Análisis del documento 5925"
      ]
    },
    {
      "cell_type": "code",
      "execution_count": 50,
      "metadata": {},
      "outputs": [
        {
          "name": "stdout",
          "output_type": "stream",
          "text": [
            "Most similar documents to document 5925: [8379 1205 1589 7206 1706]\n"
          ]
        }
      ],
      "source": [
        "main_idx = 5925\n",
        "\n",
        "# Calculate the cosine similarity between the main document and all the other documents\n",
        "cos_sim = cosine_similarity(X_train[main_idx], X_train)[0]\n",
        "\n",
        "# Get the indices of the most similar documents\n",
        "most_similar_idx = np.argsort(cos_sim)[::-1][1:6]\n",
        "\n",
        "print(f'Most similar documents to document {main_idx}: {most_similar_idx}')"
      ]
    },
    {
      "cell_type": "markdown",
      "metadata": {},
      "source": [
        "Se muestra el contenido del documento que hemos seleccionado"
      ]
    },
    {
      "cell_type": "code",
      "execution_count": 51,
      "metadata": {},
      "outputs": [
        {
          "name": "stdout",
          "output_type": "stream",
          "text": [
            "Class for document 5925: rec.sport.baseball\n",
            "Content:\n",
            "\n",
            "Why not?  Brooks Robinson is a defensive liability too, and Ted\n",
            "Williams is a weak hitter.  Even great players decline as they age.\n"
          ]
        }
      ],
      "source": [
        "print(f'Class for document {main_idx}: {newsgroups_train.target_names[y_train[main_idx]]}')\n",
        "print(f'Content:\\n{newsgroups_train.data[main_idx]}')"
      ]
    },
    {
      "cell_type": "markdown",
      "metadata": {},
      "source": [
        "El documento seleccionado parece estar relacionado con comentarios deportivos acerca de jugadores de basket."
      ]
    },
    {
      "cell_type": "markdown",
      "metadata": {},
      "source": [
        "Se analizan los documentos más similares"
      ]
    },
    {
      "cell_type": "code",
      "execution_count": 53,
      "metadata": {},
      "outputs": [
        {
          "name": "stdout",
          "output_type": "stream",
          "text": [
            "\n",
            "Top 5 Similar Documents:\n",
            "--------------------------------------------------\n",
            "\n",
            "==================================================\n",
            "Analyzing Document 8379\n",
            "==================================================\n",
            "Content:\n",
            "\n",
            "That's rich... Ozzie Smith a defensive liability...\n",
            "\n",
            "Document Class: rec.sport.baseball\n",
            "Reference Document Class: rec.sport.baseball\n",
            "==================================================\n",
            "\n",
            "==================================================\n",
            "Analyzing Document 1205\n",
            "==================================================\n",
            "Content:\n",
            "\n",
            "\n",
            "Gretzky, Lemieux, Gilmour etc do not play the role of checking centreman.\n",
            "They play an offensive role as opposed to a defensive one.  If they\n",
            "were used as defensive centres it would be a waste of th\n",
            "\n",
            "Document Class: rec.sport.hockey\n",
            "Reference Document Class: rec.sport.baseball\n",
            "==================================================\n",
            "\n",
            "==================================================\n",
            "Analyzing Document 1589\n",
            "==================================================\n",
            "Content:\n",
            "Don't knock Vaughn for being a spring training .400 hitter\n",
            "but a .250 regular season hitter.\n",
            "Around 30 games played isn't an indication of how good any\n",
            "hitter is, and the quality of pitching is way do\n",
            "\n",
            "Document Class: rec.sport.baseball\n",
            "Reference Document Class: rec.sport.baseball\n",
            "==================================================\n",
            "\n",
            "==================================================\n",
            "Analyzing Document 7206\n",
            "==================================================\n",
            "Content:\n",
            "\n",
            "Why?  Do you expect him to remain the best shortstop in the game until\n",
            "he reaches his seventy-third birthday, or something?  Why is it such a\n",
            "strange concept that a forty-one-year-old Ozzie Smith mig\n",
            "\n",
            "Document Class: rec.sport.baseball\n",
            "Reference Document Class: rec.sport.baseball\n",
            "==================================================\n",
            "\n",
            "==================================================\n",
            "Analyzing Document 1706\n",
            "==================================================\n",
            "Content:\n",
            "\n",
            "i have no idea, nor do i care.  however, i'd like to point out that\n",
            "blomberg got the first plate appearance by a designated hitter, and\n",
            "the first walk by a designated hitter.  i am not sure, but i do\n",
            "\n",
            "Document Class: rec.sport.baseball\n",
            "Reference Document Class: rec.sport.baseball\n",
            "==================================================\n"
          ]
        }
      ],
      "source": [
        "analyze_document_similarity(most_similar_idx,\n",
        "                            newsgroups_train.data,\n",
        "                            newsgroups_train.target,\n",
        "                            newsgroups_train.target_names,\n",
        "                            cos_sim, main_idx)\n",
        " "
      ]
    },
    {
      "cell_type": "markdown",
      "metadata": {},
      "source": [
        "Relación entre los textos:\n",
        "\n",
        "Documentos de béisbol: La mayoría de los documentos analizados están clasificados bajo la categoría rec.sport.baseball, que corresponde a discusiones sobre béisbol. Algunos mencionan jugadores y temas específicos del deporte, como Ozzie Smith o Vaughn.\n",
        "\n",
        "Documento de hockey: Uno de los documentos está clasificado como rec.sport.hockey, y su contenido trata sobre jugadores de hockey, como Gretzky y Lemieux, en roles ofensivos y defensivos.\n",
        "\n",
        "Similitud temática: Aunque uno de los documentos pertenece a la categoría de hockey, los demás están enfocados en béisbol. Todos comparten el contexto deportivo, pero con énfasis en diferentes deportes.\n",
        "\n",
        "La similitud entre estos documentos radica en el contexto deportivo general, aunque algunos se centran en diferentes deportes. La mayoría están alineados en la temática del béisbol."
      ]
    },
    {
      "cell_type": "markdown",
      "metadata": {},
      "source": [
        "### Análisis del documento 4517"
      ]
    },
    {
      "cell_type": "markdown",
      "metadata": {},
      "source": [
        "Se obtienen los índices de los documentos mas similares al doumento 4517"
      ]
    },
    {
      "cell_type": "code",
      "execution_count": 54,
      "metadata": {},
      "outputs": [
        {
          "name": "stdout",
          "output_type": "stream",
          "text": [
            "Most similar documents to document 4517: [ 2757 10703  4710  5509  4637]\n"
          ]
        }
      ],
      "source": [
        "main_idx = 4517\n",
        "\n",
        "# Calculate the cosine similarity between the main document and all the other documents\n",
        "cos_sim = cosine_similarity(X_train[main_idx], X_train)[0]\n",
        "\n",
        "# Get the indices of the most similar documents\n",
        "most_similar_idx = np.argsort(cos_sim)[::-1][1:6]\n",
        "\n",
        "print(f'Most similar documents to document {main_idx}: {most_similar_idx}')"
      ]
    },
    {
      "cell_type": "markdown",
      "metadata": {},
      "source": [
        "Se muestra el contenido del documento seleccionado"
      ]
    },
    {
      "cell_type": "code",
      "execution_count": 55,
      "metadata": {},
      "outputs": [
        {
          "name": "stdout",
          "output_type": "stream",
          "text": [
            "Class for document 4517: comp.os.ms-windows.misc\n",
            "Content:\n",
            "\n",
            "\n",
            "\n",
            "\n",
            "\n",
            "\n",
            "\n",
            "1) make sure your hard drive is defragmented. This will speed up more than \n",
            "   just windows BTW.  Use something like Norton's or PC Tools.\n",
            "2) I _think_ that leaving the wall paper out will use less RAM and therefore\n",
            "   will speed up your machine but I could very will be wrong on this.\n",
            "There's a good chance you've already done this but if not it may speed things\n",
            "up.  good luck\n",
            "\t\t\t\tMorgan Bullard mb4008@coewl.cen.uiuc.edu\n",
            "\t\t\t\t\t  or   mjbb@uxa.cso.uiuc.edu\n"
          ]
        }
      ],
      "source": [
        "print(f'Class for document {main_idx}: {newsgroups_train.target_names[y_train[main_idx]]}')\n",
        "print(f'Content:\\n{newsgroups_train.data[main_idx]}')"
      ]
    },
    {
      "cell_type": "markdown",
      "metadata": {},
      "source": [
        "El contenido del documento aborda temas relacionados con la optimización del rendimiento en computadoras que usan Windows. Los puntos clave que se tocan incluyen:\n",
        "\n",
        "- Desfragmentación del disco duro\n",
        "- Uso de recursos del sistema\n",
        "- Consejos generales de optimización"
      ]
    },
    {
      "cell_type": "markdown",
      "metadata": {},
      "source": [
        "Se analizan documentos similares"
      ]
    },
    {
      "cell_type": "code",
      "execution_count": 56,
      "metadata": {},
      "outputs": [
        {
          "name": "stdout",
          "output_type": "stream",
          "text": [
            "\n",
            "Top 5 Similar Documents:\n",
            "--------------------------------------------------\n",
            "\n",
            "==================================================\n",
            "Analyzing Document 2757\n",
            "==================================================\n",
            "Content:\n",
            "\n",
            "I was wondering if any one knew how the various hard drive compression utilities work.  My hard\n",
            "drive is getting full and I don't want to have to buy a new one.  What I'm intrested in is speed\n",
            ",ease \n",
            "\n",
            "Document Class: comp.os.ms-windows.misc\n",
            "Reference Document Class: comp.os.ms-windows.misc\n",
            "==================================================\n",
            "\n",
            "==================================================\n",
            "Analyzing Document 10703\n",
            "==================================================\n",
            "Content:\n",
            "\n",
            "\n",
            "\n",
            "That's a standby unit not a UPS, otherwise there would be no interuption.\n",
            "Many standby units are labled as UPS's though.  \n",
            " \t\t\tMorgan Bullard mb4008@coewl.cen.uiuc.edu\n",
            "\t\t\t\t   or  mjbb@uxa.cso.uiuc.\n",
            "\n",
            "Document Class: sci.electronics\n",
            "Reference Document Class: comp.os.ms-windows.misc\n",
            "==================================================\n",
            "\n",
            "==================================================\n",
            "Analyzing Document 4710\n",
            "==================================================\n",
            "Content:\n",
            "\n",
            "\n",
            "Your machine will run at whatever the bus is jumpered to/CMOS is set to\n",
            "(usually wait states) regardless of what speed RAM is installed.  No\n",
            "motherboard can sense the speed of the RAM installed, unl\n",
            "\n",
            "Document Class: comp.sys.ibm.pc.hardware\n",
            "Reference Document Class: comp.os.ms-windows.misc\n",
            "==================================================\n",
            "\n",
            "==================================================\n",
            "Analyzing Document 5509\n",
            "==================================================\n",
            "Content:\n",
            "rvenkate@ux4.cso.uiuc.edu (Ravikuma Venkateswar) writes ...\n",
            "\n",
            "Benchmarks are for marketing dweebs and CPU envy.  OK, if it will make\n",
            "you happy, the 486 is faster than the 040.  BFD.  Both architectures\n",
            "\n",
            "Document Class: comp.sys.mac.hardware\n",
            "Reference Document Class: comp.os.ms-windows.misc\n",
            "==================================================\n",
            "\n",
            "==================================================\n",
            "Analyzing Document 4637\n",
            "==================================================\n",
            "Content:\n",
            "From article <C5quw0.Btq@ux1.cso.uiuc.edu>, by mikeh@ux1.cso.uiuc.edu (Mike Hollyman):\n",
            "\tI dont think its the carbs that are out, I would suspect that\n",
            "the cam timing is out, & as you say that you had t\n",
            "\n",
            "Document Class: rec.motorcycles\n",
            "Reference Document Class: comp.os.ms-windows.misc\n",
            "==================================================\n"
          ]
        }
      ],
      "source": [
        "analyze_document_similarity(most_similar_idx,\n",
        "                            newsgroups_train.data,\n",
        "                            newsgroups_train.target,\n",
        "                            newsgroups_train.target_names,\n",
        "                            cos_sim, main_idx)"
      ]
    },
    {
      "cell_type": "markdown",
      "metadata": {},
      "source": [
        "El análisis de similitud entre los documentos revela que, aunque todos los textos pertenecen a distintas categorías temáticas, comparten elementos relacionados con tecnología y hardware, pero desde diferentes enfoques. Se observan las siguientes similitudes y diferencias:\n",
        "\n",
        "Similitudes:\n",
        "Temática tecnológica: Todos los documentos tocan temas relacionados con la tecnología, el hardware o el funcionamiento técnico de sistemas. Esto incluye preguntas sobre hardware de computadoras, compresión de discos o configuraciones de hardware.\n",
        "Consejos técnicos: Varios textos ofrecen o solicitan soluciones o explicaciones técnicas, como en el caso de las utilidades de compresión de disco, la velocidad de la RAM, o la discusión sobre unidades de energía UPS.\n",
        "\n",
        "Referencias a configuraciones o componentes: Los documentos se refieren a configuraciones de hardware, como la velocidad del bus o la comparación entre arquitecturas de procesadores, lo cual es consistente con la categoría \"comp.os.ms-windows.misc\".\n",
        "\n",
        "Diferencias:\n",
        "Categoría de los documentos: Aunque el documento de referencia pertenece a \"comp.os.ms-windows.misc\", varios documentos analizados pertenecen a diferentes categorías, como sci.electronics, comp.sys.ibm.pc.hardware, comp.sys.mac.hardware y rec.motorcycles. Esto sugiere que aunque hay similitud temática, los tópicos específicos varían desde sistemas operativos de Windows hasta discusiones sobre motocicletas.\n",
        "\n",
        "Enfoque del contenido: Algunos documentos están más centrados en el hardware (por ejemplo, velocidad de RAM o benchmarks de procesadores), mientras que otros tocan temas más amplios, como la energía ininterrumpida o incluso la mecánica de motocicletas.\n",
        "Relación general:\n",
        "\n",
        "Todos los documentos están conectados a la tecnología o la optimización del rendimiento de sistemas, pero cubren un rango amplio de subtemas, desde software hasta hardware, y en un caso incluso fuera del ámbito computacional (motocicletas). Aunque hay una base común en tecnología, los detalles y las categorías varían bastante."
      ]
    },
    {
      "cell_type": "markdown",
      "metadata": {},
      "source": [
        "### Análisis del documento 500  \n",
        "\n",
        "Se obtienen los índices de los documentos mas similares al doumento 500\n",
        " "
      ]
    },
    {
      "cell_type": "code",
      "execution_count": 57,
      "metadata": {},
      "outputs": [
        {
          "name": "stdout",
          "output_type": "stream",
          "text": [
            "Most similar documents to document 500: [3174 5786 9867  576 6676]\n"
          ]
        }
      ],
      "source": [
        "main_idx = 500\n",
        "\n",
        "# Calculate the cosine similarity between the main document and all the other documents\n",
        "cos_sim = cosine_similarity(X_train[main_idx], X_train)[0]\n",
        "\n",
        "# Get the indices of the most similar documents\n",
        "most_similar_idx = np.argsort(cos_sim)[::-1][1:6]\n",
        "\n",
        "print(f'Most similar documents to document {main_idx}: {most_similar_idx}')"
      ]
    },
    {
      "cell_type": "markdown",
      "metadata": {},
      "source": [
        "Se muestra el contenido del documento seleccionado"
      ]
    },
    {
      "cell_type": "code",
      "execution_count": 58,
      "metadata": {},
      "outputs": [
        {
          "name": "stdout",
          "output_type": "stream",
          "text": [
            "Class for document 500: comp.os.ms-windows.misc\n",
            "Content:\n",
            "\n",
            "I got one from Microsoft tech support.\n",
            "\n"
          ]
        }
      ],
      "source": [
        "print(f'Class for document {main_idx}: {newsgroups_train.target_names[y_train[main_idx]]}')\n",
        "print(f'Content:\\n{newsgroups_train.data[main_idx]}')"
      ]
    },
    {
      "cell_type": "markdown",
      "metadata": {},
      "source": [
        "El documento está clasificado en la categoría comp.os.ms-windows.misc, lo que indica que está relacionado con discusiones generales sobre Windows o problemas técnicos asociados con el sistema operativo."
      ]
    },
    {
      "cell_type": "markdown",
      "metadata": {},
      "source": [
        "Se analizan documentos similares"
      ]
    },
    {
      "cell_type": "code",
      "execution_count": 59,
      "metadata": {},
      "outputs": [
        {
          "name": "stdout",
          "output_type": "stream",
          "text": [
            "\n",
            "Top 5 Similar Documents:\n",
            "--------------------------------------------------\n",
            "\n",
            "==================================================\n",
            "Analyzing Document 3174\n",
            "==================================================\n",
            "Content:\n",
            "This probably is in a FAQ somewhere, but....\n",
            "\n",
            "I'm looking for Microsoft's internal speaker sound driver for Windows.\n",
            "\n",
            "Should be at Microsoft's FTP site, but I can't remember the name of the site...\n",
            "\n",
            "Document Class: comp.os.ms-windows.misc\n",
            "Reference Document Class: comp.os.ms-windows.misc\n",
            "==================================================\n",
            "\n",
            "==================================================\n",
            "Analyzing Document 5786\n",
            "==================================================\n",
            "Content:\n",
            "FOR SALE !!!\n",
            "\n",
            "      DECpc 325sxLP\n",
            "\n",
            "   It's in very good condition, used for one year. It has\n",
            "\n",
            "      - 25 Mhz Intel 386\n",
            "      - 52 MB Hard Disk\n",
            "      - Super Color VGA Monitor\n",
            "      - 2-button mouse\n",
            "  \n",
            "\n",
            "Document Class: comp.sys.ibm.pc.hardware\n",
            "Reference Document Class: comp.os.ms-windows.misc\n",
            "==================================================\n",
            "\n",
            "==================================================\n",
            "Analyzing Document 9867\n",
            "==================================================\n",
            "Content:\n",
            "As quoted from <1993Apr17.025258.7013@microsoft.com> by anthonyf@microsoft.com (Anthony Francisco):\n",
            "\n",
            "\n",
            "That's life.  First you marry Imelda Marcos, then you die! :)\n",
            "\n",
            "\n",
            "And that's the HARD stuff to copy!\n",
            "\n",
            "Document Class: talk.politics.guns\n",
            "Reference Document Class: comp.os.ms-windows.misc\n",
            "==================================================\n",
            "\n",
            "==================================================\n",
            "Analyzing Document 576\n",
            "==================================================\n",
            "Content:\n",
            "\n",
            "I tried the right set and it didn't work.  I'm on the phone to their\n",
            "tech support right now and the guys doesn't know what a desktop\n",
            "rebuild is!!!  He's got me holding for someone else...............\n",
            "\n",
            "Document Class: comp.sys.mac.hardware\n",
            "Reference Document Class: comp.os.ms-windows.misc\n",
            "==================================================\n",
            "\n",
            "==================================================\n",
            "Analyzing Document 6676\n",
            "==================================================\n",
            "Content:\n",
            "OK..... thanks to all of you who responded to my post.\n",
            "here's the \"official\" response from orchid..\n",
            "Orchid is aware of the problem, the new rev of the board (rev d) SHOULD         (not would) take car\n",
            "\n",
            "Document Class: comp.sys.ibm.pc.hardware\n",
            "Reference Document Class: comp.os.ms-windows.misc\n",
            "==================================================\n"
          ]
        }
      ],
      "source": [
        "analyze_document_similarity(most_similar_idx,\n",
        "                            newsgroups_train.data,\n",
        "                            newsgroups_train.target,\n",
        "                            newsgroups_train.target_names,\n",
        "                            cos_sim, main_idx)"
      ]
    },
    {
      "cell_type": "markdown",
      "metadata": {},
      "source": [
        "Análisis de Similitudes:\n",
        "\n",
        "Los textos comparten un enfoque común en temas relacionados con la tecnología y el soporte técnico. Hay un énfasis en la búsqueda de soluciones a problemas de hardware y software, así como en la necesidad de asistencia técnica. Algunos textos discuten la adquisición o venta de hardware, mientras que otros abordan problemas específicos y la comunicación con el soporte técnico.\n",
        "\n",
        "Conclusión:\n",
        "\n",
        "La discusión refleja un interés general en la resolución de problemas tecnológicos, con un enfoque en la interacción con el soporte técnico y el manejo de equipos informáticos. Esta variedad de temas resalta la importancia de la comunidad en la búsqueda de soluciones y el intercambio de información técnica."
      ]
    },
    {
      "cell_type": "markdown",
      "metadata": {},
      "source": [
        "### Analisis del documento 919\n",
        "\n",
        "Se obtienen los índices mas similares al documento 919"
      ]
    },
    {
      "cell_type": "code",
      "execution_count": 60,
      "metadata": {},
      "outputs": [
        {
          "name": "stdout",
          "output_type": "stream",
          "text": [
            "Most similar documents to document 919: [9623 6437 1292 3282 7286]\n"
          ]
        }
      ],
      "source": [
        "main_idx = 919\n",
        "\n",
        "# Calculate the cosine similarity between the main document and all the other documents\n",
        "cos_sim = cosine_similarity(X_train[main_idx], X_train)[0]\n",
        "\n",
        "# Get the indices of the most similar documents\n",
        "most_similar_idx = np.argsort(cos_sim)[::-1][1:6]\n",
        "\n",
        "print(f'Most similar documents to document {main_idx}: {most_similar_idx}')"
      ]
    },
    {
      "cell_type": "markdown",
      "metadata": {},
      "source": [
        "Se muestra el contenido del documento seleccionado"
      ]
    },
    {
      "cell_type": "code",
      "execution_count": 61,
      "metadata": {},
      "outputs": [
        {
          "name": "stdout",
          "output_type": "stream",
          "text": [
            "Class for document 919: talk.politics.mideast\n",
            "Content:\n",
            "Accounts of Anti-Armenian Human Right Violatins in Azerbaijan #009\n",
            "                 Prelude to Current Events in Nagorno-Karabakh\n",
            "\n",
            "      +-----------------------------------------------------------------+\n",
            "      |                                                                 |\n",
            "      | There were about six burned people in there, and the small      |\n",
            "      | corpse of a burned child. It was gruesome. I suffered a         |\n",
            "      | tremendous shock. There were about ten people there, but the    |\n",
            "      | doctor on duty said that because of the numbers they were being |\n",
            "      | taken to Baku. There was a woman's corpse there too, she had    |\n",
            "      | been . . . well, there was part of a body there . . . a         |\n",
            "      | hacked-off part of a woman's body. It was something terrible.   |\n",
            "      |                                                                 |\n",
            "      +-----------------------------------------------------------------+\n",
            "\n",
            "DEPOSITION OF ROMAN ALEKSANDROVICH GAMBARIAN\n",
            "\n",
            "   Born 1954\n",
            "   Senior Engineer\n",
            "   Sumgait Automotive Transport Production Association\n",
            "\n",
            "   Resident at Building 17/33B, Apartment 40\n",
            "   Microdistrict No. 3\n",
            "   Sumgait [Azerbaijan]\n",
            "\n",
            "\n",
            "What happened in Sumgait was a great tragedy, an awful tragedy for us, the \n",
            "Armenian people, and for all of mankind. A genocide of Armenians took place\n",
            "during peacetime.\n",
            "\n",
            "And it was a great tragedy for me personally, because I lost my father in\n",
            "those days. He was still young. Born in 1926.\n",
            "\n",
            "On that day, February 28, we were at home. Of course we had heard that there \n",
            "was unrest in town, my younger brother Aleksandr had told us about it. But we \n",
            "didn't think . . . we thought that everything would happen outdoors, that they\n",
            "wouldn't go into people's apartments. About five o'clock we saw a large crowd \n",
            "near the Kosmos movie theater in our microdistrict. We were sitting at home \n",
            "watching television. We go out on the balcony and see the crowd pour into Mir \n",
            "Street. This is right near downtown, next to the airline ticket office, our \n",
            "house is right nearby. That day there was a group of policeman with shields\n",
            "there. They threw rocks at those policemen. Then they moved off in the \n",
            "direction of our building. They burned a motorcycle in our courtyard and \n",
            "started shouting for Armenians to come out of the building. We switched off \n",
            "the light. As it turns out, their signal was just the opposite: to turn on the\n",
            "light. That meant that it was an Azerbaijani home. We, of course, didn't know \n",
            "and thought that if they saw lights on they would come to our apartment.\n",
            "\n",
            "Suddenly there's pounding on the door. We go to the door, all four of us:\n",
            "there were four of us in the apartment. Father, Mother, my younger brother\n",
            "Aleksandr, and I. He was born in 1959. My father was a veteran of World War \n",
            "II and had fought in China and in the Soviet Far East; he was a pilot.\n",
            "\n",
            "We went to the door and they started pounding on it harder, breaking it down \n",
            "with axes. We start to talk to them in Azerbaijani, \"What's going on? What's \n",
            "happened?\" They say, \"Armenians, get out of here!\" We don't open the door, we \n",
            "say, \"If we have to leave, we'll leave, we'll leave tomorrow.\" They say, \"No, \n",
            "leave now, get out of here, Armenian dogs, get out of here!\" By now they've \n",
            "broken the door both on the lock and the hinge sides. We hold them off as best\n",
            "we can, my father and I on one side, and my mother and brother on the other. \n",
            "We had prepared ourselves: we had several hammers and an axe in the apartment,\n",
            "and grabbed what we could find to defend ourselves. They broke in the door and\n",
            "when the door gave way, we held it for another half-hour. No neighbors, no\n",
            "police and no one from the city government came to our aid the whole time. We \n",
            "held the door. They started to smash the door on the lock side, first with an \n",
            "axe, and then with a crowbar.\n",
            "\n",
            "When the door gave way--they tore it off its hinges--Sasha hit one of them \n",
            "with the axe. The axe flew out of his hands. They also had axes, crowbars, \n",
            "pipes, and special rods made from armature shafts. One of them hit my father \n",
            "in the head. The pressure from the mob was immense. When we retreated into the\n",
            "room, one of them hit my mother, too, in the left part of her face. My brother\n",
            "Sasha and I fought back, of course. Sasha is quite strong and hot-tempered, he\n",
            "was the judo champion of Sumgait. We had hammers in our hands, and we injured \n",
            "several of the bandits--in the heads and in the eyes, all that went on. But \n",
            "they, the injured ones, fell back, and others came to take their places, there\n",
            "were many of them.\n",
            "\n",
            "The door fell down at an angle. The mob tried to remove the door, so as to go \n",
            "into the second room and to continue . . . to finish us off. Father brought \n",
            "skewers and gave them to Sasha and me--we flew at them when we saw Father \n",
            "bleeding: his face was covered with blood, he had been wounded in the head, \n",
            "and his whole face was bloody. We just threw ourselves on them when we saw \n",
            "that. We threw ourselves at the mob and drove back the ones in the hall, drove\n",
            "them down to the third floor. We came out on the landing, but a group of the \n",
            "bandits remained in one of the rooms they were smashing all the furniture in \n",
            "there, having closed the door behind them. We started tearing the door off to \n",
            "chase away the remaining ones or finish them. Then a man, an imposing man of \n",
            "about 40, an Azerbaijani, came in. When he was coming in, Father fell down and\n",
            "Mother flew to him, and started to cry out. I jumped out onto the balcony and \n",
            "started calling an ambulance, but then the mob started throwing stones through\n",
            "the windows of our veranda and kitchen. We live on the fourth floor. And no \n",
            "one came. I went into the room. It seemed to me that this man was the leader \n",
            "of the group. He was respectably dressed in a hat and a trench coat with a \n",
            "fur collar. And he addressed my mother in Azerbaijani: \"What's with you, \n",
            "woman, why are you shouting? What happened? Why are you shouting like that?\"\n",
            "She says, \"What do you mean, what happened? You killed somebody!\" My father \n",
            "was a musician, he played the clarinet, he played at many weddings, Armenian \n",
            "and Azerbaijani, he played for many years. Everyone knew him. Mother says, \n",
            "\"The person who you killed played at thousands of Azerbaijani weddings, he \n",
            "brought so much joy to people, and you killed that person.\" He says, \"You \n",
            "don't need to shout, stop shouting.\" And when they heard the voice of this \n",
            "man, the 15 to 18 people who were in the other room opened the door and \n",
            "started running out. We chased after them, but they ran away. That man left, \n",
            "too. As we were later told, downstairs one of them told the others, I don't \n",
            "know if it was from fright or what, told them that we had firearms, even\n",
            "though we only fought with hammers and an axe. We raced to Father and started \n",
            "to massage his heart, but it was already too late. We asked the neighbors to \n",
            "call an ambulance. The ambulance never came, although we waited for it all \n",
            "evening and all through the night.\n",
            "\n",
            "Somewhere around midnight about 15 policemen came. They informed us they were \n",
            "from Khachmas. They said, \"We heard that a group was here at your place, you \n",
            "have our condolences.\" They told us not to touch anything and left. Father lay\n",
            "in the room.\n",
            "\n",
            "So we stayed home. Each of us took a hammer and a knife. We sat at home. Well,\n",
            "we say, if they descend on us again we'll defend ourselves. Somewhere around \n",
            "one o'clock in the morning two people came from the Sumgait Procuracy, \n",
            "investigators. They say, \"Leave everything just how it is, we're coming back \n",
            "here soon and will bring an expert who will record and photograph everything.\"\n",
            "Then people came from the Republic Procuracy too, but no one helped us take \n",
            "Father away. The morning came and the neighbors arrived. We wanted to take \n",
            "Father away somehow. We called the Procuracy and the police a couple of times,\n",
            "but no one came. We called an ambulance, and nobody came. Then one of the \n",
            "neighbors said that the bandits were coming to our place again and we should \n",
            "hide. We secured the door somehow or other. We left Father in the room and \n",
            "went up to the neighbor's.\n",
            "\n",
            "The excesses began again in the morning. The bandits came in several vehicles,\n",
            "ZIL panel trucks, and threw themselves out of the vehicles like . . . a \n",
            "landing force near the center of town. Our building was located right there. A\n",
            "crowd formed. Then they started fighting with the soldiers. Then, in Buildings\n",
            "19 and 20, that's next to the airline ticket office, they started breaking \n",
            "into Armenian apartments, destroying property, and stealing. The Armenians \n",
            "weren't at home, they had managed to flee and hide somewhere. And again they \n",
            "poured in the direction of our building. They were shouting that there were \n",
            "some Armenians left on the fourth floor, meaning us. \"They're up there, still,\n",
            "up there. Let's go kill them!\" They broke up all the furniture remaining in \n",
            "the two rooms, threw it outside, and burned it in large fires. We were hiding \n",
            "one floor up. Something heavy fell. Sasha threw himself toward the door \n",
            "shouting that it was probably Father, they had thrown Father, were defiling \n",
            "the corpse, probably throwing it in the fire, going to burn it. I heard it, \n",
            "and the sound was kind of hollow, and I said, \"No, that's from some of the \n",
            "furniture.\" Mother and I pounced on Sasha and stopped him somehow, and calmed \n",
            "him down.\n",
            "\n",
            "The mob left somewhere around eight o'clock. They smashed open the door and \n",
            "went into the apartment of the neighbors across from us. They were also\n",
            "Armenians, they had left for another city.\n",
            "\n",
            "The father of the neighbor who was concealing us came and said, \"Are you \n",
            "crazy? Why are you hiding Armenians? Don't you now they're checking all the \n",
            "apartments? They could kill you and them!\" And to us :\" . . . Come on, leave \n",
            "this apartment!\" We went down to the third floor, to some other neighbors'. At\n",
            "first the man didn't want to let us in, but then one of his sons asked him and\n",
            "he relented. We stayed there until eleven o'clock at night. We heard the sound\n",
            "of motors. The neighbors said that it was armored personnel carriers. We went \n",
            "downstairs. There was a light on in the room where we left Father. In the \n",
            "other rooms, as we found out later, all the chandeliers had been torn down. \n",
            "They left only one bulb. The bulb was burning, which probably was a signal \n",
            "they had agreed on because there was a light burning in every apartment in our\n",
            "Microdistrict 3 where there had been a pogrom.\n",
            "\n",
            "With the help of the soldiers we made it to the City Party Committee and were \n",
            "saved. Our salvation--my mother's, my brother's, and mine,--was purely \n",
            "accidental, because, as we later found out from the neighbors, someone in the \n",
            "crowd shouted that we had firearms up there. Well, we fought, but we were only\n",
            "able to save Mother. We couldn't save Father. We inflicted many injuries on \n",
            "the bandits, some of them serious. But others came to take their places. We \n",
            "were also wounded, there was blood, and we were scratched all over--we got our\n",
            "share. It was a miracle we survived. We were saved by a miracle and the \n",
            "troops. And if troops hadn't come to Sumgait, the slaughter would have been \n",
            "even greater: probably all the Armenians would have been victims of the \n",
            "genocide.\n",
            "\n",
            "Through an acquaintance at the City Party Committee I was able to contact the \n",
            "leadership of the military unit that was brought into the city, and at their \n",
            "orders we were assigned special people to accompany us, experts. We went to '\n",
            "pick up Father's corpse. We took it to the morgue. This was about two o'clock \n",
            "in the morning, it was already March 1, it was raining very hard and it was \n",
            "quite cold, and we were wearing only our suits. When my brother and I carried \n",
            "Father into the morgue we saw the burned and disfigured corpses. There were \n",
            "about six burned people in there, and the small corpse of a burned child. It \n",
            "was gruesome. I suffered a tremendous shock. There were about ten people \n",
            "there, but the doctor on duty said that because of the numbers they were being\n",
            "taken to Baku. There was a woman's corpse there too, she had been . . . well, \n",
            "there was part of a body there . . . a hacked-off part of a woman's body. It \n",
            "was something terrible. The morgue was guarded by the landing force . . . The \n",
            "child that had been killed was only ten or twelve years old. It was impossible\n",
            "to tell if it was a boy or a girl because the corpse was burned. There was a \n",
            "man there, too, several men. You couldn't tell anything because their faces \n",
            "were disfigured, they were in such awful condition...\n",
            "\n",
            "Now two and a half months have passed. Every day I recall with horror what \n",
            "happened in the city of Sumgait. Every day: my father, and the death of my \n",
            "father, and how we fought, and the people's sorrow, and especially the morgue.\n",
            "\n",
            "I still want to say that 70 years have passed since Soviet power was\n",
            "established, and up to the very last minute we could not conceive of what \n",
            "happened  in Sumgait. It will go down in history.\n",
            "\n",
            "I'm particularly surprised that the mob wasn't even afraid of the troops. They\n",
            "even fought the soldiers. Many soldiers were wounded. The mob threw fuel \n",
            "mixtures onto the armored personnel carriers, setting them on fire. They \n",
            "weren't afraid. They were so sure of their impunity that they attacked our \n",
            "troops. I saw the clashes on February 29 near the airline ticket office, right\n",
            "across from our building. And that mob was fighting with the soldiers. The \n",
            "inhabitants of some of the buildings, also Azerbaijanis, threw rocks at the \n",
            "soldiers from windows, balconies, even cinder blocks and glass tanks. They \n",
            "weren't afraid of them. I say they were sure of their impunity. When we were \n",
            "at the neighbors' and when they were robbing homes near the airline ticket \n",
            "office I called the police at number 3-20-02 and said that they were robbing \n",
            "Armenian apartments and burning homes. And they told me that they knew that \n",
            "they were being burned. During those days no one from the police department \n",
            "came to anyone's aid. No one came to help us, either, to our home, even though\n",
            "perhaps they could have come and saved us.\n",
            "\n",
            "As we later found out the mob was given free vodka and drugs, near the bus \n",
            "station. Rocks were distributed in all parts of town to be thrown and used in \n",
            "fighting. So I think all of it was arranged in advance. They even knew in \n",
            "which buildings and apartments the Armenians lived, on which floors--they had\n",
            "lists, the bandits. You can tell that the \"operation\" was  planned in advance.\n",
            "\n",
            "Thanks, of course, to our troops, to the country's leadership, and to the\n",
            "leadership of the Ministry of Defense for helping us, thanks to the Russian\n",
            "people, because the majority of the troops were Russians, and the troops \n",
            "suffered losses, too. I want to express this gratitude in the name of my \n",
            "family and in the name of all Armenians, and in the name of all Sumgait\n",
            "Armenians. For coming in time and averting terrible things: worse would\n",
            "have happened if that mob had not been stopped on time.\n",
            "\n",
            "At present an investigation is being conducted on the part of the USSR\n",
            "Procuracy. I want to say that those bandits should receive the severest\n",
            "possible punishment, because if they don't, the tragedy, the genocide, could \n",
            "happen again. Everyone should see that the most severe punishment is meted\n",
            "out for such deeds.\n",
            "\n",
            "Very many bandits and hardened hooligans took part in the unrest, in the mass \n",
            "disturbances. The mobs were huge. At present not all of them have been caught,\n",
            "very few of them have been, I think, judging by the newspaper reports. There \n",
            "were around 80 people near our building alone, that's how many people took \n",
            "part in the pogrom of our building all in all.\n",
            "\n",
            "They should all receive the most severe punishment so that others see that \n",
            "retribution awaits those who perform such acts.\n",
            "\n",
            "   May 18, 1988\n",
            "   Yerevan\n",
            "\n",
            "\t\t     - - - reference - - -\n",
            "\n",
            "[1] _The Sumgait Tragedy; Pogroms against Armenians in Soviet Azerbaijan,\n",
            "    Volume I, Eyewitness Accounts_, edited by Samuel Shahmuradian, forward by\n",
            "    Yelena Bonner, 1990, published by Aristide D. Caratzas, NY, pages 153-157\n",
            "\n",
            "\n"
          ]
        }
      ],
      "source": [
        "print(f'Class for document {main_idx}: {newsgroups_train.target_names[y_train[main_idx]]}')\n",
        "print(f'Content:\\n{newsgroups_train.data[main_idx]}')"
      ]
    },
    {
      "cell_type": "markdown",
      "metadata": {},
      "source": [
        "Este documento ilustra una tragedia humanitaria, destacando los efectos devastadores del conflicto étnico y la violencia que puede surgir en tiempos de tensión. Además, enfatiza la necesidad de memoria y justicia para las víctimas de tales atrocidades, que siguen marcando la historia y la identidad de los pueblos involucrados. Categorizado en temas políticos de medio oriente"
      ]
    },
    {
      "cell_type": "markdown",
      "metadata": {},
      "source": [
        "Se analizan documentos similares"
      ]
    },
    {
      "cell_type": "code",
      "execution_count": 62,
      "metadata": {},
      "outputs": [
        {
          "name": "stdout",
          "output_type": "stream",
          "text": [
            "\n",
            "Top 5 Similar Documents:\n",
            "--------------------------------------------------\n",
            "\n",
            "==================================================\n",
            "Analyzing Document 9623\n",
            "==================================================\n",
            "Content:\n",
            "Accounts of Anti-Armenian Human Right Violations in Azerbaijan #012\n",
            "                 Prelude to Current Events in Nagorno-Karabakh\n",
            "\n",
            "        +---------------------------------------------------------+\n",
            "\n",
            "\n",
            "Document Class: talk.politics.mideast\n",
            "Reference Document Class: talk.politics.mideast\n",
            "==================================================\n",
            "\n",
            "==================================================\n",
            "Analyzing Document 6437\n",
            "==================================================\n",
            "Content:\n",
            "Accounts of Anti-Armenian Human Rights Violations in Azerbaijan #007\n",
            "                 Prelude to Current Events in Nagorno-Karabakh\n",
            "\n",
            "\n",
            " +----------------------------------------------------------------\n",
            "\n",
            "Document Class: talk.politics.mideast\n",
            "Reference Document Class: talk.politics.mideast\n",
            "==================================================\n",
            "\n",
            "==================================================\n",
            "Analyzing Document 1292\n",
            "==================================================\n",
            "Content:\n",
            "Accounts of Anti-Armenian Human Right Violations in Azerbaijan #008 Part B\n",
            "                 Prelude to Current Events in Nagorno-Karabakh\n",
            "\n",
            "\t\t\t\t(Part B of #008)\n",
            "\n",
            "      +--------------------------------\n",
            "\n",
            "Document Class: talk.politics.mideast\n",
            "Reference Document Class: talk.politics.mideast\n",
            "==================================================\n",
            "\n",
            "==================================================\n",
            "Analyzing Document 3282\n",
            "==================================================\n",
            "Content:\n",
            "DEPOSITION of VITALY NIKOLAYEVICH DANIELIAN [1]\n",
            "\n",
            "\n",
            "          Born 1972\n",
            "          Attended 9th Grade\n",
            "          Middle School No. 17\n",
            "\n",
            "          Resident at Building 4/2, Apartment 25\n",
            "          Microdistr\n",
            "\n",
            "Document Class: talk.politics.mideast\n",
            "Reference Document Class: talk.politics.mideast\n",
            "==================================================\n",
            "\n",
            "==================================================\n",
            "Analyzing Document 7286\n",
            "==================================================\n",
            "Content:\n",
            "Accounts of Anti-Armenian Human Right Violations in Azerbaijan #008 Part A\n",
            "                 Prelude to Current Events in Nagorno-Karabakh\n",
            "\t\n",
            "\t\t\t\t(Part A of #008)\n",
            "\n",
            "      +-------------------------------\n",
            "\n",
            "Document Class: talk.politics.mideast\n",
            "Reference Document Class: talk.politics.mideast\n",
            "==================================================\n"
          ]
        }
      ],
      "source": [
        "analyze_document_similarity(most_similar_idx,\n",
        "                            newsgroups_train.data,\n",
        "                            newsgroups_train.target,\n",
        "                            newsgroups_train.target_names,\n",
        "                            cos_sim, main_idx)"
      ]
    },
    {
      "cell_type": "markdown",
      "metadata": {},
      "source": [
        "Analisis de Similitudes:\n",
        "\n",
        "Los documentos analizados se centran en las violaciones de derechos humanos contra los armenios en Azerbaiyán, especialmente en el contexto de los recientes acontecimientos en la región de Nagorno-Karabaj. La mayoría de los textos siguen una estructura similar, con encabezados que mencionan explícitamente las violaciones y su relación con la situación geopolítica actual. Esta consistencia en el enfoque refleja la gravedad del tema y la necesidad de documentar los abusos sistemáticos que han tenido lugar.\n",
        "\n",
        "Además, algunos de los documentos forman parte de una serie numerada, lo que sugiere un análisis más extenso y continuo de la problemática. La clasificación de todos los textos bajo la categoría talk.politics.mideast resalta su conexión con discusiones políticas sobre el Medio Oriente, subrayando la relevancia de las violaciones de derechos humanos en el marco del conflicto entre armenios y azeríes."
      ]
    },
    {
      "cell_type": "markdown",
      "metadata": {},
      "source": [
        "### Analisis del documento 4859\n",
        "\n",
        "Se obtienen los índices mas similares al documento 4859"
      ]
    },
    {
      "cell_type": "code",
      "execution_count": 63,
      "metadata": {},
      "outputs": [
        {
          "name": "stdout",
          "output_type": "stream",
          "text": [
            "Most similar documents to document 4859: [5745 9681 1128 3864 1459]\n"
          ]
        }
      ],
      "source": [
        "main_idx = 4859\n",
        "\n",
        "# Calculate the cosine similarity between the main document and all the other documents\n",
        "cos_sim = cosine_similarity(X_train[main_idx], X_train)[0]\n",
        "\n",
        "# Get the indices of the most similar documents\n",
        "most_similar_idx = np.argsort(cos_sim)[::-1][1:6]\n",
        "\n",
        "print(f'Most similar documents to document {main_idx}: {most_similar_idx}')"
      ]
    },
    {
      "cell_type": "markdown",
      "metadata": {},
      "source": [
        "Se muestra el contenido del documento seleccionado"
      ]
    },
    {
      "cell_type": "code",
      "execution_count": 64,
      "metadata": {},
      "outputs": [
        {
          "name": "stdout",
          "output_type": "stream",
          "text": [
            "Class for document 4859: comp.graphics\n",
            "Content:\n",
            "================ ------------------------------------------------------------\n",
            " |||||||| SciP+Fi  ction set in C-Sci\\programming environs list by Ian Feldman\n",
            " ..........:::::: ---------------------------------------- ---- --------------\n",
            " Written by:_____ _Book Title_; publisher'year, pp         v2.7           ISBN\n",
            " -----------       =============================== ------- ==== ##############\n",
            "     John Brunner _Shockwave Rider_; Ray/Ballantine'84 $5_______ 0-345-32431-5\n",
            "                   \"cracking the net to free information for the common good\"\n",
            "      Pat Cadigan _Mindplayers_; (\"an absolute must-have\" --Bruce Sterling)\n",
            "      Pat Cadigan _Synners_; Bantam $5; (virtual reality)_______ 0-553-28254-9\n",
            " Orson Scott Card _Lost Boys_; Harper Collins'92; (programmer and family     \\\n",
            "                   encounters strange events in North Carolina)\n",
            "     Denise Danks _Frame Grabber_; St.Martin's, hrdb [GBP]17____ 0-312-08786-1\n",
            "                   computer-illiterate journalix tracks down murderer via BBS\n",
            "    Toni Dwiggins _Interrupt_; (\"a techno-mystery set in Silicon Valley\")\n",
            "    Michael Frayn _The Tin Men_; Fontana, (\"inspired lunacy\" but out of print)\n",
            "    David Gerrold _When HARLIE was One Release 2.0_; Bantam'88__ 0-553-26465-6\n",
            "   William Gibson _Count Zero_; (computers as gods, part of a trilogy)\n",
            "   William Gibson _Mona Lisa Overdrive_; (virtual reality)______ 0-553-28174-7\n",
            "   William Gibson _Burning Chrome_; (cyberpunk short stories)___ 0-441-08934-8\n",
            "   William Gibson _Neuromancer_; (industrial espionage)_________ 0-441-56959-5\n",
            "                   (author guilty of inventing the cyberpunk genre)\n",
            "      James Hogan _The Genesis Machine_; Del Ray'87 $3__________ 0-345-34756-0\n",
            "      James Hogan _Thrice Upon A Time_; (\"time travel for information\")\n",
            "      James Hogan _The Two Faces of Tomorrow_; Del Ray'79_______ 0-345-27517-9\n",
            "                   ultimate test of AI-OS by letting it run a spacelab -> amok\n",
            "    Stanislaw Lem _His Master's Voice_; (failed attempt to decode ET-message)\n",
            "       Tom Maddox _HALO_ (\"remarkable SF of robots & artificial intelligence\")\n",
            " George RR Martin _Nightflyers_; Tor Books'87___________________ 0-8125-4564-8\n",
            "      R A MacAvoy _Tea with the Black Dragon_; (\"mystery around a computer   \\\n",
            "                   fraud situation; computing bits ring true.\")\n",
            " Vonda N McIntyre _Steelcollar Worker_; in Analog Nov'92; (blue-collar VR)\n",
            "     Marge Piercy _Body of Glass_; Penguin'92, 584pp; (data piracy++) review \\\n",
            "                   finger \"books=Body_of_Glass%danny\"@orthanc.cs.su.oz.au\n",
            " ---> David Pogue _Hard-Drive_; Diamond'93 $5, 304pp____________ 1-55773-884-X\n",
            "                   (*programmer dies in accident, leaves no documentation    \\\n",
            "                   behind; software firms fight for market share with virii; \\\n",
            "                   \"right out of the pages of MacWorld\" --Steve Brock)\n",
            "   Richard Powers _The Gold Bug Variations_; Morrow '91, (famous molecular   \\\n",
            "                   scientist ponders on the ?why? of love, life in EDP dept.)\n",
            "      Paul Preuss _Human Error_; (nanotech computer infects brain-damaged kid)\n",
            "    Thomas J Ryan _The Adolescence of P1_; ACE'79_______________ 0-671-55970-2\n",
            "                   (runaway AI experiment takes over mainframes, wrecks havoc)\n",
            "   Bruce Sterling _The Difference Engine_; (with W Gibson) Bantam'91; finger \\\n",
            "                   \"books=The_Difference_Engine%danny\"@orthanc.cs.su.oz.au\n",
            "      Cliff Stoll _The Cuckoo's Egg_; (non-fiction but reads like one); review\n",
            "                   FTP <garbo.uwasa.fi>; /mac/tidbits/1991/tb048_18-Mar-91.etx\n",
            "     Tom T Thomas _ME_; (\"smart computers\")\n",
            "     Vernor Vinge _Across Realtime_; Baen Books_____________ [several titles \\\n",
            "     Vernor Vinge _Tatja Grimm's World_; Baen Books__________ soon available \\\n",
            "     Vernor Vinge _The Witling_; Baen Books___________________ as Millennium \\\n",
            "     Vernor Vinge _Threats and Other Promises_; Baen Books_____ Books in UK]\n",
            "     Vernor Vinge _True Names & Other Dangers_; Baen Books'87___ 0-671-65363-6\n",
            "     Vernor Vinge _A Fire Upon The Deep_; Tor Books, 640p, $6___ 0-8125-1528-5\n",
            "                   (\"essentially about the future of the Internet\")\n",
            "      John Varley _Press Enter_; (\"Short story, gruesome, but good\")\n",
            "       Ed Yourdon _Silent Witness_; (\"Computer crime caper story; gumshoe    \\\n",
            "                   has to explain intricacies of computer OS to girlfriend\")\n",
            " Herbert W Franke _Das Zentrum der Milchstrasse_; (\"the center of the galaxy\")\n",
            " Herbert W Franke _Letzte Programmierer_; (\"'the last programmer';           \\\n",
            "                   I do NOT mean Frank Herbert!\")\n",
            "       Emil Zopfi _Computer Fuer 1001 Nacht_; Limmat Verlag, Switzerland\n",
            "       Emil Zopfi _Jede Minute Kostet 33 Franken_; (last 4 in German; last 2 \\\n",
            "                   \"set in the commercial computing world of the early 70's\")\n",
            " -----------------------------------------------------------------------------\n",
            " current version of this list via `finger \"scip+fi%danny\"@orthanc.cs.su.oz.au'\n",
            " -----------------------------------------------------------------------------\n",
            " compiled 930424; % mail -s \"additions/ comments/ updates --->\" ianf@random.se\n",
            " ================ ============================================= ==============\n",
            "\n",
            "\f\n",
            "\n",
            "     Statistical breakdown\n",
            "--------------------------\n",
            " +-- --------------------- SciP+Fiction -----+------------+------------------+\n",
            " | # nominations /title    ~~~~~~~~~~~~         /author    # books nominated |\n",
            " +-- =========== ----------------------------+ =========== ================= +\n",
            " | 5 _The Adolescence of P-1_; Ryan          |    Vinge 10          6 titles |\n",
            " | 5 _Neuromancer_; Gibson                   |   Gibson 10          5 titles |\n",
            " | 4 _True Names and Other Dangers_; Vinge   |     Ryan  5 _The Adolescence..|\n",
            " | 4 _Shockwave Rider_; Brunner              |  Brunner  4 _Shockwave Rider_ |\n",
            " | 4 _When H.A.R.L.I.E was One_; Gerrold     |  Gerrold  4 _When H.A.R.L.I.E.|\n",
            " | 4 _A Fire Upon The Deep_; Vinge           |    Hogan  3          3 titles |\n",
            " | 2 _Threats and Other Promises_; Vinge     |      Lem  3 _Fiasco_HMV_Solar.|\n",
            " +-- ----------------------------------------+ ----------- ----------------- +\n",
            " | # total nominations: 85; authors: 27; female: 5?6; sent in by: 42 readers |\n",
            " +======== ================ ============ ============ =======================+\n",
            "\n",
            "\n",
            "       Contributions by [unsorted FIFO]:\n",
            "----------------------------------------\n",
            " From: sbrock@teal.csn.org (Steve Brock)\n",
            " From: \"John Lacey\" <johnl@cs.indiana.edu>\n",
            " From: malloy@nprdc.navy.mil (Sean Malloy)\n",
            " From: thom kevin gillespie <thom@silver.ucs.indiana.edu>\n",
            " From: Paul Christopher Workman <pw0l+@andrew.cmu.edu>\n",
            " From: kellys@code3.code3.com (Kelly Sorensen)\n",
            " From: whughes@lonestar.utsa.edu (William W. Hughes)\n",
            " From: North_TJ@cc.curtin.edu.au (Tim North)\n",
            " From: LORETI@FNAL.FNAL.GOV (Maurizio Loreti)\n",
            " From: Stephen Hart <stephenh@cs.mun.ca>\n",
            " From: Duane F Marble <dmarble@magnus.acs.ohio-state.edu>\n",
            " From: Matthias Neeracher <neeri@iis.ee.ethz.ch>\n",
            " From: Wolfram Wagner <ww@mpi-sb.mpg.de>\n",
            " From: webb@tsavo.HKS.COM (Peter Webb)\n",
            " From: setzer@ssd.comm.mot.com (Thomas Setzer)\n",
            " From: kevles@acf3.NYU.EDU (Beth Kevles)\n",
            " From: dp@world.std.com (Jeff DelPapa)\n",
            " From: rsquires@cyclops.eece.unm.edu (Roger Squires)\n",
            " From: hartman@uLogic.com (Richard Hartman)\n",
            " From: Vernor Vinge <vinge%saturn@sdsu.edu>\n",
            " From: Paul Lebeau <plebeau@cix.compulink.co.uk>\n",
            " From: \"Lawrence Rounds\" <ljr@beach.cis.ufl.edu>\n",
            " From: phydeaux@cumc.cornell.edu (David Weingart)\n",
            " From: chgs02@vaxa.strath.ac.uk (By learning+courtesy)\n",
            " From: Rowan Fairgrove <rowanf@cache.crc.ricoh.com>\n",
            " From: peterc@suite.sw.oz.au.sw.oz.au (Peter Chubb,x114,6982322,3982735)\n",
            " From: Gara Pruesse <gara@cs.toronto.edu>\n",
            " From: russell@alpha3.ersys.edmonton.ab.ca (Russell Schulz)\n",
            " From: ahm@spatula.rent.com (Andreas Meyer)\n",
            " From: jon@cs.washington.edu (Jon Jacky)\n",
            " From: eugene@nas.nasa.gov (Eugene N. Miya)\n",
            " From: \"A.M.MAIR\" <CHGS02@VAXB.STRATHCLYDE.AC.UK>\n",
            " From: mengel@dcdmwm.fnal.gov (Marc Mengel)\n",
            " From: Roger Scowen <rss@seg.npl.co.uk>\n",
            " From: kevino@clbooks.com (Kevin Oster -- System Administrator)\n",
            " From: chavey@cs.wisc.edu (Darrah Chavey)\n",
            " From: Vonda McIntyre <mcintyre@cpac.washington.edu>\n",
            " From: Bruce Sterling <bruces@well.sf.ca.us>\n",
            " From: \"Scott Thomas Yabiku\" <yabi@midway.uchicago.edu>\n",
            " From: Thomas Adshead <uad1212@dircon.co.uk>\n",
            " From: Paul Andrews <76050.161@CompuServe.COM>\n",
            " ===== ======================================= ---------> MUCHO thanks to all!\n",
            "\n"
          ]
        }
      ],
      "source": [
        "print(f'Class for document {main_idx}: {newsgroups_train.target_names[y_train[main_idx]]}')\n",
        "print(f'Content:\\n{newsgroups_train.data[main_idx]}')"
      ]
    },
    {
      "cell_type": "markdown",
      "metadata": {},
      "source": [
        "El documento  es una lista de libros de ciencia ficción que exploran temas tecnológicos como inteligencia artificial, realidad virtual y ciberespacio. Curada por Ian Feldman, incluye obras de autores como William Gibson, Pat Cadigan y John Brunner, con breves descripciones y recomendaciones. Esta clasificado como \"comp.graphics\""
      ]
    },
    {
      "cell_type": "markdown",
      "metadata": {},
      "source": [
        "Se analizan documentos similares"
      ]
    },
    {
      "cell_type": "code",
      "execution_count": 65,
      "metadata": {},
      "outputs": [
        {
          "name": "stdout",
          "output_type": "stream",
          "text": [
            "\n",
            "Top 5 Similar Documents:\n",
            "--------------------------------------------------\n",
            "\n",
            "==================================================\n",
            "Analyzing Document 5745\n",
            "==================================================\n",
            "Content:\n",
            "The vote to create the proposed group, Sci.life-extension, was\n",
            "affirmative.\n",
            "\n",
            "Yes votes:    237.\n",
            "No votes:      28.\n",
            "\n",
            "What follows is a list of the people who voted, by vote (\"no\" or \"yes\").\n",
            "\n",
            "Here are t\n",
            "\n",
            "Document Class: sci.med\n",
            "Reference Document Class: comp.graphics\n",
            "==================================================\n",
            "\n",
            "==================================================\n",
            "Analyzing Document 9681\n",
            "==================================================\n",
            "Content:\n",
            "This is the third and final call for votes for the creation of the\n",
            "newsgroup misc.health.diabetes.  A mass acknowledgement of valid votes\n",
            "received as of April 19th 14:00 GMT appears at the end of this\n",
            "\n",
            "Document Class: sci.med\n",
            "Reference Document Class: comp.graphics\n",
            "==================================================\n",
            "\n",
            "==================================================\n",
            "Analyzing Document 1128\n",
            "==================================================\n",
            "Content:\n",
            "* Attention voters:\n",
            "*\n",
            "* I had a problem with my mailbox on the first day of voting.\n",
            "* Please check the Vote Acknowlegement (ACK) at the end of this CFV.\n",
            "* If your name/address is not there, please sen\n",
            "\n",
            "Document Class: comp.sys.ibm.pc.hardware\n",
            "Reference Document Class: comp.graphics\n",
            "==================================================\n",
            "\n",
            "==================================================\n",
            "Analyzing Document 3864\n",
            "==================================================\n",
            "Content:\n",
            "Archive-name: graphics/resources-list/part1\n",
            "Last-modified: 1993/04/17\n",
            "\n",
            "\n",
            "Computer Graphics Resource Listing : WEEKLY POSTING [ PART 1/3 ]\n",
            "===================================================\n",
            "Last Change\n",
            "\n",
            "Document Class: comp.graphics\n",
            "Reference Document Class: comp.graphics\n",
            "==================================================\n",
            "\n",
            "==================================================\n",
            "Analyzing Document 1459\n",
            "==================================================\n",
            "Content:\n",
            "Archive-name: x-faq/part3\n",
            "Last-modified: 1993/04/04\n",
            "\n",
            "----------------------------------------------------------------------\n",
            "Subject:  58)! Where can I get patches to X11R5?\n",
            "\n",
            "\tThe release of new public\n",
            "\n",
            "Document Class: comp.windows.x\n",
            "Reference Document Class: comp.graphics\n",
            "==================================================\n"
          ]
        }
      ],
      "source": [
        "analyze_document_similarity(most_similar_idx,\n",
        "                            newsgroups_train.data,\n",
        "                            newsgroups_train.target,\n",
        "                            newsgroups_train.target_names,\n",
        "                            cos_sim, main_idx)"
      ]
    },
    {
      "cell_type": "markdown",
      "metadata": {},
      "source": [
        "Los documentos de votación (5745, 9681, 1128) comparten similitudes en el formato con el texto original, ya que ambos utilizan listas organizadas (votantes y libros). Sin embargo, presentan diferencias en cuanto al contenido, ya que estos textos están enfocados en la organización de grupos de noticias y procesos de votación, mientras que el documento original se centra en temas literarios, específicamente relacionados con la ciencia ficción y tecnología en libros.\n",
        "\n",
        "Por otro lado, los documentos relacionados con gráficos y recursos (3864, 1459) tienen una mayor similitud temática, ya que pertenecen a la categoría comp.graphics, cercana al contexto técnico del documento original. No obstante, su contenido se inclina más hacia aspectos técnicos, como listados de herramientas y preguntas frecuentes, mientras que el texto original aborda la literatura y las ideas tecnológicas desde una perspectiva más conceptual y narrativa."
      ]
    },
    {
      "cell_type": "markdown",
      "metadata": {},
      "source": [
        "### 2. Entrenamiento de modelos\n",
        "\n",
        "Entrenar modelos de clasificación Naïve Bayes para maximizar el desempeño de clasificación (f1-score macro) en el conjunto de datos de test. Considerar cambiar parámteros de instanciación del vectorizador y los modelos y probar modelos de Naïve Bayes Multinomial y ComplementNB."
      ]
    },
    {
      "cell_type": "markdown",
      "metadata": {},
      "source": [
        "Se definen los conjuntos de entrenamiento y test. También se definen las variables objetivo y las características"
      ]
    },
    {
      "cell_type": "code",
      "execution_count": 66,
      "metadata": {},
      "outputs": [],
      "source": [
        "X_train = newsgroups_train.data\n",
        "y_train = newsgroups_train.target\n",
        "X_test = newsgroups_test.data\n",
        "y_test = newsgroups_test.target"
      ]
    },
    {
      "cell_type": "markdown",
      "metadata": {},
      "source": [
        "Se define un pipeline de procesamiento con TfidfVectorizer y un modelo de Naive Bayes como clasificador."
      ]
    },
    {
      "cell_type": "code",
      "execution_count": 67,
      "metadata": {},
      "outputs": [],
      "source": [
        "pipeline = Pipeline([\n",
        "    ('tfidf', TfidfVectorizer(stop_words='english', max_features=1000)),\n",
        "    ('model', MultinomialNB())\n",
        "])"
      ]
    },
    {
      "cell_type": "markdown",
      "metadata": {},
      "source": [
        "Se define el grid de hiperparámetros para ambos modelos MultinomiaNB y ComplementNB y el TfidfVectorizer"
      ]
    },
    {
      "cell_type": "code",
      "execution_count": 68,
      "metadata": {},
      "outputs": [],
      "source": [
        "param_dist = [\n",
        "    {\n",
        "        'tfidf__max_df': np.linspace(0.5, 0.95, 5), \n",
        "        'tfidf__min_df': [1, 2, 5], \n",
        "        'tfidf__ngram_range': [(1, 1), (1, 2), (1, 3), (2, 3)], \n",
        "        'tfidf__max_features': [5000, 10000], \n",
        "        'tfidf__sublinear_tf': [True, False], \n",
        "        'model': [MultinomialNB()],\n",
        "        'model__alpha': np.linspace(0.01, 1.0, 20), \n",
        "        'model__fit_prior': [True, False]\n",
        "    },\n",
        "    {\n",
        "        'tfidf__max_df': np.linspace(0.5, 0.95, 5),\n",
        "        'tfidf__min_df': [1, 2, 5],\n",
        "        'tfidf__ngram_range': [(1, 1), (1, 2), (1, 3), (2, 3)], \n",
        "        'tfidf__max_features': [5000, 10000],\n",
        "        'tfidf__sublinear_tf': [True, False],\n",
        "        'model': [ComplementNB()],\n",
        "        'model__alpha': np.linspace(0.01, 1.0, 20),\n",
        "        'model__fit_prior': [True, False],\n",
        "        'model__norm': [True, False]\n",
        "    }\n",
        "]"
      ]
    },
    {
      "cell_type": "markdown",
      "metadata": {},
      "source": [
        "Se define una búsqueda aleatoria con F1-score macro como métrica de evaluación para buscar maximiazarlo."
      ]
    },
    {
      "cell_type": "code",
      "execution_count": 69,
      "metadata": {},
      "outputs": [],
      "source": [
        "random_search = RandomizedSearchCV(\n",
        "    pipeline, \n",
        "    param_distributions=param_dist, \n",
        "    n_iter=30,\n",
        "    cv=5, \n",
        "    scoring='f1_macro',\n",
        "    random_state=42, \n",
        "    n_jobs=2  \n",
        ")"
      ]
    },
    {
      "cell_type": "markdown",
      "metadata": {},
      "source": [
        "Se realiza la búsqueda de hiperparámetros y el entrenamiento del mejor modelo."
      ]
    },
    {
      "cell_type": "code",
      "execution_count": 70,
      "metadata": {},
      "outputs": [
        {
          "name": "stdout",
          "output_type": "stream",
          "text": [
            "Mejores Hiperparámetros: {'tfidf__sublinear_tf': True, 'tfidf__ngram_range': (1, 3), 'tfidf__min_df': 5, 'tfidf__max_features': 10000, 'tfidf__max_df': 0.725, 'model__fit_prior': False, 'model__alpha': 0.06210526315789474, 'model': MultinomialNB()}\n",
            "F1 Macro Score: 0.6654099067936965\n"
          ]
        }
      ],
      "source": [
        "random_search.fit(X_train, y_train)\n",
        "\n",
        "# Utilize the best model found by the RandomizedSearchCV\n",
        "best_model = random_search.best_estimator_\n",
        "\n",
        "# Evaluate the best model on the test set\n",
        "y_pred = best_model.predict(X_test)\n",
        "f1 = f1_score(y_test, y_pred, average='macro') \n",
        "\n",
        "print(f\"Mejores Hiperparámetros: {random_search.best_params_}\")\n",
        "print(f\"F1 Macro Score: {f1}\")"
      ]
    },
    {
      "cell_type": "markdown",
      "metadata": {},
      "source": [
        "Se ha realizado una búsqueda de hiperparámetros para los modelos MultinomialNB y ComplementNB. Se ha encontrado que la mejor configuración es la siguiente para el modelo MultinomialNB:\n",
        "\n",
        "* tfidf__sublinear_tf: True\n",
        "* tfidf__ngram_range: (1, 3)\n",
        "* tfidf__min_df: 5\n",
        "* tfidf__max_features: 10000\n",
        "* tfidf__max_df: 0.725\n",
        "* model__fit_prior: False\n",
        "* model__alpha: 0.0621\n",
        "\n",
        "Con esta configuración, se ha logrado un F1 Macro Score de 0.6654.\n",
        "\n",
        "\n",
        "\n",
        "\n",
        "\n",
        "\n"
      ]
    },
    {
      "cell_type": "markdown",
      "metadata": {},
      "source": [
        "### 3. Vectorización de palabras\n",
        "\n",
        "Transponer la matriz documento-término. De esa manera se obtiene una matriz término-documento que puede ser interpretada como una colección de vectorización de palabras. Estudiar ahora similaridad entre palabras tomando 5 palabras y estudiando sus 5 más similares. La elección de palabras no debe ser al azar para evitar la aparición de términos poco interpretables, elegirlas \"manualmente\"."
      ]
    },
    {
      "cell_type": "markdown",
      "metadata": {},
      "source": [
        "Se genera la matriz témino-documento utilizando el vectorizador TF-IDF con los parámetros obtenidos en el punto anterior. Salvo el ngram_range que se ha cambiado a (1, 1) para solo considerar palabras individuales."
      ]
    },
    {
      "cell_type": "code",
      "execution_count": 71,
      "metadata": {},
      "outputs": [],
      "source": [
        "vectorizer = TfidfVectorizer(\n",
        "    stop_words='english', \n",
        "    max_features=10000, \n",
        "    sublinear_tf=True, \n",
        "    ngram_range=(1, 1), \n",
        "    min_df=5, \n",
        "    max_df=0.725\n",
        ")\n",
        "\n",
        "\n",
        "# Fit the vectorizer on the training data\n",
        "X_train_tfidf = vectorizer.fit_transform(newsgroups_train.data)"
      ]
    },
    {
      "cell_type": "markdown",
      "metadata": {},
      "source": [
        "Se transpone la matriz para obtener la matriz término-documento"
      ]
    },
    {
      "cell_type": "code",
      "execution_count": 72,
      "metadata": {},
      "outputs": [
        {
          "name": "stdout",
          "output_type": "stream",
          "text": [
            "Shape of the TF-IDF matrix: (11314, 10000)\n",
            "Number of terms: 10000\n"
          ]
        }
      ],
      "source": [
        "X_terms_docs = X_train_tfidf.T \n",
        "terms = vectorizer.get_feature_names_out() \n",
        "\n",
        "print(f\"Shape of the TF-IDF matrix: {X_train_tfidf.shape}\")\n",
        "print(f\"Number of terms: {len(terms)}\")"
      ]
    },
    {
      "cell_type": "markdown",
      "metadata": {},
      "source": [
        "Se seleccionarán cinco palabras que se consideran relevantes para el análisis de los documentos"
      ]
    }
  ],
  "metadata": {
    "colab": {
      "provenance": []
    },
    "kernelspec": {
      "display_name": "Python 3",
      "name": "python3"
    },
    "language_info": {
      "codemirror_mode": {
        "name": "ipython",
        "version": 3
      },
      "file_extension": ".py",
      "mimetype": "text/x-python",
      "name": "python",
      "nbconvert_exporter": "python",
      "pygments_lexer": "ipython3",
      "version": "3.11.5"
    }
  },
  "nbformat": 4,
  "nbformat_minor": 0
}

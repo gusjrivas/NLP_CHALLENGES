{
 "cells": [
  {
   "cell_type": "markdown",
   "metadata": {},
   "source": [
    "# Consigna del desafío 2\n",
    "- Crear sus propios vectores con Gensim\n",
    "basado en lo visto en clase con otro\n",
    "dataset.\n",
    "\n",
    "- Probar términos de interés y explicar\n",
    "similitudes en el espacio de embeddings.\n",
    "\n",
    "- Intentar plantear y probar tests de\n",
    "analogías. \n",
    "- Graficar los embeddings\n",
    "resultantes.\n",
    "- Sacar conclusiones."
   ]
  },
  {
   "cell_type": "markdown",
   "metadata": {},
   "source": []
  }
 ],
 "metadata": {
  "language_info": {
   "name": "python"
  }
 },
 "nbformat": 4,
 "nbformat_minor": 2
}
